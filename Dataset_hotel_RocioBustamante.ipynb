{
  "nbformat": 4,
  "nbformat_minor": 0,
  "metadata": {
    "colab": {
      "provenance": []
    },
    "kernelspec": {
      "name": "python3",
      "display_name": "Python 3"
    },
    "language_info": {
      "name": "python"
    }
  },
  "cells": [
    {
      "cell_type": "markdown",
      "source": [
        "#**PROYECTO INN HOTEL, ROCIO BUSTAMANTE**\n"
      ],
      "metadata": {
        "id": "Kuji_eAGHEu9"
      }
    },
    {
      "cell_type": "markdown",
      "source": [
        "### **Lectura del dataset**\n",
        "\n"
      ],
      "metadata": {
        "id": "7Op9U3PM3crz"
      }
    },
    {
      "cell_type": "code",
      "execution_count": 224,
      "metadata": {
        "id": "IePrcSMWEh9N",
        "cellView": "form"
      },
      "outputs": [],
      "source": [
        "# @title\n",
        "# Importo librería \"pandas\" y \"numpy\" las renombro como \"pd\" y \"np\" para mejorar su uso.\n",
        "import pandas as pd\n",
        "import numpy as np"
      ]
    },
    {
      "cell_type": "code",
      "source": [
        "# @title\n",
        "# Importo drive de google.colab para cargar el dataset.\n",
        "from google.colab import drive\n",
        "drive.mount('/content/drive')"
      ],
      "metadata": {
        "colab": {
          "base_uri": "https://localhost:8080/"
        },
        "id": "tBaAy0S3FmnY",
        "outputId": "0d03fbd2-4bbf-4186-fefa-40896dfc2da5",
        "cellView": "form"
      },
      "execution_count": 225,
      "outputs": [
        {
          "output_type": "stream",
          "name": "stdout",
          "text": [
            "Drive already mounted at /content/drive; to attempt to forcibly remount, call drive.mount(\"/content/drive\", force_remount=True).\n"
          ]
        }
      ]
    },
    {
      "cell_type": "code",
      "source": [
        "# @title\n",
        "# Cargo el archivo.\n",
        "%cd /content/drive/MyDrive/DATA\\ SCIENTIST"
      ],
      "metadata": {
        "colab": {
          "base_uri": "https://localhost:8080/"
        },
        "id": "2J-wJc79Fvj7",
        "outputId": "b531edce-2830-475b-bba2-15e2f41e27f7",
        "cellView": "form"
      },
      "execution_count": 226,
      "outputs": [
        {
          "output_type": "stream",
          "name": "stdout",
          "text": [
            "/content/drive/MyDrive/DATA SCIENTIST\n"
          ]
        }
      ]
    },
    {
      "cell_type": "markdown",
      "source": [
        "###**DESCRIPCION DEL PROYECTO Y CONTEXTO**"
      ],
      "metadata": {
        "id": "LvXNMI9wNbN1"
      }
    },
    {
      "cell_type": "markdown",
      "source": [
        "Un número importante de reservas de hotel se cancelan debido a cancelaciones o no presentaciones. Las razones típicas de las cancelaciones incluyen cambios de planes, conflictos de programación, etc. Esto a menudo se ve facilitado por la opción de hacerlo de forma gratuita o preferiblemente a bajo costo, lo cual es beneficioso para los huéspedes del hotel, pero es una opción menos deseable y posiblemente rentable. -factor decreciente que deben afrontar los hoteles. Estas pérdidas son especialmente elevadas en el caso de cancelaciones de última hora.\n",
        "\n",
        "Las nuevas tecnologías que implican los canales de reservas online han cambiado drásticamente las posibilidades y el comportamiento de reserva de los clientes. Esto añade una dimensión adicional al desafío de cómo los hoteles manejan las cancelaciones, que ya no se limitan a las reservas tradicionales y las características de los huéspedes.\n",
        "\n",
        "La cancelación de reservas impacta a un hotel en varios frentes:\n",
        "\n",
        "Pérdida de recursos (ingresos) cuando el hotel no puede revender la habitación. Costes adicionales de los canales de distribución aumentando las comisiones o pagando publicidad para ayudar a vender estas salas. Bajar los precios en el último momento, para que el hotel pueda revender una habitación, lo que se traduce en una reducción del margen de beneficio. Recursos humanos para hacer arreglos para los invitados.\n",
        "\n"
      ],
      "metadata": {
        "id": "WAnSZ23RHPGQ"
      }
    },
    {
      "cell_type": "markdown",
      "source": [
        "### **OBJETIVO**\n",
        "\n",
        "Teniendo en cuenta la cantidad de cancelaciones en los años 2017 y 2018. El creciente número de cancelaciones exige una solución basada en aprendizaje automático que pueda ayudar a predecir cuantas cancelaciones podría haber en los años posteriores, qué reservas son las que tienen mayor tendencia a ser canceladas. Además podría predecir si habrá un incremento de reservas en los próximos años y en que meses habrá más demanda. Creando así políticas rentables para cancelaciones y reembolsos, y brindar una mejora en el servicio."
      ],
      "metadata": {
        "id": "ZR-F8zkTNv7w"
      }
    },
    {
      "cell_type": "markdown",
      "source": [
        "### **AUDIENCIA**\n",
        "\n",
        "La resolución de este problema puede ser de gran utilidad para cadenas de hotelería y turismo."
      ],
      "metadata": {
        "id": "ouDiYLsWuWnI"
      }
    },
    {
      "cell_type": "markdown",
      "source": [
        "## **Comienzo con el proceso de EDA**"
      ],
      "metadata": {
        "id": "QOMB34X054no"
      }
    },
    {
      "cell_type": "markdown",
      "source": [
        "### **Data Wrangling**\n",
        "\n",
        "A continuación se realiza el descubimiento del dataset:\n",
        "\n",
        "Buscamos conocer la cantidad de columnas y filas, el contenido de las mismas, el tipo de dato de cada columna y si hay, o no, datos nulos, también exploramos en las columnas numéricas la mediana, el mínimo, el máximo, etc."
      ],
      "metadata": {
        "id": "VxqwLuism1Dl"
      }
    },
    {
      "cell_type": "code",
      "source": [
        "# @title\n",
        "Inn = pd.read_csv('INNHotelsGroup.csv')\n",
        "\"\"\"Args: lectura del csv.\n",
        "        Parámetros:\n",
        "   Inn : variable que contiene el dataset.\n",
        "   pd.read_csv() : Lectura del archivo\n",
        "   INNHotelsGroup.csv: nombre del archivo\n",
        "\n",
        "  Print() : Imprime las columnas de la variable Inn.\"\"\"\n",
        "\n",
        "print(Inn.columns)"
      ],
      "metadata": {
        "colab": {
          "base_uri": "https://localhost:8080/"
        },
        "id": "Nz1QUUM6G7uC",
        "outputId": "e72e3b3b-752d-4939-8499-ad48c2de3964",
        "cellView": "form"
      },
      "execution_count": 227,
      "outputs": [
        {
          "output_type": "stream",
          "name": "stdout",
          "text": [
            "Index(['Booking_ID', 'no_of_adults', 'no_of_children', 'no_of_weekend_nights',\n",
            "       'no_of_week_nights', 'type_of_meal_plan', 'required_car_parking_space',\n",
            "       'room_type_reserved', 'lead_time', 'arrival_year', 'arrival_month',\n",
            "       'arrival_date', 'market_segment_type', 'repeated_guest',\n",
            "       'no_of_previous_cancellations', 'no_of_previous_bookings_not_canceled',\n",
            "       'avg_price_per_room', 'no_of_special_requests', 'booking_status'],\n",
            "      dtype='object')\n"
          ]
        }
      ]
    },
    {
      "cell_type": "code",
      "source": [
        "# @title\n",
        "# La función \"shape\" devuelve una tupla que contiene el número de filas y columnas.\n",
        "Inn.shape"
      ],
      "metadata": {
        "colab": {
          "base_uri": "https://localhost:8080/"
        },
        "id": "qb4IObh9Heve",
        "outputId": "8022761b-526b-4142-dbcc-bea8da27ed73",
        "cellView": "form"
      },
      "execution_count": 228,
      "outputs": [
        {
          "output_type": "execute_result",
          "data": {
            "text/plain": [
              "(36275, 19)"
            ]
          },
          "metadata": {},
          "execution_count": 228
        }
      ]
    },
    {
      "cell_type": "code",
      "source": [
        "# @title\n",
        "# La función \"head\" muestra las primeras filas del DataFrame. Esto proporciona una vista rápida de los datos sin tener que mostrar el conjunto de datos completo.\n",
        "Inn.head()"
      ],
      "metadata": {
        "colab": {
          "base_uri": "https://localhost:8080/",
          "height": 226
        },
        "id": "J8P6igEKHmI3",
        "outputId": "5cc3150d-2b8e-4a90-c07b-63b72a3e6095",
        "cellView": "form"
      },
      "execution_count": 229,
      "outputs": [
        {
          "output_type": "execute_result",
          "data": {
            "text/plain": [
              "  Booking_ID  no_of_adults  no_of_children  no_of_weekend_nights  \\\n",
              "0   INN00001             2               0                     1   \n",
              "1   INN00002             2               0                     2   \n",
              "2   INN00003             1               0                     2   \n",
              "3   INN00004             2               0                     0   \n",
              "4   INN00005             2               0                     1   \n",
              "\n",
              "   no_of_week_nights type_of_meal_plan  required_car_parking_space  \\\n",
              "0                  2       Meal Plan 1                           0   \n",
              "1                  3      Not Selected                           0   \n",
              "2                  1       Meal Plan 1                           0   \n",
              "3                  2       Meal Plan 1                           0   \n",
              "4                  1      Not Selected                           0   \n",
              "\n",
              "  room_type_reserved  lead_time  arrival_year  arrival_month  arrival_date  \\\n",
              "0        Room_Type 1        224          2017             10             2   \n",
              "1        Room_Type 1          5          2018             11             6   \n",
              "2        Room_Type 1          1          2018              2            28   \n",
              "3        Room_Type 1        211          2018              5            20   \n",
              "4        Room_Type 1         48          2018              4            11   \n",
              "\n",
              "  market_segment_type  repeated_guest  no_of_previous_cancellations  \\\n",
              "0             Offline               0                             0   \n",
              "1              Online               0                             0   \n",
              "2              Online               0                             0   \n",
              "3              Online               0                             0   \n",
              "4              Online               0                             0   \n",
              "\n",
              "   no_of_previous_bookings_not_canceled  avg_price_per_room  \\\n",
              "0                                     0               65.00   \n",
              "1                                     0              106.68   \n",
              "2                                     0               60.00   \n",
              "3                                     0              100.00   \n",
              "4                                     0               94.50   \n",
              "\n",
              "   no_of_special_requests booking_status  \n",
              "0                       0   Not_Canceled  \n",
              "1                       1   Not_Canceled  \n",
              "2                       0       Canceled  \n",
              "3                       0       Canceled  \n",
              "4                       0       Canceled  "
            ],
            "text/html": [
              "\n",
              "  <div id=\"df-277097ef-8b23-4031-8f26-1e78f9af39b1\" class=\"colab-df-container\">\n",
              "    <div>\n",
              "<style scoped>\n",
              "    .dataframe tbody tr th:only-of-type {\n",
              "        vertical-align: middle;\n",
              "    }\n",
              "\n",
              "    .dataframe tbody tr th {\n",
              "        vertical-align: top;\n",
              "    }\n",
              "\n",
              "    .dataframe thead th {\n",
              "        text-align: right;\n",
              "    }\n",
              "</style>\n",
              "<table border=\"1\" class=\"dataframe\">\n",
              "  <thead>\n",
              "    <tr style=\"text-align: right;\">\n",
              "      <th></th>\n",
              "      <th>Booking_ID</th>\n",
              "      <th>no_of_adults</th>\n",
              "      <th>no_of_children</th>\n",
              "      <th>no_of_weekend_nights</th>\n",
              "      <th>no_of_week_nights</th>\n",
              "      <th>type_of_meal_plan</th>\n",
              "      <th>required_car_parking_space</th>\n",
              "      <th>room_type_reserved</th>\n",
              "      <th>lead_time</th>\n",
              "      <th>arrival_year</th>\n",
              "      <th>arrival_month</th>\n",
              "      <th>arrival_date</th>\n",
              "      <th>market_segment_type</th>\n",
              "      <th>repeated_guest</th>\n",
              "      <th>no_of_previous_cancellations</th>\n",
              "      <th>no_of_previous_bookings_not_canceled</th>\n",
              "      <th>avg_price_per_room</th>\n",
              "      <th>no_of_special_requests</th>\n",
              "      <th>booking_status</th>\n",
              "    </tr>\n",
              "  </thead>\n",
              "  <tbody>\n",
              "    <tr>\n",
              "      <th>0</th>\n",
              "      <td>INN00001</td>\n",
              "      <td>2</td>\n",
              "      <td>0</td>\n",
              "      <td>1</td>\n",
              "      <td>2</td>\n",
              "      <td>Meal Plan 1</td>\n",
              "      <td>0</td>\n",
              "      <td>Room_Type 1</td>\n",
              "      <td>224</td>\n",
              "      <td>2017</td>\n",
              "      <td>10</td>\n",
              "      <td>2</td>\n",
              "      <td>Offline</td>\n",
              "      <td>0</td>\n",
              "      <td>0</td>\n",
              "      <td>0</td>\n",
              "      <td>65.00</td>\n",
              "      <td>0</td>\n",
              "      <td>Not_Canceled</td>\n",
              "    </tr>\n",
              "    <tr>\n",
              "      <th>1</th>\n",
              "      <td>INN00002</td>\n",
              "      <td>2</td>\n",
              "      <td>0</td>\n",
              "      <td>2</td>\n",
              "      <td>3</td>\n",
              "      <td>Not Selected</td>\n",
              "      <td>0</td>\n",
              "      <td>Room_Type 1</td>\n",
              "      <td>5</td>\n",
              "      <td>2018</td>\n",
              "      <td>11</td>\n",
              "      <td>6</td>\n",
              "      <td>Online</td>\n",
              "      <td>0</td>\n",
              "      <td>0</td>\n",
              "      <td>0</td>\n",
              "      <td>106.68</td>\n",
              "      <td>1</td>\n",
              "      <td>Not_Canceled</td>\n",
              "    </tr>\n",
              "    <tr>\n",
              "      <th>2</th>\n",
              "      <td>INN00003</td>\n",
              "      <td>1</td>\n",
              "      <td>0</td>\n",
              "      <td>2</td>\n",
              "      <td>1</td>\n",
              "      <td>Meal Plan 1</td>\n",
              "      <td>0</td>\n",
              "      <td>Room_Type 1</td>\n",
              "      <td>1</td>\n",
              "      <td>2018</td>\n",
              "      <td>2</td>\n",
              "      <td>28</td>\n",
              "      <td>Online</td>\n",
              "      <td>0</td>\n",
              "      <td>0</td>\n",
              "      <td>0</td>\n",
              "      <td>60.00</td>\n",
              "      <td>0</td>\n",
              "      <td>Canceled</td>\n",
              "    </tr>\n",
              "    <tr>\n",
              "      <th>3</th>\n",
              "      <td>INN00004</td>\n",
              "      <td>2</td>\n",
              "      <td>0</td>\n",
              "      <td>0</td>\n",
              "      <td>2</td>\n",
              "      <td>Meal Plan 1</td>\n",
              "      <td>0</td>\n",
              "      <td>Room_Type 1</td>\n",
              "      <td>211</td>\n",
              "      <td>2018</td>\n",
              "      <td>5</td>\n",
              "      <td>20</td>\n",
              "      <td>Online</td>\n",
              "      <td>0</td>\n",
              "      <td>0</td>\n",
              "      <td>0</td>\n",
              "      <td>100.00</td>\n",
              "      <td>0</td>\n",
              "      <td>Canceled</td>\n",
              "    </tr>\n",
              "    <tr>\n",
              "      <th>4</th>\n",
              "      <td>INN00005</td>\n",
              "      <td>2</td>\n",
              "      <td>0</td>\n",
              "      <td>1</td>\n",
              "      <td>1</td>\n",
              "      <td>Not Selected</td>\n",
              "      <td>0</td>\n",
              "      <td>Room_Type 1</td>\n",
              "      <td>48</td>\n",
              "      <td>2018</td>\n",
              "      <td>4</td>\n",
              "      <td>11</td>\n",
              "      <td>Online</td>\n",
              "      <td>0</td>\n",
              "      <td>0</td>\n",
              "      <td>0</td>\n",
              "      <td>94.50</td>\n",
              "      <td>0</td>\n",
              "      <td>Canceled</td>\n",
              "    </tr>\n",
              "  </tbody>\n",
              "</table>\n",
              "</div>\n",
              "    <div class=\"colab-df-buttons\">\n",
              "\n",
              "  <div class=\"colab-df-container\">\n",
              "    <button class=\"colab-df-convert\" onclick=\"convertToInteractive('df-277097ef-8b23-4031-8f26-1e78f9af39b1')\"\n",
              "            title=\"Convert this dataframe to an interactive table.\"\n",
              "            style=\"display:none;\">\n",
              "\n",
              "  <svg xmlns=\"http://www.w3.org/2000/svg\" height=\"24px\" viewBox=\"0 -960 960 960\">\n",
              "    <path d=\"M120-120v-720h720v720H120Zm60-500h600v-160H180v160Zm220 220h160v-160H400v160Zm0 220h160v-160H400v160ZM180-400h160v-160H180v160Zm440 0h160v-160H620v160ZM180-180h160v-160H180v160Zm440 0h160v-160H620v160Z\"/>\n",
              "  </svg>\n",
              "    </button>\n",
              "\n",
              "  <style>\n",
              "    .colab-df-container {\n",
              "      display:flex;\n",
              "      gap: 12px;\n",
              "    }\n",
              "\n",
              "    .colab-df-convert {\n",
              "      background-color: #E8F0FE;\n",
              "      border: none;\n",
              "      border-radius: 50%;\n",
              "      cursor: pointer;\n",
              "      display: none;\n",
              "      fill: #1967D2;\n",
              "      height: 32px;\n",
              "      padding: 0 0 0 0;\n",
              "      width: 32px;\n",
              "    }\n",
              "\n",
              "    .colab-df-convert:hover {\n",
              "      background-color: #E2EBFA;\n",
              "      box-shadow: 0px 1px 2px rgba(60, 64, 67, 0.3), 0px 1px 3px 1px rgba(60, 64, 67, 0.15);\n",
              "      fill: #174EA6;\n",
              "    }\n",
              "\n",
              "    .colab-df-buttons div {\n",
              "      margin-bottom: 4px;\n",
              "    }\n",
              "\n",
              "    [theme=dark] .colab-df-convert {\n",
              "      background-color: #3B4455;\n",
              "      fill: #D2E3FC;\n",
              "    }\n",
              "\n",
              "    [theme=dark] .colab-df-convert:hover {\n",
              "      background-color: #434B5C;\n",
              "      box-shadow: 0px 1px 3px 1px rgba(0, 0, 0, 0.15);\n",
              "      filter: drop-shadow(0px 1px 2px rgba(0, 0, 0, 0.3));\n",
              "      fill: #FFFFFF;\n",
              "    }\n",
              "  </style>\n",
              "\n",
              "    <script>\n",
              "      const buttonEl =\n",
              "        document.querySelector('#df-277097ef-8b23-4031-8f26-1e78f9af39b1 button.colab-df-convert');\n",
              "      buttonEl.style.display =\n",
              "        google.colab.kernel.accessAllowed ? 'block' : 'none';\n",
              "\n",
              "      async function convertToInteractive(key) {\n",
              "        const element = document.querySelector('#df-277097ef-8b23-4031-8f26-1e78f9af39b1');\n",
              "        const dataTable =\n",
              "          await google.colab.kernel.invokeFunction('convertToInteractive',\n",
              "                                                    [key], {});\n",
              "        if (!dataTable) return;\n",
              "\n",
              "        const docLinkHtml = 'Like what you see? Visit the ' +\n",
              "          '<a target=\"_blank\" href=https://colab.research.google.com/notebooks/data_table.ipynb>data table notebook</a>'\n",
              "          + ' to learn more about interactive tables.';\n",
              "        element.innerHTML = '';\n",
              "        dataTable['output_type'] = 'display_data';\n",
              "        await google.colab.output.renderOutput(dataTable, element);\n",
              "        const docLink = document.createElement('div');\n",
              "        docLink.innerHTML = docLinkHtml;\n",
              "        element.appendChild(docLink);\n",
              "      }\n",
              "    </script>\n",
              "  </div>\n",
              "\n",
              "\n",
              "<div id=\"df-d33a133f-99dc-4327-b834-17934ff5403c\">\n",
              "  <button class=\"colab-df-quickchart\" onclick=\"quickchart('df-d33a133f-99dc-4327-b834-17934ff5403c')\"\n",
              "            title=\"Suggest charts\"\n",
              "            style=\"display:none;\">\n",
              "\n",
              "<svg xmlns=\"http://www.w3.org/2000/svg\" height=\"24px\"viewBox=\"0 0 24 24\"\n",
              "     width=\"24px\">\n",
              "    <g>\n",
              "        <path d=\"M19 3H5c-1.1 0-2 .9-2 2v14c0 1.1.9 2 2 2h14c1.1 0 2-.9 2-2V5c0-1.1-.9-2-2-2zM9 17H7v-7h2v7zm4 0h-2V7h2v10zm4 0h-2v-4h2v4z\"/>\n",
              "    </g>\n",
              "</svg>\n",
              "  </button>\n",
              "\n",
              "<style>\n",
              "  .colab-df-quickchart {\n",
              "      --bg-color: #E8F0FE;\n",
              "      --fill-color: #1967D2;\n",
              "      --hover-bg-color: #E2EBFA;\n",
              "      --hover-fill-color: #174EA6;\n",
              "      --disabled-fill-color: #AAA;\n",
              "      --disabled-bg-color: #DDD;\n",
              "  }\n",
              "\n",
              "  [theme=dark] .colab-df-quickchart {\n",
              "      --bg-color: #3B4455;\n",
              "      --fill-color: #D2E3FC;\n",
              "      --hover-bg-color: #434B5C;\n",
              "      --hover-fill-color: #FFFFFF;\n",
              "      --disabled-bg-color: #3B4455;\n",
              "      --disabled-fill-color: #666;\n",
              "  }\n",
              "\n",
              "  .colab-df-quickchart {\n",
              "    background-color: var(--bg-color);\n",
              "    border: none;\n",
              "    border-radius: 50%;\n",
              "    cursor: pointer;\n",
              "    display: none;\n",
              "    fill: var(--fill-color);\n",
              "    height: 32px;\n",
              "    padding: 0;\n",
              "    width: 32px;\n",
              "  }\n",
              "\n",
              "  .colab-df-quickchart:hover {\n",
              "    background-color: var(--hover-bg-color);\n",
              "    box-shadow: 0 1px 2px rgba(60, 64, 67, 0.3), 0 1px 3px 1px rgba(60, 64, 67, 0.15);\n",
              "    fill: var(--button-hover-fill-color);\n",
              "  }\n",
              "\n",
              "  .colab-df-quickchart-complete:disabled,\n",
              "  .colab-df-quickchart-complete:disabled:hover {\n",
              "    background-color: var(--disabled-bg-color);\n",
              "    fill: var(--disabled-fill-color);\n",
              "    box-shadow: none;\n",
              "  }\n",
              "\n",
              "  .colab-df-spinner {\n",
              "    border: 2px solid var(--fill-color);\n",
              "    border-color: transparent;\n",
              "    border-bottom-color: var(--fill-color);\n",
              "    animation:\n",
              "      spin 1s steps(1) infinite;\n",
              "  }\n",
              "\n",
              "  @keyframes spin {\n",
              "    0% {\n",
              "      border-color: transparent;\n",
              "      border-bottom-color: var(--fill-color);\n",
              "      border-left-color: var(--fill-color);\n",
              "    }\n",
              "    20% {\n",
              "      border-color: transparent;\n",
              "      border-left-color: var(--fill-color);\n",
              "      border-top-color: var(--fill-color);\n",
              "    }\n",
              "    30% {\n",
              "      border-color: transparent;\n",
              "      border-left-color: var(--fill-color);\n",
              "      border-top-color: var(--fill-color);\n",
              "      border-right-color: var(--fill-color);\n",
              "    }\n",
              "    40% {\n",
              "      border-color: transparent;\n",
              "      border-right-color: var(--fill-color);\n",
              "      border-top-color: var(--fill-color);\n",
              "    }\n",
              "    60% {\n",
              "      border-color: transparent;\n",
              "      border-right-color: var(--fill-color);\n",
              "    }\n",
              "    80% {\n",
              "      border-color: transparent;\n",
              "      border-right-color: var(--fill-color);\n",
              "      border-bottom-color: var(--fill-color);\n",
              "    }\n",
              "    90% {\n",
              "      border-color: transparent;\n",
              "      border-bottom-color: var(--fill-color);\n",
              "    }\n",
              "  }\n",
              "</style>\n",
              "\n",
              "  <script>\n",
              "    async function quickchart(key) {\n",
              "      const quickchartButtonEl =\n",
              "        document.querySelector('#' + key + ' button');\n",
              "      quickchartButtonEl.disabled = true;  // To prevent multiple clicks.\n",
              "      quickchartButtonEl.classList.add('colab-df-spinner');\n",
              "      try {\n",
              "        const charts = await google.colab.kernel.invokeFunction(\n",
              "            'suggestCharts', [key], {});\n",
              "      } catch (error) {\n",
              "        console.error('Error during call to suggestCharts:', error);\n",
              "      }\n",
              "      quickchartButtonEl.classList.remove('colab-df-spinner');\n",
              "      quickchartButtonEl.classList.add('colab-df-quickchart-complete');\n",
              "    }\n",
              "    (() => {\n",
              "      let quickchartButtonEl =\n",
              "        document.querySelector('#df-d33a133f-99dc-4327-b834-17934ff5403c button');\n",
              "      quickchartButtonEl.style.display =\n",
              "        google.colab.kernel.accessAllowed ? 'block' : 'none';\n",
              "    })();\n",
              "  </script>\n",
              "</div>\n",
              "\n",
              "    </div>\n",
              "  </div>\n"
            ],
            "application/vnd.google.colaboratory.intrinsic+json": {
              "type": "dataframe",
              "variable_name": "Inn",
              "summary": "{\n  \"name\": \"Inn\",\n  \"rows\": 36275,\n  \"fields\": [\n    {\n      \"column\": \"Booking_ID\",\n      \"properties\": {\n        \"dtype\": \"string\",\n        \"num_unique_values\": 36275,\n        \"samples\": [\n          \"INN04969\",\n          \"INN34541\",\n          \"INN36109\"\n        ],\n        \"semantic_type\": \"\",\n        \"description\": \"\"\n      }\n    },\n    {\n      \"column\": \"no_of_adults\",\n      \"properties\": {\n        \"dtype\": \"number\",\n        \"std\": 0,\n        \"min\": 0,\n        \"max\": 4,\n        \"num_unique_values\": 5,\n        \"samples\": [\n          1,\n          4,\n          3\n        ],\n        \"semantic_type\": \"\",\n        \"description\": \"\"\n      }\n    },\n    {\n      \"column\": \"no_of_children\",\n      \"properties\": {\n        \"dtype\": \"number\",\n        \"std\": 0,\n        \"min\": 0,\n        \"max\": 10,\n        \"num_unique_values\": 6,\n        \"samples\": [\n          0,\n          2,\n          9\n        ],\n        \"semantic_type\": \"\",\n        \"description\": \"\"\n      }\n    },\n    {\n      \"column\": \"no_of_weekend_nights\",\n      \"properties\": {\n        \"dtype\": \"number\",\n        \"std\": 0,\n        \"min\": 0,\n        \"max\": 7,\n        \"num_unique_values\": 8,\n        \"samples\": [\n          2,\n          6,\n          1\n        ],\n        \"semantic_type\": \"\",\n        \"description\": \"\"\n      }\n    },\n    {\n      \"column\": \"no_of_week_nights\",\n      \"properties\": {\n        \"dtype\": \"number\",\n        \"std\": 1,\n        \"min\": 0,\n        \"max\": 17,\n        \"num_unique_values\": 18,\n        \"samples\": [\n          2,\n          3,\n          11\n        ],\n        \"semantic_type\": \"\",\n        \"description\": \"\"\n      }\n    },\n    {\n      \"column\": \"type_of_meal_plan\",\n      \"properties\": {\n        \"dtype\": \"category\",\n        \"num_unique_values\": 4,\n        \"samples\": [\n          \"Not Selected\",\n          \"Meal Plan 3\",\n          \"Meal Plan 1\"\n        ],\n        \"semantic_type\": \"\",\n        \"description\": \"\"\n      }\n    },\n    {\n      \"column\": \"required_car_parking_space\",\n      \"properties\": {\n        \"dtype\": \"number\",\n        \"std\": 0,\n        \"min\": 0,\n        \"max\": 1,\n        \"num_unique_values\": 2,\n        \"samples\": [\n          1,\n          0\n        ],\n        \"semantic_type\": \"\",\n        \"description\": \"\"\n      }\n    },\n    {\n      \"column\": \"room_type_reserved\",\n      \"properties\": {\n        \"dtype\": \"category\",\n        \"num_unique_values\": 7,\n        \"samples\": [\n          \"Room_Type 1\",\n          \"Room_Type 4\"\n        ],\n        \"semantic_type\": \"\",\n        \"description\": \"\"\n      }\n    },\n    {\n      \"column\": \"lead_time\",\n      \"properties\": {\n        \"dtype\": \"number\",\n        \"std\": 85,\n        \"min\": 0,\n        \"max\": 443,\n        \"num_unique_values\": 352,\n        \"samples\": [\n          176,\n          81\n        ],\n        \"semantic_type\": \"\",\n        \"description\": \"\"\n      }\n    },\n    {\n      \"column\": \"arrival_year\",\n      \"properties\": {\n        \"dtype\": \"number\",\n        \"std\": 0,\n        \"min\": 2017,\n        \"max\": 2018,\n        \"num_unique_values\": 2,\n        \"samples\": [\n          2018,\n          2017\n        ],\n        \"semantic_type\": \"\",\n        \"description\": \"\"\n      }\n    },\n    {\n      \"column\": \"arrival_month\",\n      \"properties\": {\n        \"dtype\": \"number\",\n        \"std\": 3,\n        \"min\": 1,\n        \"max\": 12,\n        \"num_unique_values\": 12,\n        \"samples\": [\n          3,\n          8\n        ],\n        \"semantic_type\": \"\",\n        \"description\": \"\"\n      }\n    },\n    {\n      \"column\": \"arrival_date\",\n      \"properties\": {\n        \"dtype\": \"number\",\n        \"std\": 8,\n        \"min\": 1,\n        \"max\": 31,\n        \"num_unique_values\": 31,\n        \"samples\": [\n          31,\n          21\n        ],\n        \"semantic_type\": \"\",\n        \"description\": \"\"\n      }\n    },\n    {\n      \"column\": \"market_segment_type\",\n      \"properties\": {\n        \"dtype\": \"category\",\n        \"num_unique_values\": 5,\n        \"samples\": [\n          \"Online\",\n          \"Complementary\"\n        ],\n        \"semantic_type\": \"\",\n        \"description\": \"\"\n      }\n    },\n    {\n      \"column\": \"repeated_guest\",\n      \"properties\": {\n        \"dtype\": \"number\",\n        \"std\": 0,\n        \"min\": 0,\n        \"max\": 1,\n        \"num_unique_values\": 2,\n        \"samples\": [\n          1,\n          0\n        ],\n        \"semantic_type\": \"\",\n        \"description\": \"\"\n      }\n    },\n    {\n      \"column\": \"no_of_previous_cancellations\",\n      \"properties\": {\n        \"dtype\": \"number\",\n        \"std\": 0,\n        \"min\": 0,\n        \"max\": 13,\n        \"num_unique_values\": 9,\n        \"samples\": [\n          13,\n          3\n        ],\n        \"semantic_type\": \"\",\n        \"description\": \"\"\n      }\n    },\n    {\n      \"column\": \"no_of_previous_bookings_not_canceled\",\n      \"properties\": {\n        \"dtype\": \"number\",\n        \"std\": 1,\n        \"min\": 0,\n        \"max\": 58,\n        \"num_unique_values\": 59,\n        \"samples\": [\n          0,\n          12\n        ],\n        \"semantic_type\": \"\",\n        \"description\": \"\"\n      }\n    },\n    {\n      \"column\": \"avg_price_per_room\",\n      \"properties\": {\n        \"dtype\": \"number\",\n        \"std\": 35.08942403637036,\n        \"min\": 0.0,\n        \"max\": 540.0,\n        \"num_unique_values\": 3930,\n        \"samples\": [\n          198.68,\n          170.63\n        ],\n        \"semantic_type\": \"\",\n        \"description\": \"\"\n      }\n    },\n    {\n      \"column\": \"no_of_special_requests\",\n      \"properties\": {\n        \"dtype\": \"number\",\n        \"std\": 0,\n        \"min\": 0,\n        \"max\": 5,\n        \"num_unique_values\": 6,\n        \"samples\": [\n          0,\n          1\n        ],\n        \"semantic_type\": \"\",\n        \"description\": \"\"\n      }\n    },\n    {\n      \"column\": \"booking_status\",\n      \"properties\": {\n        \"dtype\": \"category\",\n        \"num_unique_values\": 2,\n        \"samples\": [\n          \"Canceled\",\n          \"Not_Canceled\"\n        ],\n        \"semantic_type\": \"\",\n        \"description\": \"\"\n      }\n    }\n  ]\n}"
            }
          },
          "metadata": {},
          "execution_count": 229
        }
      ]
    },
    {
      "cell_type": "code",
      "source": [
        "# @title\n",
        "# La función \"info\" realiza una descripción concisa de un DataFrame, incluyendo información sobre el índice, las columnas, los tipos de datos y la cantidad de valores no nulos.\n",
        "Inn.info()"
      ],
      "metadata": {
        "colab": {
          "base_uri": "https://localhost:8080/"
        },
        "id": "VLZLncroHqei",
        "outputId": "3fe5e214-868b-41ea-9e11-6887ef03877a",
        "cellView": "form"
      },
      "execution_count": 230,
      "outputs": [
        {
          "output_type": "stream",
          "name": "stdout",
          "text": [
            "<class 'pandas.core.frame.DataFrame'>\n",
            "RangeIndex: 36275 entries, 0 to 36274\n",
            "Data columns (total 19 columns):\n",
            " #   Column                                Non-Null Count  Dtype  \n",
            "---  ------                                --------------  -----  \n",
            " 0   Booking_ID                            36275 non-null  object \n",
            " 1   no_of_adults                          36275 non-null  int64  \n",
            " 2   no_of_children                        36275 non-null  int64  \n",
            " 3   no_of_weekend_nights                  36275 non-null  int64  \n",
            " 4   no_of_week_nights                     36275 non-null  int64  \n",
            " 5   type_of_meal_plan                     36275 non-null  object \n",
            " 6   required_car_parking_space            36275 non-null  int64  \n",
            " 7   room_type_reserved                    36275 non-null  object \n",
            " 8   lead_time                             36275 non-null  int64  \n",
            " 9   arrival_year                          36275 non-null  int64  \n",
            " 10  arrival_month                         36275 non-null  int64  \n",
            " 11  arrival_date                          36275 non-null  int64  \n",
            " 12  market_segment_type                   36275 non-null  object \n",
            " 13  repeated_guest                        36275 non-null  int64  \n",
            " 14  no_of_previous_cancellations          36275 non-null  int64  \n",
            " 15  no_of_previous_bookings_not_canceled  36275 non-null  int64  \n",
            " 16  avg_price_per_room                    36275 non-null  float64\n",
            " 17  no_of_special_requests                36275 non-null  int64  \n",
            " 18  booking_status                        36275 non-null  object \n",
            "dtypes: float64(1), int64(13), object(5)\n",
            "memory usage: 5.3+ MB\n"
          ]
        }
      ]
    },
    {
      "cell_type": "code",
      "source": [
        "# @title\n",
        "# La función \"describe\" se utiliza para generar estadísticas descriptivas. Muestra información como la media, la desviación estándar, los cuartiles y otros valores estadísticos para cada columna numérica del DataFrame.\n",
        "# El \".T\" se usa para intercambiar filas por columnas y viceversa.\n",
        "Inn.describe().T"
      ],
      "metadata": {
        "colab": {
          "base_uri": "https://localhost:8080/",
          "height": 488
        },
        "id": "NcLDiaZ5HsMa",
        "outputId": "890dc471-632f-42c4-dca3-5a749f0e912a",
        "cellView": "form"
      },
      "execution_count": 231,
      "outputs": [
        {
          "output_type": "execute_result",
          "data": {
            "text/plain": [
              "                                        count         mean        std     min  \\\n",
              "no_of_adults                          36275.0     1.844962   0.518715     0.0   \n",
              "no_of_children                        36275.0     0.105279   0.402648     0.0   \n",
              "no_of_weekend_nights                  36275.0     0.810724   0.870644     0.0   \n",
              "no_of_week_nights                     36275.0     2.204300   1.410905     0.0   \n",
              "required_car_parking_space            36275.0     0.030986   0.173281     0.0   \n",
              "lead_time                             36275.0    85.232557  85.930817     0.0   \n",
              "arrival_year                          36275.0  2017.820427   0.383836  2017.0   \n",
              "arrival_month                         36275.0     7.423653   3.069894     1.0   \n",
              "arrival_date                          36275.0    15.596995   8.740447     1.0   \n",
              "repeated_guest                        36275.0     0.025637   0.158053     0.0   \n",
              "no_of_previous_cancellations          36275.0     0.023349   0.368331     0.0   \n",
              "no_of_previous_bookings_not_canceled  36275.0     0.153411   1.754171     0.0   \n",
              "avg_price_per_room                    36275.0   103.423539  35.089424     0.0   \n",
              "no_of_special_requests                36275.0     0.619655   0.786236     0.0   \n",
              "\n",
              "                                         25%      50%     75%     max  \n",
              "no_of_adults                             2.0     2.00     2.0     4.0  \n",
              "no_of_children                           0.0     0.00     0.0    10.0  \n",
              "no_of_weekend_nights                     0.0     1.00     2.0     7.0  \n",
              "no_of_week_nights                        1.0     2.00     3.0    17.0  \n",
              "required_car_parking_space               0.0     0.00     0.0     1.0  \n",
              "lead_time                               17.0    57.00   126.0   443.0  \n",
              "arrival_year                          2018.0  2018.00  2018.0  2018.0  \n",
              "arrival_month                            5.0     8.00    10.0    12.0  \n",
              "arrival_date                             8.0    16.00    23.0    31.0  \n",
              "repeated_guest                           0.0     0.00     0.0     1.0  \n",
              "no_of_previous_cancellations             0.0     0.00     0.0    13.0  \n",
              "no_of_previous_bookings_not_canceled     0.0     0.00     0.0    58.0  \n",
              "avg_price_per_room                      80.3    99.45   120.0   540.0  \n",
              "no_of_special_requests                   0.0     0.00     1.0     5.0  "
            ],
            "text/html": [
              "\n",
              "  <div id=\"df-3a4d2b92-0c78-472d-bcf1-116515dd80e6\" class=\"colab-df-container\">\n",
              "    <div>\n",
              "<style scoped>\n",
              "    .dataframe tbody tr th:only-of-type {\n",
              "        vertical-align: middle;\n",
              "    }\n",
              "\n",
              "    .dataframe tbody tr th {\n",
              "        vertical-align: top;\n",
              "    }\n",
              "\n",
              "    .dataframe thead th {\n",
              "        text-align: right;\n",
              "    }\n",
              "</style>\n",
              "<table border=\"1\" class=\"dataframe\">\n",
              "  <thead>\n",
              "    <tr style=\"text-align: right;\">\n",
              "      <th></th>\n",
              "      <th>count</th>\n",
              "      <th>mean</th>\n",
              "      <th>std</th>\n",
              "      <th>min</th>\n",
              "      <th>25%</th>\n",
              "      <th>50%</th>\n",
              "      <th>75%</th>\n",
              "      <th>max</th>\n",
              "    </tr>\n",
              "  </thead>\n",
              "  <tbody>\n",
              "    <tr>\n",
              "      <th>no_of_adults</th>\n",
              "      <td>36275.0</td>\n",
              "      <td>1.844962</td>\n",
              "      <td>0.518715</td>\n",
              "      <td>0.0</td>\n",
              "      <td>2.0</td>\n",
              "      <td>2.00</td>\n",
              "      <td>2.0</td>\n",
              "      <td>4.0</td>\n",
              "    </tr>\n",
              "    <tr>\n",
              "      <th>no_of_children</th>\n",
              "      <td>36275.0</td>\n",
              "      <td>0.105279</td>\n",
              "      <td>0.402648</td>\n",
              "      <td>0.0</td>\n",
              "      <td>0.0</td>\n",
              "      <td>0.00</td>\n",
              "      <td>0.0</td>\n",
              "      <td>10.0</td>\n",
              "    </tr>\n",
              "    <tr>\n",
              "      <th>no_of_weekend_nights</th>\n",
              "      <td>36275.0</td>\n",
              "      <td>0.810724</td>\n",
              "      <td>0.870644</td>\n",
              "      <td>0.0</td>\n",
              "      <td>0.0</td>\n",
              "      <td>1.00</td>\n",
              "      <td>2.0</td>\n",
              "      <td>7.0</td>\n",
              "    </tr>\n",
              "    <tr>\n",
              "      <th>no_of_week_nights</th>\n",
              "      <td>36275.0</td>\n",
              "      <td>2.204300</td>\n",
              "      <td>1.410905</td>\n",
              "      <td>0.0</td>\n",
              "      <td>1.0</td>\n",
              "      <td>2.00</td>\n",
              "      <td>3.0</td>\n",
              "      <td>17.0</td>\n",
              "    </tr>\n",
              "    <tr>\n",
              "      <th>required_car_parking_space</th>\n",
              "      <td>36275.0</td>\n",
              "      <td>0.030986</td>\n",
              "      <td>0.173281</td>\n",
              "      <td>0.0</td>\n",
              "      <td>0.0</td>\n",
              "      <td>0.00</td>\n",
              "      <td>0.0</td>\n",
              "      <td>1.0</td>\n",
              "    </tr>\n",
              "    <tr>\n",
              "      <th>lead_time</th>\n",
              "      <td>36275.0</td>\n",
              "      <td>85.232557</td>\n",
              "      <td>85.930817</td>\n",
              "      <td>0.0</td>\n",
              "      <td>17.0</td>\n",
              "      <td>57.00</td>\n",
              "      <td>126.0</td>\n",
              "      <td>443.0</td>\n",
              "    </tr>\n",
              "    <tr>\n",
              "      <th>arrival_year</th>\n",
              "      <td>36275.0</td>\n",
              "      <td>2017.820427</td>\n",
              "      <td>0.383836</td>\n",
              "      <td>2017.0</td>\n",
              "      <td>2018.0</td>\n",
              "      <td>2018.00</td>\n",
              "      <td>2018.0</td>\n",
              "      <td>2018.0</td>\n",
              "    </tr>\n",
              "    <tr>\n",
              "      <th>arrival_month</th>\n",
              "      <td>36275.0</td>\n",
              "      <td>7.423653</td>\n",
              "      <td>3.069894</td>\n",
              "      <td>1.0</td>\n",
              "      <td>5.0</td>\n",
              "      <td>8.00</td>\n",
              "      <td>10.0</td>\n",
              "      <td>12.0</td>\n",
              "    </tr>\n",
              "    <tr>\n",
              "      <th>arrival_date</th>\n",
              "      <td>36275.0</td>\n",
              "      <td>15.596995</td>\n",
              "      <td>8.740447</td>\n",
              "      <td>1.0</td>\n",
              "      <td>8.0</td>\n",
              "      <td>16.00</td>\n",
              "      <td>23.0</td>\n",
              "      <td>31.0</td>\n",
              "    </tr>\n",
              "    <tr>\n",
              "      <th>repeated_guest</th>\n",
              "      <td>36275.0</td>\n",
              "      <td>0.025637</td>\n",
              "      <td>0.158053</td>\n",
              "      <td>0.0</td>\n",
              "      <td>0.0</td>\n",
              "      <td>0.00</td>\n",
              "      <td>0.0</td>\n",
              "      <td>1.0</td>\n",
              "    </tr>\n",
              "    <tr>\n",
              "      <th>no_of_previous_cancellations</th>\n",
              "      <td>36275.0</td>\n",
              "      <td>0.023349</td>\n",
              "      <td>0.368331</td>\n",
              "      <td>0.0</td>\n",
              "      <td>0.0</td>\n",
              "      <td>0.00</td>\n",
              "      <td>0.0</td>\n",
              "      <td>13.0</td>\n",
              "    </tr>\n",
              "    <tr>\n",
              "      <th>no_of_previous_bookings_not_canceled</th>\n",
              "      <td>36275.0</td>\n",
              "      <td>0.153411</td>\n",
              "      <td>1.754171</td>\n",
              "      <td>0.0</td>\n",
              "      <td>0.0</td>\n",
              "      <td>0.00</td>\n",
              "      <td>0.0</td>\n",
              "      <td>58.0</td>\n",
              "    </tr>\n",
              "    <tr>\n",
              "      <th>avg_price_per_room</th>\n",
              "      <td>36275.0</td>\n",
              "      <td>103.423539</td>\n",
              "      <td>35.089424</td>\n",
              "      <td>0.0</td>\n",
              "      <td>80.3</td>\n",
              "      <td>99.45</td>\n",
              "      <td>120.0</td>\n",
              "      <td>540.0</td>\n",
              "    </tr>\n",
              "    <tr>\n",
              "      <th>no_of_special_requests</th>\n",
              "      <td>36275.0</td>\n",
              "      <td>0.619655</td>\n",
              "      <td>0.786236</td>\n",
              "      <td>0.0</td>\n",
              "      <td>0.0</td>\n",
              "      <td>0.00</td>\n",
              "      <td>1.0</td>\n",
              "      <td>5.0</td>\n",
              "    </tr>\n",
              "  </tbody>\n",
              "</table>\n",
              "</div>\n",
              "    <div class=\"colab-df-buttons\">\n",
              "\n",
              "  <div class=\"colab-df-container\">\n",
              "    <button class=\"colab-df-convert\" onclick=\"convertToInteractive('df-3a4d2b92-0c78-472d-bcf1-116515dd80e6')\"\n",
              "            title=\"Convert this dataframe to an interactive table.\"\n",
              "            style=\"display:none;\">\n",
              "\n",
              "  <svg xmlns=\"http://www.w3.org/2000/svg\" height=\"24px\" viewBox=\"0 -960 960 960\">\n",
              "    <path d=\"M120-120v-720h720v720H120Zm60-500h600v-160H180v160Zm220 220h160v-160H400v160Zm0 220h160v-160H400v160ZM180-400h160v-160H180v160Zm440 0h160v-160H620v160ZM180-180h160v-160H180v160Zm440 0h160v-160H620v160Z\"/>\n",
              "  </svg>\n",
              "    </button>\n",
              "\n",
              "  <style>\n",
              "    .colab-df-container {\n",
              "      display:flex;\n",
              "      gap: 12px;\n",
              "    }\n",
              "\n",
              "    .colab-df-convert {\n",
              "      background-color: #E8F0FE;\n",
              "      border: none;\n",
              "      border-radius: 50%;\n",
              "      cursor: pointer;\n",
              "      display: none;\n",
              "      fill: #1967D2;\n",
              "      height: 32px;\n",
              "      padding: 0 0 0 0;\n",
              "      width: 32px;\n",
              "    }\n",
              "\n",
              "    .colab-df-convert:hover {\n",
              "      background-color: #E2EBFA;\n",
              "      box-shadow: 0px 1px 2px rgba(60, 64, 67, 0.3), 0px 1px 3px 1px rgba(60, 64, 67, 0.15);\n",
              "      fill: #174EA6;\n",
              "    }\n",
              "\n",
              "    .colab-df-buttons div {\n",
              "      margin-bottom: 4px;\n",
              "    }\n",
              "\n",
              "    [theme=dark] .colab-df-convert {\n",
              "      background-color: #3B4455;\n",
              "      fill: #D2E3FC;\n",
              "    }\n",
              "\n",
              "    [theme=dark] .colab-df-convert:hover {\n",
              "      background-color: #434B5C;\n",
              "      box-shadow: 0px 1px 3px 1px rgba(0, 0, 0, 0.15);\n",
              "      filter: drop-shadow(0px 1px 2px rgba(0, 0, 0, 0.3));\n",
              "      fill: #FFFFFF;\n",
              "    }\n",
              "  </style>\n",
              "\n",
              "    <script>\n",
              "      const buttonEl =\n",
              "        document.querySelector('#df-3a4d2b92-0c78-472d-bcf1-116515dd80e6 button.colab-df-convert');\n",
              "      buttonEl.style.display =\n",
              "        google.colab.kernel.accessAllowed ? 'block' : 'none';\n",
              "\n",
              "      async function convertToInteractive(key) {\n",
              "        const element = document.querySelector('#df-3a4d2b92-0c78-472d-bcf1-116515dd80e6');\n",
              "        const dataTable =\n",
              "          await google.colab.kernel.invokeFunction('convertToInteractive',\n",
              "                                                    [key], {});\n",
              "        if (!dataTable) return;\n",
              "\n",
              "        const docLinkHtml = 'Like what you see? Visit the ' +\n",
              "          '<a target=\"_blank\" href=https://colab.research.google.com/notebooks/data_table.ipynb>data table notebook</a>'\n",
              "          + ' to learn more about interactive tables.';\n",
              "        element.innerHTML = '';\n",
              "        dataTable['output_type'] = 'display_data';\n",
              "        await google.colab.output.renderOutput(dataTable, element);\n",
              "        const docLink = document.createElement('div');\n",
              "        docLink.innerHTML = docLinkHtml;\n",
              "        element.appendChild(docLink);\n",
              "      }\n",
              "    </script>\n",
              "  </div>\n",
              "\n",
              "\n",
              "<div id=\"df-66586535-ed17-4fa0-8bca-879823e9f2cc\">\n",
              "  <button class=\"colab-df-quickchart\" onclick=\"quickchart('df-66586535-ed17-4fa0-8bca-879823e9f2cc')\"\n",
              "            title=\"Suggest charts\"\n",
              "            style=\"display:none;\">\n",
              "\n",
              "<svg xmlns=\"http://www.w3.org/2000/svg\" height=\"24px\"viewBox=\"0 0 24 24\"\n",
              "     width=\"24px\">\n",
              "    <g>\n",
              "        <path d=\"M19 3H5c-1.1 0-2 .9-2 2v14c0 1.1.9 2 2 2h14c1.1 0 2-.9 2-2V5c0-1.1-.9-2-2-2zM9 17H7v-7h2v7zm4 0h-2V7h2v10zm4 0h-2v-4h2v4z\"/>\n",
              "    </g>\n",
              "</svg>\n",
              "  </button>\n",
              "\n",
              "<style>\n",
              "  .colab-df-quickchart {\n",
              "      --bg-color: #E8F0FE;\n",
              "      --fill-color: #1967D2;\n",
              "      --hover-bg-color: #E2EBFA;\n",
              "      --hover-fill-color: #174EA6;\n",
              "      --disabled-fill-color: #AAA;\n",
              "      --disabled-bg-color: #DDD;\n",
              "  }\n",
              "\n",
              "  [theme=dark] .colab-df-quickchart {\n",
              "      --bg-color: #3B4455;\n",
              "      --fill-color: #D2E3FC;\n",
              "      --hover-bg-color: #434B5C;\n",
              "      --hover-fill-color: #FFFFFF;\n",
              "      --disabled-bg-color: #3B4455;\n",
              "      --disabled-fill-color: #666;\n",
              "  }\n",
              "\n",
              "  .colab-df-quickchart {\n",
              "    background-color: var(--bg-color);\n",
              "    border: none;\n",
              "    border-radius: 50%;\n",
              "    cursor: pointer;\n",
              "    display: none;\n",
              "    fill: var(--fill-color);\n",
              "    height: 32px;\n",
              "    padding: 0;\n",
              "    width: 32px;\n",
              "  }\n",
              "\n",
              "  .colab-df-quickchart:hover {\n",
              "    background-color: var(--hover-bg-color);\n",
              "    box-shadow: 0 1px 2px rgba(60, 64, 67, 0.3), 0 1px 3px 1px rgba(60, 64, 67, 0.15);\n",
              "    fill: var(--button-hover-fill-color);\n",
              "  }\n",
              "\n",
              "  .colab-df-quickchart-complete:disabled,\n",
              "  .colab-df-quickchart-complete:disabled:hover {\n",
              "    background-color: var(--disabled-bg-color);\n",
              "    fill: var(--disabled-fill-color);\n",
              "    box-shadow: none;\n",
              "  }\n",
              "\n",
              "  .colab-df-spinner {\n",
              "    border: 2px solid var(--fill-color);\n",
              "    border-color: transparent;\n",
              "    border-bottom-color: var(--fill-color);\n",
              "    animation:\n",
              "      spin 1s steps(1) infinite;\n",
              "  }\n",
              "\n",
              "  @keyframes spin {\n",
              "    0% {\n",
              "      border-color: transparent;\n",
              "      border-bottom-color: var(--fill-color);\n",
              "      border-left-color: var(--fill-color);\n",
              "    }\n",
              "    20% {\n",
              "      border-color: transparent;\n",
              "      border-left-color: var(--fill-color);\n",
              "      border-top-color: var(--fill-color);\n",
              "    }\n",
              "    30% {\n",
              "      border-color: transparent;\n",
              "      border-left-color: var(--fill-color);\n",
              "      border-top-color: var(--fill-color);\n",
              "      border-right-color: var(--fill-color);\n",
              "    }\n",
              "    40% {\n",
              "      border-color: transparent;\n",
              "      border-right-color: var(--fill-color);\n",
              "      border-top-color: var(--fill-color);\n",
              "    }\n",
              "    60% {\n",
              "      border-color: transparent;\n",
              "      border-right-color: var(--fill-color);\n",
              "    }\n",
              "    80% {\n",
              "      border-color: transparent;\n",
              "      border-right-color: var(--fill-color);\n",
              "      border-bottom-color: var(--fill-color);\n",
              "    }\n",
              "    90% {\n",
              "      border-color: transparent;\n",
              "      border-bottom-color: var(--fill-color);\n",
              "    }\n",
              "  }\n",
              "</style>\n",
              "\n",
              "  <script>\n",
              "    async function quickchart(key) {\n",
              "      const quickchartButtonEl =\n",
              "        document.querySelector('#' + key + ' button');\n",
              "      quickchartButtonEl.disabled = true;  // To prevent multiple clicks.\n",
              "      quickchartButtonEl.classList.add('colab-df-spinner');\n",
              "      try {\n",
              "        const charts = await google.colab.kernel.invokeFunction(\n",
              "            'suggestCharts', [key], {});\n",
              "      } catch (error) {\n",
              "        console.error('Error during call to suggestCharts:', error);\n",
              "      }\n",
              "      quickchartButtonEl.classList.remove('colab-df-spinner');\n",
              "      quickchartButtonEl.classList.add('colab-df-quickchart-complete');\n",
              "    }\n",
              "    (() => {\n",
              "      let quickchartButtonEl =\n",
              "        document.querySelector('#df-66586535-ed17-4fa0-8bca-879823e9f2cc button');\n",
              "      quickchartButtonEl.style.display =\n",
              "        google.colab.kernel.accessAllowed ? 'block' : 'none';\n",
              "    })();\n",
              "  </script>\n",
              "</div>\n",
              "\n",
              "    </div>\n",
              "  </div>\n"
            ],
            "application/vnd.google.colaboratory.intrinsic+json": {
              "type": "dataframe",
              "summary": "{\n  \"name\": \"Inn\",\n  \"rows\": 14,\n  \"fields\": [\n    {\n      \"column\": \"count\",\n      \"properties\": {\n        \"dtype\": \"number\",\n        \"std\": 0.0,\n        \"min\": 36275.0,\n        \"max\": 36275.0,\n        \"num_unique_values\": 1,\n        \"samples\": [\n          36275.0\n        ],\n        \"semantic_type\": \"\",\n        \"description\": \"\"\n      }\n    },\n    {\n      \"column\": \"mean\",\n      \"properties\": {\n        \"dtype\": \"number\",\n        \"std\": 535.8649005981605,\n        \"min\": 0.023349414197105445,\n        \"max\": 2017.8204272915232,\n        \"num_unique_values\": 14,\n        \"samples\": [\n          0.02563749138525155\n        ],\n        \"semantic_type\": \"\",\n        \"description\": \"\"\n      }\n    },\n    {\n      \"column\": \"std\",\n      \"properties\": {\n        \"dtype\": \"number\",\n        \"std\": 23.721540556192444,\n        \"min\": 0.15805346903513287,\n        \"max\": 85.93081669923257,\n        \"num_unique_values\": 14,\n        \"samples\": [\n          0.15805346903513287\n        ],\n        \"semantic_type\": \"\",\n        \"description\": \"\"\n      }\n    },\n    {\n      \"column\": \"min\",\n      \"properties\": {\n        \"dtype\": \"number\",\n        \"std\": 539.0249285760109,\n        \"min\": 0.0,\n        \"max\": 2017.0,\n        \"num_unique_values\": 3,\n        \"samples\": [\n          0.0\n        ],\n        \"semantic_type\": \"\",\n        \"description\": \"\"\n      }\n    },\n    {\n      \"column\": \"25%\",\n      \"properties\": {\n        \"dtype\": \"number\",\n        \"std\": 537.4222743188692,\n        \"min\": 0.0,\n        \"max\": 2018.0,\n        \"num_unique_values\": 8,\n        \"samples\": [\n          0.0\n        ],\n        \"semantic_type\": \"\",\n        \"description\": \"\"\n      }\n    },\n    {\n      \"column\": \"50%\",\n      \"properties\": {\n        \"dtype\": \"number\",\n        \"std\": 536.2973400938683,\n        \"min\": 0.0,\n        \"max\": 2018.0,\n        \"num_unique_values\": 8,\n        \"samples\": [\n          0.0\n        ],\n        \"semantic_type\": \"\",\n        \"description\": \"\"\n      }\n    },\n    {\n      \"column\": \"75%\",\n      \"properties\": {\n        \"dtype\": \"number\",\n        \"std\": 535.2027088500577,\n        \"min\": 0.0,\n        \"max\": 2018.0,\n        \"num_unique_values\": 9,\n        \"samples\": [\n          120.0\n        ],\n        \"semantic_type\": \"\",\n        \"description\": \"\"\n      }\n    },\n    {\n      \"column\": \"max\",\n      \"properties\": {\n        \"dtype\": \"number\",\n        \"std\": 544.3439846515929,\n        \"min\": 1.0,\n        \"max\": 2018.0,\n        \"num_unique_values\": 13,\n        \"samples\": [\n          540.0\n        ],\n        \"semantic_type\": \"\",\n        \"description\": \"\"\n      }\n    }\n  ]\n}"
            }
          },
          "metadata": {},
          "execution_count": 231
        }
      ]
    },
    {
      "cell_type": "code",
      "source": [
        "# @title\n",
        "# Print: Imprime las filas de la columna \"booking_status\", que es una de nuestras columnas de interés.\n",
        "print(Inn.booking_status)"
      ],
      "metadata": {
        "colab": {
          "base_uri": "https://localhost:8080/"
        },
        "id": "vfVw508IN3FA",
        "outputId": "51806662-7461-4227-8202-3c84f3088742",
        "cellView": "form"
      },
      "execution_count": 232,
      "outputs": [
        {
          "output_type": "stream",
          "name": "stdout",
          "text": [
            "0        Not_Canceled\n",
            "1        Not_Canceled\n",
            "2            Canceled\n",
            "3            Canceled\n",
            "4            Canceled\n",
            "             ...     \n",
            "36270    Not_Canceled\n",
            "36271        Canceled\n",
            "36272    Not_Canceled\n",
            "36273        Canceled\n",
            "36274    Not_Canceled\n",
            "Name: booking_status, Length: 36275, dtype: object\n"
          ]
        }
      ]
    },
    {
      "cell_type": "code",
      "source": [
        "# @title\n",
        "# Se filtra el DataFrame \"Inn\" para seleccionar solo aquellas filas donde el valor en la columna \"booking_status\" sea igual a \"Canceled\".\n",
        "# Luego de realizarse el filtro, se utiliza la función \"count()\" para contar el número de filas en el DataFrame resultante.\n",
        "Inn[Inn[\"booking_status\"] == \"Canceled\"].count()"
      ],
      "metadata": {
        "colab": {
          "base_uri": "https://localhost:8080/"
        },
        "id": "OuwiwWPgN6LR",
        "outputId": "096b9cbb-a96a-4c99-bc13-d50d607af386",
        "cellView": "form"
      },
      "execution_count": 233,
      "outputs": [
        {
          "output_type": "execute_result",
          "data": {
            "text/plain": [
              "Booking_ID                              11885\n",
              "no_of_adults                            11885\n",
              "no_of_children                          11885\n",
              "no_of_weekend_nights                    11885\n",
              "no_of_week_nights                       11885\n",
              "type_of_meal_plan                       11885\n",
              "required_car_parking_space              11885\n",
              "room_type_reserved                      11885\n",
              "lead_time                               11885\n",
              "arrival_year                            11885\n",
              "arrival_month                           11885\n",
              "arrival_date                            11885\n",
              "market_segment_type                     11885\n",
              "repeated_guest                          11885\n",
              "no_of_previous_cancellations            11885\n",
              "no_of_previous_bookings_not_canceled    11885\n",
              "avg_price_per_room                      11885\n",
              "no_of_special_requests                  11885\n",
              "booking_status                          11885\n",
              "dtype: int64"
            ]
          },
          "metadata": {},
          "execution_count": 233
        }
      ]
    },
    {
      "cell_type": "markdown",
      "source": [
        "### **Enriquecimiento del DataFrame.**\n"
      ],
      "metadata": {
        "id": "CHDC-LShJKUR"
      }
    },
    {
      "cell_type": "code",
      "source": [
        "# @title\n",
        "rescan = Inn.loc[Inn[\"booking_status\"] == \"Canceled\"]"
      ],
      "metadata": {
        "cellView": "form",
        "id": "Tulk8M2zO6pw"
      },
      "execution_count": 234,
      "outputs": []
    },
    {
      "cell_type": "markdown",
      "source": [
        "### **HIPÓTESIS**"
      ],
      "metadata": {
        "id": "6yPh1UuBWaWb"
      }
    },
    {
      "cell_type": "markdown",
      "source": [
        "Teniendo una primera vista de los datos de la cantidad de reservas en los años 2017 y 2018 en el hotel Inn, se puede ver que aproximadamente un 30% de las reservas fueron canceladas. Esto puede implicar una perdida de ingresos por no poder revender la habitación, gastos adicionales por pagar publicidad para vender las mismas, incluso hasta con un precio más económico. Esto puede ocurrir por distintos factores, los cuales se van a analizar para poder obtener la respuestas a ciertas preguntas, como por ejemplo: **\"¿Por qué vía de mercado las reservas son más probables a ser canceladas?\"** según eso **\"¿Qué medidas podemos tomar para que esto se revierta?\" \"¿Cuáles son los factores que influyen en las cancelaciones?\" \"Las reservas que son canceladas, ¿Son mayormente realizadas por clientes del hotel?\"**\n",
        "Dada la información que tenemos sobre los meses que más reservas concretadas obtuvieron, podemos preguntarnos **\"¿Cómo podemos hacer para que en el resto de los meses el resultado sea el mismo o similar?\" \"¿Qué características tienen las reservas que fueron realizadas en los meses con mayor demanda?\" \"¿Qué meses tendrán más demanda de reservas?\"** para así poder aprovechar esa demanda al 100%.\n",
        "Visto que hubo un incremento de reservas en el año 2018, con respecto al año 2017, podríamos hacernos las siguientes preguntas **\"¿Qué factores fueron los que pudieron provocar ese incremento?\" \"¿Qué medidas se deberían tomar para que los números de reservas sigan en crecimiento?\"**\n",
        "El objetivo es crear un sistema de aprendizaje automático que ayude a revertir este problema, tener menores gastos y mayor demanda.\n"
      ],
      "metadata": {
        "id": "nWuag5IJf9dg"
      }
    },
    {
      "cell_type": "markdown",
      "source": [
        "### **Exámen gráfico**\n",
        "\n",
        "Éste nos ayudará a poder visualizar los datos de una manera más puntual."
      ],
      "metadata": {
        "id": "DmOaoaaV86Dh"
      }
    },
    {
      "cell_type": "code",
      "source": [
        "# @title\n",
        "# Importo las librerías \"matplotlib\", \"matplotlib.pyplot\" y \"seaborn\" para poder realizar gráficos.\n",
        "import matplotlib as mpl\n",
        "import matplotlib.pyplot as plt\n",
        "import seaborn as sns\n"
      ],
      "metadata": {
        "id": "kbTS2z_HL9Oi",
        "cellView": "form"
      },
      "execution_count": 235,
      "outputs": []
    },
    {
      "cell_type": "markdown",
      "source": [
        "### **ESTADO DE RESERVA POR AÑO**"
      ],
      "metadata": {
        "id": "kVWKjtwgORyD"
      }
    },
    {
      "cell_type": "code",
      "source": [
        "# @title\n",
        "sns.displot(data=Inn, x=\"arrival_year\", hue=\"booking_status\", multiple=\"stack\", palette=[\"#8F3619\", \"#CCAE79\"])\n",
        "\"\"\"Args: creo un histográma utilizando la librería Seaborn. \"sns.displot\" lo uso para crear el gráfico.\n",
        "        Parámetros:\n",
        "\n",
        "    data : DataFrame\n",
        "        El DataFrame que contiene los datos de las reservas del hotel.\n",
        "    x : \"arrival_year\"\n",
        "        Nombre de la columna que representa el año de las reservas.\n",
        "    hue : \"booking_status\"\n",
        "        Nombre de la columna que representa el estado de reserva.\n",
        "    multiple : \"stack\"\n",
        "        Especifíco que las distribuciones se apilen una encima de la otra.\n",
        "\n",
        "        Returns:\n",
        "        El gráfico se muestra directamente en la salida.\"\"\"\n",
        "\n",
        "plt.xlabel('Año') # Agrego una etiqueta al eje x.\n",
        "plt.ylabel('Estado de reserva') # Agrego una etiqueta al eje y.\n",
        "plt.title('Histograma de estado de reserva por año') # Agrego un título al gráfico."
      ],
      "metadata": {
        "colab": {
          "base_uri": "https://localhost:8080/",
          "height": 540
        },
        "id": "p0QM54HhQhmy",
        "outputId": "3170dad0-bcf7-4cff-993e-e2173ae7bc5d",
        "cellView": "form"
      },
      "execution_count": 236,
      "outputs": [
        {
          "output_type": "execute_result",
          "data": {
            "text/plain": [
              "Text(0.5, 1.0, 'Histograma de estado de reserva por año')"
            ]
          },
          "metadata": {},
          "execution_count": 236
        },
        {
          "output_type": "display_data",
          "data": {
            "text/plain": [
              "<Figure size 660.5x500 with 1 Axes>"
            ],
            "image/png": "[encoded data removed]"
          },
          "metadata": {}
        }
      ]
    },
    {
      "cell_type": "markdown",
      "source": [
        "**Si observamos el gráfico podemos darnos cuenta de que hubieron muchas más reservas no canceladas, que canceladas tanto en 2017, como en 2018. Y además podemos ver un incremento de reservas en el año 2018.**\n"
      ],
      "metadata": {
        "id": "ad2M2pNlQqHX"
      }
    },
    {
      "cell_type": "markdown",
      "source": [
        "### **Transformación del dataset, limpieza de datos**"
      ],
      "metadata": {
        "id": "_BSgbCrEVAz4"
      }
    },
    {
      "cell_type": "code",
      "source": [
        "# @title\n",
        "# Buscamos unificar la cantidad de clientes sumando los adultos y niños.\n",
        "Inn[\"huespedes\"] = (Inn['no_of_adults'] + Inn['no_of_children']).where(Inn['booking_status'] == 'Not_Canceled')\n",
        "\"\"\" Se suma el total de clientes para las reservas no canceladas en el DataFrame. Lo guardamos en una nueva columna \"huespedes\".\n",
        "          Parámetros:\n",
        "\n",
        "    Inn[\"huespedes\"] : Nueva columna.\n",
        "    Inn['no_of_adults'] : Columna que contiene los clientes adultos.\n",
        "    Inn['no_of_children'] : Columna que contiene los clientes niños.\n",
        "    Sumamos ambas columnas.\n",
        "    where() : Incluimos un filtro\n",
        "    Inn['booking_status'] == 'Not_Canceled': Condición del filtro.\n",
        "\n",
        "   print(Inn[\"huespedes\"]): muestra las filas de la columna \"huespedes\".\"\"\"\n",
        "\n",
        "print(Inn[\"huespedes\"])"
      ],
      "metadata": {
        "colab": {
          "base_uri": "https://localhost:8080/"
        },
        "id": "V42Fsr2lQkKF",
        "outputId": "214efaa4-1bf4-4f19-af78-0dca1e79e87f",
        "cellView": "form"
      },
      "execution_count": 237,
      "outputs": [
        {
          "output_type": "stream",
          "name": "stdout",
          "text": [
            "0        2.0\n",
            "1        2.0\n",
            "2        NaN\n",
            "3        NaN\n",
            "4        NaN\n",
            "        ... \n",
            "36270    3.0\n",
            "36271    NaN\n",
            "36272    2.0\n",
            "36273    NaN\n",
            "36274    2.0\n",
            "Name: huespedes, Length: 36275, dtype: float64\n"
          ]
        }
      ]
    },
    {
      "cell_type": "code",
      "source": [
        "# @title\n",
        "# Como la columna \"huespedes\" tiene datos faltantes, procedemos a completarlos por la media.\n",
        "media = np.nanmean(Inn[\"huespedes\"])\n",
        "\"\"\" Se calcula la media del número total de huéspedes para las reservas no canceladas en el DataFrame proporcionado.\n",
        "      Parámetros:\n",
        "    media : variable que contiene la media.\n",
        "    np.nanmean(): Calcula la media de un conjunto de valores.\n",
        "    Inn[\"huespedes\"] : columna que contiene los huespedes del hotel.\n",
        "\n",
        "      Returns:\n",
        "    float: La media del número total de huéspedes para las reservas no canceladas.\"\"\"\n",
        "\n",
        "media"
      ],
      "metadata": {
        "colab": {
          "base_uri": "https://localhost:8080/"
        },
        "id": "4o7DS8jiW_pX",
        "outputId": "7a57607b-7b5d-41a1-bd4d-b1d7e0d54c2c",
        "cellView": "form"
      },
      "execution_count": 238,
      "outputs": [
        {
          "output_type": "execute_result",
          "data": {
            "text/plain": [
              "1.909471094710947"
            ]
          },
          "metadata": {},
          "execution_count": 238
        }
      ]
    },
    {
      "cell_type": "code",
      "source": [
        "# @title\n",
        "cant_nan = np.sum(np.isnan(Inn[\"huespedes\"]))\n",
        "\"\"\" Cuenta la cantidad de valores NaN en la columna 'huespedes' del DataFrame proporcionado.\n",
        "\n",
        "        Parámetros:\n",
        "    cant_nan : variable que contiene la cantidad de NaN.\n",
        "    np.sum() : función que se utiliza para realizar una suma\n",
        "    np.isnan() : se utiliza para verificar si un valor es NaN o no.\n",
        "    Inn[\"huespedes\"] : columna que contiene los huespedes del hotel.\n",
        "\n",
        "    Returns:\n",
        "    int : La cantidad de valores NaN en la columna 'huespedes'.\"\"\"\n",
        "cant_nan\n"
      ],
      "metadata": {
        "id": "A49FFnj5XLTA",
        "colab": {
          "base_uri": "https://localhost:8080/"
        },
        "outputId": "3b622c87-4577-4476-ed2a-997b8aafe36b",
        "cellView": "form"
      },
      "execution_count": 239,
      "outputs": [
        {
          "output_type": "execute_result",
          "data": {
            "text/plain": [
              "11885"
            ]
          },
          "metadata": {},
          "execution_count": 239
        }
      ]
    },
    {
      "cell_type": "code",
      "source": [
        "# @title\n",
        "Inn[\"huespedes\"][np.isnan(Inn[\"huespedes\"])] = media\n",
        "\"\"\" Reemplaza los valores NaN por la media en la columna 'huespedes' del DataFrame proporcionado.\n",
        "\n",
        "        Parámetros:\n",
        "    Inn[\"huespedes\"] : columna que contiene los huespedes del hotel.\n",
        "    np.isnan() : se utiliza para verificar si un valor es NaN o no.\n",
        "    = media : variable que contiene la media.\n",
        "\n",
        "        Returns:\n",
        "    La función modifica la columna \"huespedes\" proporcionada directamente.\n",
        "\n",
        "    print(Inn[\"huespedes\"]): Imprimo la columna para visualizarla\"\"\"\n",
        "\n",
        "print(Inn[\"huespedes\"])"
      ],
      "metadata": {
        "colab": {
          "base_uri": "https://localhost:8080/"
        },
        "id": "vp3JKSrQXQmr",
        "outputId": "29d03e34-4f32-48c5-a11a-066f3db78353",
        "cellView": "form"
      },
      "execution_count": 240,
      "outputs": [
        {
          "output_type": "stream",
          "name": "stdout",
          "text": [
            "0        2.000000\n",
            "1        2.000000\n",
            "2        1.909471\n",
            "3        1.909471\n",
            "4        1.909471\n",
            "           ...   \n",
            "36270    3.000000\n",
            "36271    1.909471\n",
            "36272    2.000000\n",
            "36273    1.909471\n",
            "36274    2.000000\n",
            "Name: huespedes, Length: 36275, dtype: float64\n"
          ]
        },
        {
          "output_type": "stream",
          "name": "stderr",
          "text": [
            "<ipython-input-240-6fda7c2b814b>:1: SettingWithCopyWarning: \n",
            "A value is trying to be set on a copy of a slice from a DataFrame\n",
            "\n",
            "See the caveats in the documentation: https://pandas.pydata.org/pandas-docs/stable/user_guide/indexing.html#returning-a-view-versus-a-copy\n",
            "  Inn[\"huespedes\"][np.isnan(Inn[\"huespedes\"])] = media\n"
          ]
        }
      ]
    },
    {
      "cell_type": "markdown",
      "source": [
        "**Buscamos saber la cantidad de huespedes que ingresan en el hotel por mes.**"
      ],
      "metadata": {
        "id": "TaHNwLOEJqle"
      }
    },
    {
      "cell_type": "code",
      "source": [
        "# @title\n",
        "resultado = Inn.groupby('arrival_month')['huespedes'].sum()\n",
        "\"\"\" Calculo la suma del número total de huéspedes para cada mes de llegada en el DataFrame proporcionado.\n",
        "\n",
        "        Parámetros:\n",
        "    resultado : variable que contiene esa suma.\n",
        "    Inn.groupby() : función que se utiliza para agrupar.\n",
        "                  'arrival_month': nombre de la columna que contienen los meses.\n",
        "    sum() : función que se utiliza para sumar.\n",
        "\n",
        "        Returns:\n",
        "    Serie que contiene la suma del número total de huéspedes para cada mes de llegada.\n",
        "        El índice de la Serie corresponde a los meses del año.\n",
        "\n",
        "    print(resultado): imprime la variable.\"\"\"\n",
        "\n",
        "print(resultado)"
      ],
      "metadata": {
        "colab": {
          "base_uri": "https://localhost:8080/"
        },
        "id": "_7jFfUMbQyPM",
        "outputId": "f9e321ab-b06c-4615-a5e5-3574fe3fa526",
        "cellView": "form"
      },
      "execution_count": 241,
      "outputs": [
        {
          "output_type": "stream",
          "name": "stdout",
          "text": [
            "arrival_month\n",
            "1     1716.827306\n",
            "2     3152.072571\n",
            "3     4535.629766\n",
            "4     5393.923739\n",
            "5     4932.178598\n",
            "6     5899.127183\n",
            "7     5971.045018\n",
            "8     7805.292989\n",
            "9     8646.766544\n",
            "10    9802.805658\n",
            "11    5393.787208\n",
            "12    6016.607380\n",
            "Name: huespedes, dtype: float64\n"
          ]
        }
      ]
    },
    {
      "cell_type": "markdown",
      "source": [
        "### **HUESPEDES POR MES**"
      ],
      "metadata": {
        "id": "6WFdn3UMOZ6Q"
      }
    },
    {
      "cell_type": "code",
      "source": [
        "# @title\n",
        "sns.lineplot(data=resultado, color='#8F3619')\n",
        "\"\"\"Args: creo un lineplot utilizando la librería Seaborn. \"sns.lineplot\" lo uso para crear el gráfico.\n",
        "        Parámetros:\n",
        "\n",
        "    data : variable\n",
        "        La variable que contiene la suma del número total de huéspedes para cada mes de llegada.\n",
        "    color: 'purple'\n",
        "        Color que elegimos para la linea del gráfico.\n",
        "\n",
        "        Returns:\n",
        "        El gráfico se muestra directamente en la salida.\"\"\"\n",
        "\n",
        "sns.set(style=\"ticks\") # Establezco el estilo del gráfico.\n",
        "plt.xlabel('Meses') # Agrego una etiqueta al eje x.\n",
        "plt.ylabel('Huespedes') # Agrego una etiqueta al eje y.\n",
        "plt.title('Número de huéspedes por mes') # Agrego un título al gráfico."
      ],
      "metadata": {
        "colab": {
          "base_uri": "https://localhost:8080/",
          "height": 498
        },
        "id": "YNZUjrn2Q3cY",
        "outputId": "e05cd40d-8264-4afc-81bf-74e110d6b19d",
        "cellView": "form"
      },
      "execution_count": 242,
      "outputs": [
        {
          "output_type": "execute_result",
          "data": {
            "text/plain": [
              "Text(0.5, 1.0, 'Número de huéspedes por mes')"
            ]
          },
          "metadata": {},
          "execution_count": 242
        },
        {
          "output_type": "display_data",
          "data": {
            "text/plain": [
              "<Figure size 640x480 with 1 Axes>"
            ],
            "image/png": "[encoded data removed]"
          },
          "metadata": {}
        }
      ]
    },
    {
      "cell_type": "markdown",
      "source": [
        "**En el gráfico de líneas podemos ver que en el mes de octubre hubieron más huespedes en el hotel. Por lo que es un mes con alta demanda y los clientes son más fieles a las reservas.**"
      ],
      "metadata": {
        "id": "3woUxeQzQ8XH"
      }
    },
    {
      "cell_type": "markdown",
      "source": [
        "### **Queremos saber de dónde provienen las reservas que generalmente son canceladas.**\n"
      ],
      "metadata": {
        "id": "2PFy3WR9bLLw"
      }
    },
    {
      "cell_type": "code",
      "source": [
        "# @title\n",
        "OFFLINE = Inn[(Inn['market_segment_type'] == 'Offline') & (Inn['booking_status'] == 'Canceled')]\n",
        "\"\"\" Filtra las reservas canceladas que pertenecen al segmento de mercado 'Offline' en el DataFrame proporcionado.\n",
        "\n",
        "        Parámetros:\n",
        "    OFFLINE : variable que contiene dicho filtro.\n",
        "    Inn['market_segment_type'] : columna del DataFrame que contiene los segmentos de mercado.\n",
        "    == 'Offline' : se utiliza de filtro de segmento.\n",
        "    Inn['booking_status'] : columna del DataFrame que contiene el estado de reservas.\n",
        "    == 'Canceled' : se utiliza de filtro de estado de reserva.\n",
        "\n",
        "        Returns:\n",
        "    DataFrame\n",
        "        Un nuevo DataFrame que contiene solo las reservas canceladas que pertenecen al segmento de mercado 'Offline'.\"\"\"\n"
      ],
      "metadata": {
        "id": "-NqTG5YaQ5Xs",
        "colab": {
          "base_uri": "https://localhost:8080/",
          "height": 87
        },
        "outputId": "64b7cc8e-fe66-4a1c-dfe2-ab14807b2260",
        "cellView": "form"
      },
      "execution_count": 243,
      "outputs": [
        {
          "output_type": "execute_result",
          "data": {
            "text/plain": [
              "\" Filtra las reservas canceladas que pertenecen al segmento de mercado 'Offline' en el DataFrame proporcionado.\\n\\n        Parámetros:\\n    OFFLINE : variable que contiene dicho filtro.\\n    Inn['market_segment_type'] : columna del DataFrame que contiene los segmentos de mercado.\\n    == 'Offline' : se utiliza de filtro de segmento.\\n    Inn['booking_status'] : columna del DataFrame que contiene el estado de reservas.\\n    == 'Canceled' : se utiliza de filtro de estado de reserva.\\n\\n        Returns:\\n    DataFrame\\n        Un nuevo DataFrame que contiene solo las reservas canceladas que pertenecen al segmento de mercado 'Offline'.\""
            ],
            "application/vnd.google.colaboratory.intrinsic+json": {
              "type": "string"
            }
          },
          "metadata": {},
          "execution_count": 243
        }
      ]
    },
    {
      "cell_type": "code",
      "source": [
        "# @title\n",
        "# Realizo el mismo procedimiento que con el segmento de mercado \"Offline\"\n",
        "ONLINE = Inn[(Inn['market_segment_type'] == 'Online') & (Inn['booking_status'] == 'Canceled')]"
      ],
      "metadata": {
        "id": "y5kkMNwRRBLg",
        "cellView": "form"
      },
      "execution_count": 244,
      "outputs": []
    },
    {
      "cell_type": "code",
      "source": [
        "# @title\n",
        "# Realizo el mismo procedimiento que con el segmento de mercado \"Offline\"\n",
        "CORPORATE = Inn[(Inn['market_segment_type'] == 'Corporate') & (Inn['booking_status'] == 'Canceled')]"
      ],
      "metadata": {
        "id": "qJKFKqiORFQV",
        "cellView": "form"
      },
      "execution_count": 245,
      "outputs": []
    },
    {
      "cell_type": "code",
      "source": [
        "# @title\n",
        "# Realizo el mismo procedimiento que con el segmento de mercado \"Offline\"\n",
        "AVIATION = Inn[(Inn['market_segment_type'] == 'Aviation') & (Inn['booking_status'] == 'Canceled')]"
      ],
      "metadata": {
        "id": "j8sHkb1uRG4e",
        "cellView": "form"
      },
      "execution_count": 246,
      "outputs": []
    },
    {
      "cell_type": "code",
      "source": [
        "# @title\n",
        "# Realizo el mismo procedimiento que con el segmento de mercado \"Offline\"\n",
        "COMPLEMENTARY = Inn[(Inn['market_segment_type'] == 'Complementary') & (Inn['booking_status'] == 'Canceled')]"
      ],
      "metadata": {
        "id": "-jfLlM5WRIL2",
        "cellView": "form"
      },
      "execution_count": 247,
      "outputs": []
    },
    {
      "cell_type": "markdown",
      "source": [
        "Para su visualización usaremos el gráfico Pie chart. Pero antes debemos, por un lado, unificar las variables que creamos anteriormente en una sola y, por otro lado, obtener las cantidades de cada una para que se representen en los porcentajes."
      ],
      "metadata": {
        "id": "06b-0Didb0zm"
      }
    },
    {
      "cell_type": "code",
      "source": [
        "# @title\n",
        "# Ya que las variables \"CORPORATE\" y \"AVIATION\" tienen poca cantidad de datos, los unificamos en una variable que contiene la suma de ambas.\n",
        "CORP_AVIA = CORPORATE + AVIATION"
      ],
      "metadata": {
        "id": "EgH3NDm6GF8d",
        "cellView": "form"
      },
      "execution_count": 248,
      "outputs": []
    },
    {
      "cell_type": "code",
      "source": [
        "# @title\n",
        "# Creamos la variable \"labels\" con las etiquetas para el gráfico.\n",
        "labels = [\"OFFLINE\", \"ONLINE\", \"CORP_AVIA\"]"
      ],
      "metadata": {
        "id": "83ilJDiPRKRs",
        "cellView": "form"
      },
      "execution_count": 249,
      "outputs": []
    },
    {
      "cell_type": "code",
      "source": [
        "# @title\n",
        "# Para poder representar los porcentajes debemos utilizar la función \"len\" que nos ayuda a obtener el número de elementos en cada lista.\n",
        "# Los guardamos en distintas variables.\n",
        "cant_offline = len(OFFLINE)\n",
        "cant_online = len(ONLINE)\n",
        "cant_corp_avia = len(CORP_AVIA)"
      ],
      "metadata": {
        "id": "8TBJ3k3wRSLz",
        "cellView": "form"
      },
      "execution_count": 250,
      "outputs": []
    },
    {
      "cell_type": "code",
      "source": [
        "# @title\n",
        "# Creamos la variable \"sizes\" para unificar las variables anteriores.\n",
        "sizes = [cant_offline, cant_online, cant_corp_avia]\n",
        "print(sizes) # Imprimo la variable \"sizes\""
      ],
      "metadata": {
        "colab": {
          "base_uri": "https://localhost:8080/"
        },
        "id": "CLcTME8oRULE",
        "outputId": "916a6304-6cdf-4f48-c5b6-57a770112f7f",
        "cellView": "form"
      },
      "execution_count": 251,
      "outputs": [
        {
          "output_type": "stream",
          "name": "stdout",
          "text": [
            "[3153, 8475, 257]\n"
          ]
        }
      ]
    },
    {
      "cell_type": "code",
      "source": [
        "# @title\n",
        "# Creamos la variable \"sizes\" para la elección de colores del gráfico.\n",
        "colors = ['#8F3619', '#CCAE79', '#E8D3B5']"
      ],
      "metadata": {
        "id": "72ZKjFXaRWDf",
        "cellView": "form"
      },
      "execution_count": 252,
      "outputs": []
    },
    {
      "cell_type": "markdown",
      "source": [
        "### **RESERVAS CANCELADAS POR SEGMENTADOR DE MERCADO**"
      ],
      "metadata": {
        "id": "s-JB7LlVOnWh"
      }
    },
    {
      "cell_type": "code",
      "source": [
        "# @title\n",
        "plt.pie(sizes, labels= labels, colors=colors, startangle=90, labeldistance=1.1, autopct='%1.1f%%')\n",
        "\n",
        "\"\"\"Args: creo un Pie chart utilizando la librería Matplotlib. \"plt.pie\" lo uso para crear el gráfico.\n",
        "        Parámetros:\n",
        "\n",
        "    sizes : variable\n",
        "        La variable que contiene los porcentajes.\n",
        "    labels : variable\n",
        "        La variable que contiene las variables de segmento de mercado.\n",
        "    color: variable\n",
        "        La variable que contiene los colores.\n",
        "    startangle : 90\n",
        "        Especifica el ángulo de inicio del primer sector del gráfico.\n",
        "    labeldistance : 1.1\n",
        "        Este parámetro controla la distancia de las etiquetas de porcentaje desde el centro del círculo.\n",
        "    autopct : '%1.1f%%'\n",
        "        Este parámetro controla el formato de las etiquetas de porcentaje que se muestran en cada sector del gráfico.\n",
        "\n",
        "        Returns:\n",
        "        El gráfico se muestra directamente en la salida.\"\"\"\n",
        "\n",
        "plt.title('Porcentajes de reservas canceladas según el segmentador de mercado') # Agrego un título al gráfico.\n",
        "plt.tight_layout(rect=[0, 0, 1, 2]) # Es utilizado en Matplotlib para ajustar automáticamente la disposición de los subplots en el gráfico."
      ],
      "metadata": {
        "colab": {
          "base_uri": "https://localhost:8080/",
          "height": 663
        },
        "id": "t54vAjGDRXk2",
        "outputId": "aadef1e0-3682-4287-be23-b2d024d2ce2e",
        "cellView": "form"
      },
      "execution_count": 253,
      "outputs": [
        {
          "output_type": "display_data",
          "data": {
            "text/plain": [
              "<Figure size 640x480 with 1 Axes>"
            ],
            "image/png": "[encoded data removed]"
          },
          "metadata": {}
        }
      ]
    },
    {
      "cell_type": "markdown",
      "source": [
        "***Con el gráfico pie chart se puede ver que la mayor cantidad de reservas canceladas se realizan de forma online.**"
      ],
      "metadata": {
        "id": "OfwX3Q6hRc69"
      }
    },
    {
      "cell_type": "markdown",
      "source": [
        "### Nos interesa saber cuántos de esos clientes, que realizan cancelaciones, son clientes repetidos y cuántos no lo son."
      ],
      "metadata": {
        "id": "okk_NcRkfe31"
      }
    },
    {
      "cell_type": "code",
      "source": [
        "# @title\n",
        "recan_por_cliente = rescan['repeated_guest'].value_counts()\n",
        "\"\"\" Calcula el número de reservas repetidas por cliente en la columna 'repeated_guest' del DataFrame proporcionado.\n",
        "\n",
        "        Parámetros:\n",
        "    recan_por_cliente : Variable que contiene el cálculo.\n",
        "    rescan['repeated_guest'] : columna cliente repetido con reserva cancelada.\n",
        "    value_counts() : cuenta la frecuencia de valores únicos en una serie.\n",
        "\n",
        "        Returns:\n",
        "    Serie\n",
        "       Una Serie que contiene el recuento de la frecuencia de cada valor único en la columna 'repeated_guest'.\n",
        "        El índice de la Serie corresponde a los valores únicos presentes en la columna 'repeated_guest'.\"\"\"\n",
        "\n",
        "print(recan_por_cliente) #Imprimo la variable. Indice 0 = No repetido , indice 1 = Repetido."
      ],
      "metadata": {
        "colab": {
          "base_uri": "https://localhost:8080/"
        },
        "id": "NzIcQSnJRfPy",
        "outputId": "7eb3d8f7-b21c-42a2-b88f-fdb2ea6c972c",
        "cellView": "form"
      },
      "execution_count": 254,
      "outputs": [
        {
          "output_type": "stream",
          "name": "stdout",
          "text": [
            "repeated_guest\n",
            "0    11869\n",
            "1       16\n",
            "Name: count, dtype: int64\n"
          ]
        }
      ]
    },
    {
      "cell_type": "markdown",
      "source": [
        "### **RESERVAS CANCELADAS POR CLIENTE REPETIDO O NO**"
      ],
      "metadata": {
        "id": "UQ9k9zWeOutC"
      }
    },
    {
      "cell_type": "code",
      "source": [
        "# @title\n",
        "fig, ax = plt.subplots() # Creo un gráfico de barras vacio.\n",
        "bars = ax.bar(recan_por_cliente.index.astype(str), recan_por_cliente, color=[\"#8F3619\", \"#CCAE79\"])\n",
        "total = sum(recan_por_cliente)\n",
        "for bar in bars:\n",
        "    yval = bar.get_height()\n",
        "    ax.text(bar.get_x() + bar.get_width()/2, yval, int(yval), ha='center', va='bottom')\n",
        "    \"\"\"Args:\n",
        "            Parámetros:\n",
        "      ax : AxesSubplot\n",
        "        El objeto AxesSubplot en el que se están trazando las barras.\n",
        "      recan_por_cliente.index.astype(str) : Proporciona los índices de la serie.\n",
        "      recan_por_cliente : Variable de interés.\n",
        "      color : ['red', 'blue']\n",
        "        Colores que se utilizarán en el gráfico.\n",
        "      total = Variable\n",
        "      sum(recan_por_cliente) : suma de la cantidad de reservas por cliente.\n",
        "      for bar in bars: bucle que itera sobre cada objeto de barra en la lista bars, que contiene las barras individuales en un gráfico de barras.\n",
        "      yval = bar.get_height() : Obtiene la altura de la barra actual en el gráfico de barras. Se guarda en la variable \"yval\"\n",
        "      ax.text() : para mostrar el valor de la altura de la barra en texto.\n",
        "      bar.get_x() + bar.get_width()/2 : Este fragmento de código calcula la posición \"x\" donde se colocará el texto.\n",
        "      int(yval) : Convierte el valor de la altura de la barra en un entero antes de mostrarlo en el texto.\n",
        "      ha : 'center'\n",
        "          Esto especifica que el texto se alineará horizontalmente en el centro con respecto a la posición x calculada.\n",
        "      va : 'bottom'\n",
        "          Esto especifica que el texto se alineará verticalmente en la parte inferior con respecto a la altura de la barra.\n",
        "\n",
        "        Returns:\n",
        "      El gráfico se muestra directamente en la salida.\"\"\"\n",
        "\n",
        "plt.xlabel('Cliente repetido (0: No, 1: Sí)') # Agrego una etiqueta al eje x.\n",
        "plt.ylabel('Cantidad de reservas Canceladas') #Agrego una etiqueta al eje y.\n",
        "plt.title('Reservas canceladas según si el cliente es repetido o no') # Agrego un título al gráfico."
      ],
      "metadata": {
        "colab": {
          "base_uri": "https://localhost:8080/",
          "height": 498
        },
        "id": "tvO40LayRiG5",
        "outputId": "6e1e6778-b402-4d25-e2bf-8ac0a78f45be",
        "cellView": "form"
      },
      "execution_count": 255,
      "outputs": [
        {
          "output_type": "execute_result",
          "data": {
            "text/plain": [
              "Text(0.5, 1.0, 'Reservas canceladas según si el cliente es repetido o no')"
            ]
          },
          "metadata": {},
          "execution_count": 255
        },
        {
          "output_type": "display_data",
          "data": {
            "text/plain": [
              "<Figure size 640x480 with 1 Axes>"
            ],
            "image/png": "[encoded data removed]"
          },
          "metadata": {}
        }
      ]
    },
    {
      "cell_type": "markdown",
      "source": [
        "***Nos podemos dar cuenta de que por lo general las reservas que son canceladas es por personas que no son clientes del hotel**"
      ],
      "metadata": {
        "id": "L1eU7pVmRrpb"
      }
    },
    {
      "cell_type": "markdown",
      "source": [
        "### Queremos saber si la cantidad de huespedes que realizan cancelaciones tiene relación con el mes en que se realizan las reservas. Además si en la variable huespedes hay outliers.\n",
        "\n",
        "\n"
      ],
      "metadata": {
        "id": "Jn7uwyTGqZqn"
      }
    },
    {
      "cell_type": "code",
      "source": [
        "# @title\n",
        "sns.scatterplot(data=Inn, x= Inn[\"huespedes\"], y= Inn[\"arrival_month\"], hue=\"arrival_month\")\n",
        "\"\"\"Args: Creo un scatterplot para visualizar la relación entre el número de huéspedes y el mes de llegada.\n",
        "            Parámetros:\n",
        "      sns.scatterplot : Se utiliza para crear un gráfico de dispersión.\n",
        "      data : DataFrame\n",
        "      x : Inn[\"huespedes\"]\n",
        "          El nombre de la columna que contiene los datos a trazar en el eje x\n",
        "      y : Inn[\"arrival_month\"]\n",
        "          El nombre de la columna que contiene los datos a trazar en el eje y\n",
        "      hue : \"arrival_month\"\n",
        "          El nombre de la columna que se utilizará para distinguir diferentes grupos de puntos mediante el color.\n",
        "\n",
        "        Returns:\n",
        "      El gráfico se muestra directamente en la salida.\"\"\""
      ],
      "metadata": {
        "colab": {
          "base_uri": "https://localhost:8080/",
          "height": 546
        },
        "id": "oHT2KWmFhNLe",
        "outputId": "c9d50386-3556-470c-ff9c-367c207212ef",
        "cellView": "form"
      },
      "execution_count": 256,
      "outputs": [
        {
          "output_type": "execute_result",
          "data": {
            "text/plain": [
              "'Args: Creo un scatterplot para visualizar la relación entre el número de huéspedes y el mes de llegada.\\n            Parámetros:\\n      sns.scatterplot : Se utiliza para crear un gráfico de dispersión.\\n      data : DataFrame\\n      x : Inn[\"huespedes\"]\\n          El nombre de la columna que contiene los datos a trazar en el eje x\\n      y : Inn[\"arrival_month\"]\\n          El nombre de la columna que contiene los datos a trazar en el eje y\\n      hue : \"arrival_month\"\\n          El nombre de la columna que se utilizará para distinguir diferentes grupos de puntos mediante el color.\\n\\n        Returns:\\n      El gráfico se muestra directamente en la salida.'"
            ],
            "application/vnd.google.colaboratory.intrinsic+json": {
              "type": "string"
            }
          },
          "metadata": {},
          "execution_count": 256
        },
        {
          "output_type": "display_data",
          "data": {
            "text/plain": [
              "<Figure size 640x480 with 1 Axes>"
            ],
            "image/png": "[encoded data removed]"
          },
          "metadata": {}
        }
      ]
    },
    {
      "cell_type": "markdown",
      "source": [
        "***Vemos que la cantidad de huéspedes y el mes no tienen relación**"
      ],
      "metadata": {
        "id": "bdTE_ZThsOLR"
      }
    },
    {
      "cell_type": "code",
      "source": [
        "# @title\n",
        "ax = sns.boxplot(x= Inn[\"huespedes\"], y=Inn[\"arrival_month\"] )\n",
        "\"\"\" Creo un boxplot para visualizar la distribución del número de huéspedes en función del mes de llegada.\n",
        "\n",
        "         Parámetros:\n",
        "    ax : variable que contiene el boxplot.\n",
        "    sns.boxplot() : función que me permite crear el gráfico.\n",
        "    x : Inn[\"huespedes\"]\n",
        "        El nombre de la columna que contiene los datos a trazar en el eje x.\n",
        "    y : Inn[\"arrival_month\"]\n",
        "        El nombre de la columna que contiene los datos a trazar en el eje y.\n",
        "\n",
        "          Returns:\n",
        "    El gráfico se muestra directamente en la salida.\"\"\""
      ],
      "metadata": {
        "colab": {
          "base_uri": "https://localhost:8080/",
          "height": 528
        },
        "id": "DYudKVfGQeuE",
        "outputId": "de10f36f-867e-4145-c962-318a3c3585d2",
        "cellView": "form"
      },
      "execution_count": 257,
      "outputs": [
        {
          "output_type": "execute_result",
          "data": {
            "text/plain": [
              "' Creo un boxplot para visualizar la distribución del número de huéspedes en función del mes de llegada.\\n\\n         Parámetros:\\n    ax : variable que contiene el boxplot.\\n    sns.boxplot() : función que me permite crear el gráfico.\\n    x : Inn[\"huespedes\"]\\n        El nombre de la columna que contiene los datos a trazar en el eje x.\\n    y : Inn[\"arrival_month\"]\\n        El nombre de la columna que contiene los datos a trazar en el eje y.\\n\\n          Returns:\\n    El gráfico se muestra directamente en la salida.'"
            ],
            "application/vnd.google.colaboratory.intrinsic+json": {
              "type": "string"
            }
          },
          "metadata": {},
          "execution_count": 257
        },
        {
          "output_type": "display_data",
          "data": {
            "text/plain": [
              "<Figure size 640x480 with 1 Axes>"
            ],
            "image/png": "[encoded data removed]"
          },
          "metadata": {}
        }
      ]
    },
    {
      "cell_type": "markdown",
      "source": [
        "***Se puede ver que existen outliers inferiores en las reservas que tienen 5 húespedes. Y también que la mediana generalmente se da en el mes 8 (Agosto)**"
      ],
      "metadata": {
        "id": "o19fITVugOK1"
      }
    },
    {
      "cell_type": "markdown",
      "source": [
        "## **CONCLUSIONES**"
      ],
      "metadata": {
        "id": "Ru_jTAlgT5iv"
      }
    },
    {
      "cell_type": "markdown",
      "source": [
        "Luego de las visualizaciones que se realizaron con la base de datos, noté que la mayor cantidad de cancelaciones las realizan via online usuarios que no son clientes fijos. Por lo que se puede utilizar un algoritmo de clasificación, que me permita diferenciar los usuarios de reservas online que tienden a cancelar, de los usuarios que no cancelan, según sus cualidades. Por ende el algoritmo al detectar esas cualidades podría ofrecer ofertas en las habitaciones, promociones, o mejoras en el servicio, y así no tener perdidas."
      ],
      "metadata": {
        "id": "RXF6fOuMU18v"
      }
    },
    {
      "cell_type": "markdown",
      "source": [
        "## **Modelado**"
      ],
      "metadata": {
        "id": "hJrOpupY24z_"
      }
    },
    {
      "cell_type": "markdown",
      "source": [
        "### **Procedemos a realizar el modelado de los datos, utilizando el modelo de regresión logística.**"
      ],
      "metadata": {
        "id": "tj99Qn_WmkOP"
      }
    },
    {
      "cell_type": "code",
      "source": [
        "# @title\n",
        "# Importo las librerías \"sklearn.linear_model\", \"sklearn.metrics\", \"sklearn.model_selection\" \"sklearn.preprocessing\", \"sklearn\" para poder realizar el modelado de los datos.\n",
        "from sklearn.linear_model import LogisticRegression # Importo la función \"LogisticRegression\"\n",
        "from sklearn.metrics import accuracy_score # Importo la función \"accuracy_score\"\n",
        "from sklearn.model_selection import train_test_split # Importo la función \"train_test_split\"\n",
        "from sklearn.model_selection import learning_curve # Importo la función \"learning_curve\"\n",
        "from sklearn.preprocessing import LabelEncoder # Importo la función \"LabelEncoder\"\n",
        "from sklearn import metrics # Importo la función \"metrics\""
      ],
      "metadata": {
        "id": "PyfQHvzxgmj7",
        "cellView": "form"
      },
      "execution_count": 258,
      "outputs": []
    },
    {
      "cell_type": "code",
      "source": [
        "pip install scikit-learn #Instalo la paquetería de scikit-learn"
      ],
      "metadata": {
        "colab": {
          "base_uri": "https://localhost:8080/"
        },
        "id": "hufwh0PnzN0a",
        "outputId": "dc3b58a6-e396-4aaf-9afb-321d66394c5d"
      },
      "execution_count": 259,
      "outputs": [
        {
          "output_type": "stream",
          "name": "stdout",
          "text": [
            "Requirement already satisfied: scikit-learn in /usr/local/lib/python3.10/dist-packages (1.2.2)\n",
            "Requirement already satisfied: numpy>=1.17.3 in /usr/local/lib/python3.10/dist-packages (from scikit-learn) (1.25.2)\n",
            "Requirement already satisfied: scipy>=1.3.2 in /usr/local/lib/python3.10/dist-packages (from scikit-learn) (1.11.4)\n",
            "Requirement already satisfied: joblib>=1.1.1 in /usr/local/lib/python3.10/dist-packages (from scikit-learn) (1.4.2)\n",
            "Requirement already satisfied: threadpoolctl>=2.0.0 in /usr/local/lib/python3.10/dist-packages (from scikit-learn) (3.5.0)\n"
          ]
        }
      ]
    },
    {
      "cell_type": "code",
      "source": [
        "# @title\n",
        "# Guardo la función LabelEncoder() en la variable \"le\" para facilitar su uso.\n",
        "le = LabelEncoder()"
      ],
      "metadata": {
        "id": "flRP2757seXH",
        "cellView": "form"
      },
      "execution_count": 260,
      "outputs": []
    },
    {
      "cell_type": "markdown",
      "source": [
        "*Para el modelado necesitamos que la columna \"booking_status\" se convierta en tipo de dato numérico."
      ],
      "metadata": {
        "id": "LjwXglY98c04"
      }
    },
    {
      "cell_type": "code",
      "source": [
        "# @title\n",
        "Inn['booking_status_numerico'] = le.fit_transform(Inn['booking_status'])\n",
        "\"\"\" Transformo las etiquetas de texto en valores numéricos utilizando LabelEncoder.\n",
        "\n",
        "         Parámetros:\n",
        "    Inn['booking_status_numerico'] : Creo una columna nueva en el dataset.\n",
        "    le.fit_transform() :  Se utiliza para ajustar el codificador a los datos de entrada y luego transformar las etiquetas de texto en valores numéricos.\n",
        "    Inn['booking_status'] : columna que se va a transformar.\n",
        "\n",
        "          Returns:\n",
        "    Un array que contiene los valores numéricos transformados correspondientes a la columna 'booking_status'.\"\"\"\n",
        "\n",
        "Inn['booking_status_numerico'] # Imprimo la columna nueva para visualizarla."
      ],
      "metadata": {
        "id": "-BHzl3yKl4gU",
        "cellView": "form",
        "colab": {
          "base_uri": "https://localhost:8080/"
        },
        "outputId": "7d980de5-a663-4e13-c8e0-e013789900e9"
      },
      "execution_count": 261,
      "outputs": [
        {
          "output_type": "execute_result",
          "data": {
            "text/plain": [
              "0        1\n",
              "1        1\n",
              "2        0\n",
              "3        0\n",
              "4        0\n",
              "        ..\n",
              "36270    1\n",
              "36271    0\n",
              "36272    1\n",
              "36273    0\n",
              "36274    1\n",
              "Name: booking_status_numerico, Length: 36275, dtype: int64"
            ]
          },
          "metadata": {},
          "execution_count": 261
        }
      ]
    },
    {
      "cell_type": "code",
      "source": [
        "# @title\n",
        "arreglo_numpy = Inn['huespedes'].values\n",
        "\"\"\" Retorno los valores de la columna 'huespedes' del DataFrame como un array.\n",
        "\n",
        "         Parámetros:\n",
        "    arreglo_numpy : variable que contiene el array.\n",
        "    Inn['huespedes'] : Columna que quiero convertir en array.\n",
        "    values : se usa para obtener los valores almacenados en el DataFrame como un array.\n",
        "\n",
        "          Returns:\n",
        "    Un array que contiene los valores de la columna 'huespedes' del DataFrame Inn.\"\"\"\n",
        "\n",
        "print(arreglo_numpy) # Imprimo la variable."
      ],
      "metadata": {
        "id": "HUU7UT2zxGSS",
        "cellView": "form",
        "colab": {
          "base_uri": "https://localhost:8080/"
        },
        "outputId": "11e9be4f-8beb-450f-ff70-2104d59a2e7a"
      },
      "execution_count": 262,
      "outputs": [
        {
          "output_type": "stream",
          "name": "stdout",
          "text": [
            "[2.         2.         1.90947109 ... 2.         1.90947109 2.        ]\n"
          ]
        }
      ]
    },
    {
      "cell_type": "code",
      "source": [
        "# @title\n",
        "reshape_huespedes = arreglo_numpy.reshape(36275, 1)\n",
        "\"\"\" Redimensiono el array a una nueva forma especificada.\n",
        "\n",
        "        Parámetros:\n",
        "    reshape_huespedes : variable que contiene el reshape.\n",
        "    arreglo_numpy : El array de que se va a redimensionar.\n",
        "    reshape() : Se utiliza para cambiar la forma del array.\n",
        "    (36275, 1) : tupla\n",
        "        La nueva forma deseada del array.\n",
        "\n",
        "        Returns:\n",
        "        Array-like\n",
        "    El array redimensionado con la forma especificada.\"\"\"\n"
      ],
      "metadata": {
        "id": "COs-0c6mumIG",
        "cellView": "form",
        "colab": {
          "base_uri": "https://localhost:8080/",
          "height": 70
        },
        "outputId": "a76853c5-b23b-4e54-b722-2e5b59fe5bfe"
      },
      "execution_count": 263,
      "outputs": [
        {
          "output_type": "execute_result",
          "data": {
            "text/plain": [
              "' Redimensiono el array a una nueva forma especificada.\\n\\n        Parámetros:\\n    reshape_huespedes : variable que contiene el reshape.\\n    arreglo_numpy : El array de que se va a redimensionar.\\n    reshape() : Se utiliza para cambiar la forma del array.\\n    (36275, 1) : tupla\\n        La nueva forma deseada del array.\\n\\n        Returns:\\n        Array-like\\n    El array redimensionado con la forma especificada.'"
            ],
            "application/vnd.google.colaboratory.intrinsic+json": {
              "type": "string"
            }
          },
          "metadata": {},
          "execution_count": 263
        }
      ]
    },
    {
      "cell_type": "code",
      "source": [
        "# @title\n",
        "# Creo las variables \"X\" e \"y\" que contienen las variables a modelar.\n",
        "X = reshape_huespedes\n",
        "y = Inn['booking_status']\n",
        "X"
      ],
      "metadata": {
        "id": "7Q7tZGpQ8StJ",
        "cellView": "form",
        "colab": {
          "base_uri": "https://localhost:8080/"
        },
        "outputId": "500cdcd0-f41f-4c38-9fe1-c85893a490bf"
      },
      "execution_count": 264,
      "outputs": [
        {
          "output_type": "execute_result",
          "data": {
            "text/plain": [
              "array([[2.        ],\n",
              "       [2.        ],\n",
              "       [1.90947109],\n",
              "       ...,\n",
              "       [2.        ],\n",
              "       [1.90947109],\n",
              "       [2.        ]])"
            ]
          },
          "metadata": {},
          "execution_count": 264
        }
      ]
    },
    {
      "cell_type": "markdown",
      "source": [
        "### ***Se entrena el modelo**"
      ],
      "metadata": {
        "id": "0PG7TLFR7SH9"
      }
    },
    {
      "cell_type": "code",
      "source": [
        "# @title\n",
        "X_train, X_test, y_train, y_test = train_test_split(X,y,test_size=0.2, random_state=2)\n",
        "\"\"\" Divide los datos en conjuntos de entrenamiento y prueba.\n",
        "\n",
        "          Parámetros:\n",
        "\n",
        "    train_test_split : se utiliza para dividir un conjunto de datos en subconjuntos de entrenamiento y prueba.\n",
        "    X : array-like\n",
        "        Variables independientes.\n",
        "    y : array-like\n",
        "       Variables dependientes.\n",
        "    test_size : 0.2\n",
        "        Representa la proporción del conjunto de datos que se asignará al conjunto de prueba.\n",
        "    random_state : 2\n",
        "        Controla la reproducibilidad de la división aleatoria.\n",
        "\n",
        "        Returns:\n",
        "\n",
        "    X_train : array-like\n",
        "        Las características del conjunto de entrenamiento.\n",
        "    X_test : array-like\n",
        "        Las características del conjunto de prueba.\n",
        "    y_train : array-like\n",
        "        Las etiquetas del conjunto de entrenamiento.\n",
        "    y_test : array-like\n",
        "        Las etiquetas del conjunto de prueba.\"\"\""
      ],
      "metadata": {
        "id": "W-CQbl8581oU",
        "cellView": "form",
        "colab": {
          "base_uri": "https://localhost:8080/",
          "height": 122
        },
        "outputId": "2390cf1e-4f8e-41ab-ddd8-cfd4aecddf7a"
      },
      "execution_count": 265,
      "outputs": [
        {
          "output_type": "execute_result",
          "data": {
            "text/plain": [
              "' Divide los datos en conjuntos de entrenamiento y prueba.\\n\\n          Parámetros:\\n\\n    train_test_split : se utiliza para dividir un conjunto de datos en subconjuntos de entrenamiento y prueba.\\n    X : array-like\\n        Variables independientes.\\n    y : array-like\\n       Variables dependientes.\\n    test_size : 0.2\\n        Representa la proporción del conjunto de datos que se asignará al conjunto de prueba.\\n    random_state : 2\\n        Controla la reproducibilidad de la división aleatoria.\\n\\n        Returns:\\n\\n    X_train : array-like\\n        Las características del conjunto de entrenamiento.\\n    X_test : array-like\\n        Las características del conjunto de prueba.\\n    y_train : array-like\\n        Las etiquetas del conjunto de entrenamiento.\\n    y_test : array-like\\n        Las etiquetas del conjunto de prueba.'"
            ],
            "application/vnd.google.colaboratory.intrinsic+json": {
              "type": "string"
            }
          },
          "metadata": {},
          "execution_count": 265
        }
      ]
    },
    {
      "cell_type": "code",
      "source": [
        "# @title\n",
        "# Creamos una variable que contiene el modelo de regresión logística que vamos a utilizar.\n",
        "modelo = LogisticRegression()"
      ],
      "metadata": {
        "id": "uKZ_p8zb9SRc",
        "cellView": "form"
      },
      "execution_count": 266,
      "outputs": []
    },
    {
      "cell_type": "code",
      "source": [
        "# @title\n",
        "modelo.fit(X_train, y_train)\n",
        "\"\"\" Entrena el modelo de aprendizaje automático utilizando los datos de entrenamiento.\n",
        "        Parámetros:\n",
        "\n",
        "    X_train : array-like\n",
        "        Las características del conjunto de entrenamiento.\n",
        "    y_train : array-like\n",
        "        Las etiquetas del conjunto de entrenamiento. \"\"\"\n"
      ],
      "metadata": {
        "id": "1AE4F_jt9hGq",
        "cellView": "form",
        "colab": {
          "base_uri": "https://localhost:8080/",
          "height": 53
        },
        "outputId": "d81d6a8c-605a-4a4b-ad4a-055ae9b6ec29"
      },
      "execution_count": 267,
      "outputs": [
        {
          "output_type": "execute_result",
          "data": {
            "text/plain": [
              "' Entrena el modelo de aprendizaje automático utilizando los datos de entrenamiento.\\n        Parámetros:\\n\\n    X_train : array-like\\n        Las características del conjunto de entrenamiento.\\n    y_train : array-like\\n        Las etiquetas del conjunto de entrenamiento. '"
            ],
            "application/vnd.google.colaboratory.intrinsic+json": {
              "type": "string"
            }
          },
          "metadata": {},
          "execution_count": 267
        }
      ]
    },
    {
      "cell_type": "code",
      "source": [
        "# @title\n",
        "predicciones = modelo.predict(X_test)\n",
        "\"\"\" Realiza predicciones utilizando un modelo de aprendizaje automático previamente entrenado.\n",
        "       Parámetros:\n",
        "\n",
        "    predicciones : variable que contiene las predicciones del modelo.\n",
        "    X_test : array-like\n",
        "        Las características del conjunto de prueba para el que se realizarán las predicciones.\n",
        "\n",
        "       Returns:\n",
        "    array-like\n",
        "        Las predicciones realizadas por el modelo para las características de prueba.\"\"\"\n",
        "\n",
        "print(f'predicciones: {predicciones}') # Imprimo las predicciones realizadas por un modelo de aprendizaje automático."
      ],
      "metadata": {
        "id": "Xmm9gfqzzqcw",
        "cellView": "form",
        "colab": {
          "base_uri": "https://localhost:8080/"
        },
        "outputId": "aa9ac3b3-a674-446d-c57b-7207ffe74744"
      },
      "execution_count": 268,
      "outputs": [
        {
          "output_type": "stream",
          "name": "stdout",
          "text": [
            "predicciones: ['Not_Canceled' 'Not_Canceled' 'Not_Canceled' ... 'Not_Canceled'\n",
            " 'Not_Canceled' 'Not_Canceled']\n"
          ]
        }
      ]
    },
    {
      "cell_type": "code",
      "source": [
        "# @title\n",
        "y_test # Imprimo las etiquetas del conjunto de prueba."
      ],
      "metadata": {
        "id": "tY1m420S2_zT",
        "cellView": "form",
        "colab": {
          "base_uri": "https://localhost:8080/"
        },
        "outputId": "e26e9681-577c-4e54-e04a-82baac6fe260"
      },
      "execution_count": 269,
      "outputs": [
        {
          "output_type": "execute_result",
          "data": {
            "text/plain": [
              "3281     Not_Canceled\n",
              "27326    Not_Canceled\n",
              "22178    Not_Canceled\n",
              "16974        Canceled\n",
              "6931     Not_Canceled\n",
              "             ...     \n",
              "15639    Not_Canceled\n",
              "29944        Canceled\n",
              "20871    Not_Canceled\n",
              "35794    Not_Canceled\n",
              "21599    Not_Canceled\n",
              "Name: booking_status, Length: 7255, dtype: object"
            ]
          },
          "metadata": {},
          "execution_count": 269
        }
      ]
    },
    {
      "cell_type": "markdown",
      "source": [
        "### ***Cálculo de las métricas**"
      ],
      "metadata": {
        "id": "kyCJYVOo7Viz"
      }
    },
    {
      "cell_type": "code",
      "source": [
        "# @title\n",
        "confusion = metrics.confusion_matrix(y_test, predicciones)\n",
        "\"\"\" Calcula una matriz de confusión para evaluar el rendimiento de un modelo de clasificación.\n",
        "          Parámetros:\n",
        "\n",
        "    confusion : variable que contiene el cálculo de la matriz.\n",
        "    y_test : array-like\n",
        "        Las etiquetas del conjunto de prueba.\n",
        "    predicciones : variable que contiene las predicciones del modelo.\n",
        "\n",
        "    Returns:\n",
        "    --------\n",
        "    array-like\n",
        "        Una matriz de confusión que muestra las frecuencias de clasificación correctas e incorrectas.\"\"\"\n",
        "\n",
        "confusion # Imprimo la variable."
      ],
      "metadata": {
        "id": "N8kiT0H-0R0k",
        "cellView": "form",
        "colab": {
          "base_uri": "https://localhost:8080/"
        },
        "outputId": "1c2d6608-dd90-462b-b896-705c3a7137f3"
      },
      "execution_count": 270,
      "outputs": [
        {
          "output_type": "execute_result",
          "data": {
            "text/plain": [
              "array([[   0, 2428],\n",
              "       [   0, 4827]])"
            ]
          },
          "metadata": {},
          "execution_count": 270
        }
      ]
    },
    {
      "cell_type": "code",
      "source": [
        "# @title\n",
        "(0+4827)/(0+4827+0)*100 # Cálculo la tasa de verdaderos positivos."
      ],
      "metadata": {
        "id": "98oOrFf32564",
        "cellView": "form",
        "colab": {
          "base_uri": "https://localhost:8080/"
        },
        "outputId": "523ec752-6714-40d1-c8ab-0ca9d881afa8"
      },
      "execution_count": 271,
      "outputs": [
        {
          "output_type": "execute_result",
          "data": {
            "text/plain": [
              "100.0"
            ]
          },
          "metadata": {},
          "execution_count": 271
        }
      ]
    },
    {
      "cell_type": "code",
      "source": [
        "# @title\n",
        "accuracy = metrics.accuracy_score(y_test, predicciones)\n",
        "\"\"\" Calcula la precisión del modelo de clasificación.\n",
        "\n",
        "        Parámetros:\n",
        "\n",
        "    accuracy : variable que contiene el cálculo de precisión.\n",
        "    y_test : array-like\n",
        "        Las etiquetas del conjunto de prueba.\n",
        "    predicciones : variable que contiene las predicciones del modelo.\n",
        "\n",
        "    Returns:\n",
        "    --------\n",
        "    float\n",
        "        La precisión del modelo, que es la fracción de muestras clasificadas correctamente.\"\"\"\n",
        "accuracy # Imprimo la variable."
      ],
      "metadata": {
        "id": "DcnVku9i3svm",
        "cellView": "form",
        "colab": {
          "base_uri": "https://localhost:8080/"
        },
        "outputId": "deae2315-53ae-4c88-91fb-9ca2dbbab655"
      },
      "execution_count": 272,
      "outputs": [
        {
          "output_type": "execute_result",
          "data": {
            "text/plain": [
              "0.6653342522398346"
            ]
          },
          "metadata": {},
          "execution_count": 272
        }
      ]
    },
    {
      "cell_type": "code",
      "source": [
        "# @title\n",
        "print(metrics.classification_report(y_test, predicciones))\n",
        "\"\"\"Construye un informe de clasificación para evaluar el rendimiento de un modelo de clasificación.\n",
        "        Parámetros:\n",
        "\n",
        "    print() : Imprimo el informe.\n",
        "    y_test : array-like\n",
        "        Las etiquetas del conjunto de prueba.\n",
        "    predicciones : variable que contiene las predicciones del modelo.\n",
        "\n",
        "       Returns:\n",
        "\n",
        "    str\n",
        "        Un informe de clasificación que contiene métricas como precisión, recall, puntuación F1 y soporte para cada clase.\"\"\""
      ],
      "metadata": {
        "colab": {
          "base_uri": "https://localhost:8080/",
          "height": 350
        },
        "id": "fIPTJDZ_30DO",
        "outputId": "6b2cabcf-154f-4c73-dea1-18bdb5d511c8",
        "cellView": "form"
      },
      "execution_count": 273,
      "outputs": [
        {
          "output_type": "stream",
          "name": "stdout",
          "text": [
            "              precision    recall  f1-score   support\n",
            "\n",
            "    Canceled       0.00      0.00      0.00      2428\n",
            "Not_Canceled       0.67      1.00      0.80      4827\n",
            "\n",
            "    accuracy                           0.67      7255\n",
            "   macro avg       0.33      0.50      0.40      7255\n",
            "weighted avg       0.44      0.67      0.53      7255\n",
            "\n"
          ]
        },
        {
          "output_type": "stream",
          "name": "stderr",
          "text": [
            "/usr/local/lib/python3.10/dist-packages/sklearn/metrics/_classification.py:1344: UndefinedMetricWarning: Precision and F-score are ill-defined and being set to 0.0 in labels with no predicted samples. Use `zero_division` parameter to control this behavior.\n",
            "  _warn_prf(average, modifier, msg_start, len(result))\n",
            "/usr/local/lib/python3.10/dist-packages/sklearn/metrics/_classification.py:1344: UndefinedMetricWarning: Precision and F-score are ill-defined and being set to 0.0 in labels with no predicted samples. Use `zero_division` parameter to control this behavior.\n",
            "  _warn_prf(average, modifier, msg_start, len(result))\n",
            "/usr/local/lib/python3.10/dist-packages/sklearn/metrics/_classification.py:1344: UndefinedMetricWarning: Precision and F-score are ill-defined and being set to 0.0 in labels with no predicted samples. Use `zero_division` parameter to control this behavior.\n",
            "  _warn_prf(average, modifier, msg_start, len(result))\n"
          ]
        },
        {
          "output_type": "execute_result",
          "data": {
            "text/plain": [
              "'Construye un informe de clasificación para evaluar el rendimiento de un modelo de clasificación.\\n        Parámetros:\\n\\n    print() : Imprimo el informe.\\n    y_test : array-like\\n        Las etiquetas del conjunto de prueba.\\n    predicciones : variable que contiene las predicciones del modelo.\\n\\n       Returns:\\n\\n    str\\n        Un informe de clasificación que contiene métricas como precisión, recall, puntuación F1 y soporte para cada clase.'"
            ],
            "application/vnd.google.colaboratory.intrinsic+json": {
              "type": "string"
            }
          },
          "metadata": {},
          "execution_count": 273
        }
      ]
    },
    {
      "cell_type": "markdown",
      "source": [
        "***Se grafica la curva de aprendizaje para visualizar si el modelo tiene underfitting o overfitting.**"
      ],
      "metadata": {
        "id": "-SiNawQP0b5W"
      }
    },
    {
      "cell_type": "code",
      "source": [
        "# @title\n",
        "train_sizes, train_scores, test_scores = learning_curve(modelo, X_train, y_train, cv=5, scoring='accuracy', train_sizes=np.linspace(0.1, 1.0, 10))\n",
        "\"\"\" Calcula las puntuaciones de entrenamiento y prueba para diferentes tamaños de conjunto de entrenamiento.\n",
        "          Parámetros:\n",
        "\n",
        "    modelo : Variable que contiene el modelo de regresión logística.\n",
        "    X_train : array-like\n",
        "        Las características del conjunto de entrenamiento.\n",
        "    y_train : array-like\n",
        "        Las etiquetas del conjunto de entrenamiento.\n",
        "    cv : 5\n",
        "        Determina la estrategia de división de validación cruzada.\n",
        "    scoring : \"accuracy\"\n",
        "        La métrica de evaluación utilizada para calcular las puntuaciones. Variable que contiene el cálculo de precisión.\n",
        "    train_sizes : np.linspace(0.1, 1.0, 10))\n",
        "        Los tamaños de los conjuntos de entrenamiento para los que se calcularán las curvas de aprendizaje.\n",
        "\n",
        "         Returns:\n",
        "\n",
        "    train_sizes : array-like\n",
        "        Los tamaños de los conjuntos de entrenamiento utilizados para calcular las curvas de aprendizaje.\n",
        "    train_scores : array-like\n",
        "        Las puntuaciones de entrenamiento para cada tamaño de conjunto de entrenamiento.\n",
        "    test_scores : array-like\n",
        "        Las puntuaciones de prueba para cada tamaño de conjunto de entrenamiento.\"\"\""
      ],
      "metadata": {
        "id": "VMBWA0OEvOen",
        "cellView": "form",
        "colab": {
          "base_uri": "https://localhost:8080/",
          "height": 140
        },
        "outputId": "10a7d1b1-c257-4c97-a7a1-9cdb88baf2c4"
      },
      "execution_count": 274,
      "outputs": [
        {
          "output_type": "execute_result",
          "data": {
            "text/plain": [
              "' Calcula las puntuaciones de entrenamiento y prueba para diferentes tamaños de conjunto de entrenamiento.\\n          Parámetros:\\n\\n    modelo : Variable que contiene el modelo de regresión logística.\\n    X_train : array-like\\n        Las características del conjunto de entrenamiento.\\n    y_train : array-like\\n        Las etiquetas del conjunto de entrenamiento.\\n    cv : 5\\n        Determina la estrategia de división de validación cruzada.\\n    scoring : \"accuracy\"\\n        La métrica de evaluación utilizada para calcular las puntuaciones. Variable que contiene el cálculo de precisión.\\n    train_sizes : np.linspace(0.1, 1.0, 10))\\n        Los tamaños de los conjuntos de entrenamiento para los que se calcularán las curvas de aprendizaje.\\n\\n         Returns:\\n\\n    train_sizes : array-like\\n        Los tamaños de los conjuntos de entrenamiento utilizados para calcular las curvas de aprendizaje.\\n    train_scores : array-like\\n        Las puntuaciones de entrenamiento para cada tamaño de conjunto de entrenamiento.\\n    test_scores : array-like\\n        Las puntuaciones de prueba para cada tamaño de conjunto de entrenamiento.'"
            ],
            "application/vnd.google.colaboratory.intrinsic+json": {
              "type": "string"
            }
          },
          "metadata": {},
          "execution_count": 274
        }
      ]
    },
    {
      "cell_type": "code",
      "source": [
        "# @title\n",
        "# Todos los cálculos son guardados en variables.\n",
        "train_scores_mean = np.mean(train_scores, axis=1)\n",
        "\"\"\" Calcula la media de los puntajes de entrenamiento a lo largo del eje de las columnas.\n",
        "          Parámetros:\n",
        "    train_scores : array-like\n",
        "        Una matriz que contiene los puntajes de entrenamiento para diferentes tamaños del conjunto de entrenamiento y pliegues de validación cruzada.\n",
        "    axis : 1\n",
        "         La operación se realizará a lo largo del eje de las columnas.\n",
        "\n",
        "          Returns:\n",
        "\n",
        "    array-like\n",
        "        La media de los puntajes de entrenamiento para cada tamaño del conjunto de entrenamiento.\"\"\"\n",
        "\n",
        "train_scores_std = np.std(train_scores, axis=1)\n",
        "\"\"\" Calcula la desviación estándar de los puntajes de entrenamiento a lo largo del eje de las columnas.\n",
        "          Parámetros:\n",
        "\n",
        "    train_scores : array-like\n",
        "        Una matriz que contiene los puntajes de entrenamiento para diferentes tamaños del conjunto de entrenamiento y pliegues de validación cruzada.\n",
        "    axis : 1\n",
        "         La operación se realizará a lo largo del eje de las columnas.\n",
        "\n",
        "          Returns:\n",
        "\n",
        "    array-like\n",
        "        La desviación estándar de los puntajes de entrenamiento para cada tamaño del conjunto de entrenamiento.\"\"\"\n",
        "\n",
        "test_scores_mean = np.mean(test_scores, axis=1) # Realizo el mismo procedimiento que con \"train_scores\"\n",
        "test_scores_std = np.std(test_scores, axis=1) # Realizo el mismo procedimiento que con \"train_scores\""
      ],
      "metadata": {
        "id": "B_wmf7U6wqdu",
        "cellView": "form"
      },
      "execution_count": 275,
      "outputs": []
    },
    {
      "cell_type": "code",
      "source": [
        "# @title\n",
        "plt.figure(figsize=(8, 4)) # Creo la figura vacia.\n",
        "plt.fill_between(train_sizes, train_scores_mean - train_scores_std, train_scores_mean + train_scores_std, alpha=0.1, color=\"r\")\n",
        "plt.fill_between(train_sizes, test_scores_mean - test_scores_std, test_scores_mean + test_scores_std, alpha=0.1, color=\"g\")\n",
        "plt.plot(train_sizes, train_scores_mean, 'o-', color=\"r\", label=\"Training score\")\n",
        "plt.plot(train_sizes, test_scores_mean, 'o-', color=\"g\", label=\"Cross-validation score\")\n",
        "\"\"\" Grafico las curvas de aprendizaje para evaluar el rendimiento de un modelo a medida que se incrementa el tamaño del conjunto de entrenamiento.\n",
        "          Parámetros:\n",
        "\n",
        "    plt.fill_between() : Rellena el área entre dos curvas en un gráfico.\n",
        "    plt.plot() : Grafica líneas o marcadores.\n",
        "    train_sizes : array-like\n",
        "        Los tamaños de los conjuntos de entrenamiento.\n",
        "    train_scores_mean : array-like\n",
        "        La media de los puntajes de entrenamiento para cada tamaño del conjunto de entrenamiento.\n",
        "    train_scores_std : array-like\n",
        "        La desviación estándar de los puntajes de entrenamiento para cada tamaño del conjunto de entrenamiento.\n",
        "    test_scores_mean : array-like\n",
        "        La media de los puntajes de validación cruzada para cada tamaño del conjunto de entrenamiento.\n",
        "    test_scores_std : array-like\n",
        "        La desviación estándar de los puntajes de validación cruzada para cada tamaño del conjunto de entrenamiento.\n",
        "    alpha : 0.1\n",
        "        Valor de transparencia para los elementos gráficos.\n",
        "    color : \"r\" y \"g\"\n",
        "        Color de los elementos gráficos.\n",
        "    label : \"Training score\" y \"Cross-validation score\"\n",
        "        Proporciona una etiqueta descriptiva para una serie de datos.\"\"\"\n",
        "plt.xlabel(\"Training score\") # Agrego una etiqueta al eje x.\n",
        "plt.ylabel(\"Score\") # Agrego una etiqueta al eje y.\n",
        "plt.legend(loc=\"best\") # Agrego una leyenda al gráfico para mostrar las asociaciones entre etiquetas y series de datos. loc=\"best\" : Ubicación de la leyenda en el gráfico.\n",
        "plt.show() # Muestro el gráfico."
      ],
      "metadata": {
        "id": "HXgq5RdsxAzU",
        "colab": {
          "base_uri": "https://localhost:8080/",
          "height": 396
        },
        "outputId": "ace67314-8c47-43a8-8e40-9cbeab55d4ed",
        "cellView": "form"
      },
      "execution_count": 276,
      "outputs": [
        {
          "output_type": "display_data",
          "data": {
            "text/plain": [
              "<Figure size 800x400 with 1 Axes>"
            ],
            "image/png": "[encoded data removed]"
          },
          "metadata": {}
        }
      ]
    },
    {
      "cell_type": "markdown",
      "source": [
        "**Se pude ver que en el modelo de regresión hay underfitting.**"
      ],
      "metadata": {
        "id": "4QTz5j1K7F9h"
      }
    },
    {
      "cell_type": "markdown",
      "source": [
        "***Se busca analizar si hay valores atípicos en las columnas con valores númericos con la función zscore**"
      ],
      "metadata": {
        "id": "SOZnOoMJN9p0"
      }
    },
    {
      "cell_type": "code",
      "source": [
        "# @title\n",
        "# Importo zscore de la biblioteca scipy.stats.\n",
        "from scipy.stats import zscore"
      ],
      "metadata": {
        "id": "eY0cYu5gGUrT",
        "cellView": "form"
      },
      "execution_count": 277,
      "outputs": []
    },
    {
      "cell_type": "code",
      "source": [
        "# @title\n",
        "# Creo la variable \"datosnum\" que contiene todas las columnas del Dataset \"Inn\" que son de tipo de dato numérico.\n",
        "datosnum = [Inn[\"huespedes\"], Inn[\"no_of_weekend_nights\"], Inn[\"no_of_week_nights\"], Inn[\"required_car_parking_space\"], Inn[\"lead_time\"], Inn[\"arrival_date\"], Inn[\"repeated_guest\"], Inn[\"no_of_previous_cancellations\"], Inn[\"no_of_previous_bookings_not_canceled\"], Inn[\"avg_price_per_room\"], Inn[\"no_of_special_requests\"], Inn[\"booking_status_numerico\"]]"
      ],
      "metadata": {
        "id": "WoAZtKRHHD7S",
        "cellView": "form"
      },
      "execution_count": 278,
      "outputs": []
    },
    {
      "cell_type": "code",
      "source": [
        "# @title\n",
        "# Creo un nuevo DataFrame llamado \"dscore\" que contiene la variable \"datosnum\"\n",
        "dscore = pd.DataFrame(datosnum).T\n",
        "print(dscore) # Imprimo el DataFrame."
      ],
      "metadata": {
        "id": "bv9Nig-BFuVg",
        "colab": {
          "base_uri": "https://localhost:8080/"
        },
        "outputId": "7c7edccb-6a21-406b-e670-ec8bd8d7aa2c",
        "cellView": "form"
      },
      "execution_count": 279,
      "outputs": [
        {
          "output_type": "stream",
          "name": "stdout",
          "text": [
            "       huespedes  no_of_weekend_nights  no_of_week_nights  \\\n",
            "0       2.000000                   1.0                2.0   \n",
            "1       2.000000                   2.0                3.0   \n",
            "2       1.909471                   2.0                1.0   \n",
            "3       1.909471                   0.0                2.0   \n",
            "4       1.909471                   1.0                1.0   \n",
            "...          ...                   ...                ...   \n",
            "36270   3.000000                   2.0                6.0   \n",
            "36271   1.909471                   1.0                3.0   \n",
            "36272   2.000000                   2.0                6.0   \n",
            "36273   1.909471                   0.0                3.0   \n",
            "36274   2.000000                   1.0                2.0   \n",
            "\n",
            "       required_car_parking_space  lead_time  arrival_date  repeated_guest  \\\n",
            "0                             0.0      224.0           2.0             0.0   \n",
            "1                             0.0        5.0           6.0             0.0   \n",
            "2                             0.0        1.0          28.0             0.0   \n",
            "3                             0.0      211.0          20.0             0.0   \n",
            "4                             0.0       48.0          11.0             0.0   \n",
            "...                           ...        ...           ...             ...   \n",
            "36270                         0.0       85.0           3.0             0.0   \n",
            "36271                         0.0      228.0          17.0             0.0   \n",
            "36272                         0.0      148.0           1.0             0.0   \n",
            "36273                         0.0       63.0          21.0             0.0   \n",
            "36274                         0.0      207.0          30.0             0.0   \n",
            "\n",
            "       no_of_previous_cancellations  no_of_previous_bookings_not_canceled  \\\n",
            "0                               0.0                                   0.0   \n",
            "1                               0.0                                   0.0   \n",
            "2                               0.0                                   0.0   \n",
            "3                               0.0                                   0.0   \n",
            "4                               0.0                                   0.0   \n",
            "...                             ...                                   ...   \n",
            "36270                           0.0                                   0.0   \n",
            "36271                           0.0                                   0.0   \n",
            "36272                           0.0                                   0.0   \n",
            "36273                           0.0                                   0.0   \n",
            "36274                           0.0                                   0.0   \n",
            "\n",
            "       avg_price_per_room  no_of_special_requests  booking_status_numerico  \n",
            "0                   65.00                     0.0                      1.0  \n",
            "1                  106.68                     1.0                      1.0  \n",
            "2                   60.00                     0.0                      0.0  \n",
            "3                  100.00                     0.0                      0.0  \n",
            "4                   94.50                     0.0                      0.0  \n",
            "...                   ...                     ...                      ...  \n",
            "36270              167.80                     1.0                      1.0  \n",
            "36271               90.95                     2.0                      0.0  \n",
            "36272               98.39                     2.0                      1.0  \n",
            "36273               94.50                     0.0                      0.0  \n",
            "36274              161.67                     0.0                      1.0  \n",
            "\n",
            "[36275 rows x 12 columns]\n"
          ]
        }
      ]
    },
    {
      "cell_type": "code",
      "source": [
        "# @title\n",
        "z_scores = dscore.apply(zscore)\n",
        "\"\"\" Calculo el Z-score de un valor dado en relación con la media y la desviación estándar de la Serie.\n",
        "          Parámetros:\n",
        "\n",
        "    z_scores : Variable que ontiene el cálculo del Z-score.\n",
        "    apply() : Se utiliza para aplicar una función a cada elemento del DataFrame.\n",
        "    x : \"zscore\"\n",
        "        Valor para el cual se calculará el Z-score.\n",
        "\n",
        "         Returns:\n",
        "\n",
        "    float\n",
        "        Z-score del valor en relación con la media y la desviación estándar de la Serie.\"\"\"\n",
        "\n",
        "z_scores # Imprimo la variable."
      ],
      "metadata": {
        "id": "g_CZtY5yJ7A_",
        "colab": {
          "base_uri": "https://localhost:8080/",
          "height": 530
        },
        "outputId": "97dcf6c3-57ce-4ceb-dde6-4e5ccf515592",
        "cellView": "form"
      },
      "execution_count": 280,
      "outputs": [
        {
          "output_type": "execute_result",
          "data": {
            "text/plain": [
              "          huespedes  no_of_weekend_nights  no_of_week_nights  \\\n",
              "0      1.697920e-01              0.217401          -0.144803   \n",
              "1      1.697920e-01              1.365993           0.563972   \n",
              "2     -4.164570e-16              1.365993          -0.853578   \n",
              "3     -4.164570e-16             -0.931190          -0.144803   \n",
              "4     -4.164570e-16              0.217401          -0.853578   \n",
              "...             ...                   ...                ...   \n",
              "36270  2.045347e+00              1.365993           2.690296   \n",
              "36271 -4.164570e-16              0.217401           0.563972   \n",
              "36272  1.697920e-01              1.365993           2.690296   \n",
              "36273 -4.164570e-16             -0.931190           0.563972   \n",
              "36274  1.697920e-01              0.217401          -0.144803   \n",
              "\n",
              "       required_car_parking_space  lead_time  arrival_date  repeated_guest  \\\n",
              "0                       -0.178819   1.614896     -1.555662        -0.16221   \n",
              "1                       -0.178819  -0.933701     -1.098013        -0.16221   \n",
              "2                       -0.178819  -0.980250      1.419055        -0.16221   \n",
              "3                       -0.178819   1.463610      0.503757        -0.16221   \n",
              "4                       -0.178819  -0.433291     -0.525952        -0.16221   \n",
              "...                           ...        ...           ...             ...   \n",
              "36270                   -0.178819  -0.002706     -1.441250        -0.16221   \n",
              "36271                   -0.178819   1.661446      0.160521        -0.16221   \n",
              "36272                   -0.178819   0.730452     -1.670074        -0.16221   \n",
              "36273                   -0.178819  -0.258730      0.618170        -0.16221   \n",
              "36274                   -0.178819   1.417060      1.647879        -0.16221   \n",
              "\n",
              "       no_of_previous_cancellations  no_of_previous_bookings_not_canceled  \\\n",
              "0                         -0.063393                             -0.087456   \n",
              "1                         -0.063393                             -0.087456   \n",
              "2                         -0.063393                             -0.087456   \n",
              "3                         -0.063393                             -0.087456   \n",
              "4                         -0.063393                             -0.087456   \n",
              "...                             ...                                   ...   \n",
              "36270                     -0.063393                             -0.087456   \n",
              "36271                     -0.063393                             -0.087456   \n",
              "36272                     -0.063393                             -0.087456   \n",
              "36273                     -0.063393                             -0.087456   \n",
              "36274                     -0.063393                             -0.087456   \n",
              "\n",
              "       avg_price_per_room  no_of_special_requests  booking_status_numerico  \n",
              "0               -1.095033               -0.788140                 0.698062  \n",
              "1                0.092806                0.483760                 0.698062  \n",
              "2               -1.237528               -0.788140                -1.432539  \n",
              "3               -0.097567               -0.788140                -1.432539  \n",
              "4               -0.254312               -0.788140                -1.432539  \n",
              "...                   ...                     ...                      ...  \n",
              "36270            1.834665                0.483760                 0.698062  \n",
              "36271           -0.355483                1.755661                -1.432539  \n",
              "36272           -0.143451                1.755661                 0.698062  \n",
              "36273           -0.254312               -0.788140                -1.432539  \n",
              "36274            1.659966               -0.788140                 0.698062  \n",
              "\n",
              "[36275 rows x 12 columns]"
            ],
            "text/html": [
              "\n",
              "  <div id=\"df-e2ab298b-5685-48a4-bd89-24df67d21da2\" class=\"colab-df-container\">\n",
              "    <div>\n",
              "<style scoped>\n",
              "    .dataframe tbody tr th:only-of-type {\n",
              "        vertical-align: middle;\n",
              "    }\n",
              "\n",
              "    .dataframe tbody tr th {\n",
              "        vertical-align: top;\n",
              "    }\n",
              "\n",
              "    .dataframe thead th {\n",
              "        text-align: right;\n",
              "    }\n",
              "</style>\n",
              "<table border=\"1\" class=\"dataframe\">\n",
              "  <thead>\n",
              "    <tr style=\"text-align: right;\">\n",
              "      <th></th>\n",
              "      <th>huespedes</th>\n",
              "      <th>no_of_weekend_nights</th>\n",
              "      <th>no_of_week_nights</th>\n",
              "      <th>required_car_parking_space</th>\n",
              "      <th>lead_time</th>\n",
              "      <th>arrival_date</th>\n",
              "      <th>repeated_guest</th>\n",
              "      <th>no_of_previous_cancellations</th>\n",
              "      <th>no_of_previous_bookings_not_canceled</th>\n",
              "      <th>avg_price_per_room</th>\n",
              "      <th>no_of_special_requests</th>\n",
              "      <th>booking_status_numerico</th>\n",
              "    </tr>\n",
              "  </thead>\n",
              "  <tbody>\n",
              "    <tr>\n",
              "      <th>0</th>\n",
              "      <td>1.697920e-01</td>\n",
              "      <td>0.217401</td>\n",
              "      <td>-0.144803</td>\n",
              "      <td>-0.178819</td>\n",
              "      <td>1.614896</td>\n",
              "      <td>-1.555662</td>\n",
              "      <td>-0.16221</td>\n",
              "      <td>-0.063393</td>\n",
              "      <td>-0.087456</td>\n",
              "      <td>-1.095033</td>\n",
              "      <td>-0.788140</td>\n",
              "      <td>0.698062</td>\n",
              "    </tr>\n",
              "    <tr>\n",
              "      <th>1</th>\n",
              "      <td>1.697920e-01</td>\n",
              "      <td>1.365993</td>\n",
              "      <td>0.563972</td>\n",
              "      <td>-0.178819</td>\n",
              "      <td>-0.933701</td>\n",
              "      <td>-1.098013</td>\n",
              "      <td>-0.16221</td>\n",
              "      <td>-0.063393</td>\n",
              "      <td>-0.087456</td>\n",
              "      <td>0.092806</td>\n",
              "      <td>0.483760</td>\n",
              "      <td>0.698062</td>\n",
              "    </tr>\n",
              "    <tr>\n",
              "      <th>2</th>\n",
              "      <td>-4.164570e-16</td>\n",
              "      <td>1.365993</td>\n",
              "      <td>-0.853578</td>\n",
              "      <td>-0.178819</td>\n",
              "      <td>-0.980250</td>\n",
              "      <td>1.419055</td>\n",
              "      <td>-0.16221</td>\n",
              "      <td>-0.063393</td>\n",
              "      <td>-0.087456</td>\n",
              "      <td>-1.237528</td>\n",
              "      <td>-0.788140</td>\n",
              "      <td>-1.432539</td>\n",
              "    </tr>\n",
              "    <tr>\n",
              "      <th>3</th>\n",
              "      <td>-4.164570e-16</td>\n",
              "      <td>-0.931190</td>\n",
              "      <td>-0.144803</td>\n",
              "      <td>-0.178819</td>\n",
              "      <td>1.463610</td>\n",
              "      <td>0.503757</td>\n",
              "      <td>-0.16221</td>\n",
              "      <td>-0.063393</td>\n",
              "      <td>-0.087456</td>\n",
              "      <td>-0.097567</td>\n",
              "      <td>-0.788140</td>\n",
              "      <td>-1.432539</td>\n",
              "    </tr>\n",
              "    <tr>\n",
              "      <th>4</th>\n",
              "      <td>-4.164570e-16</td>\n",
              "      <td>0.217401</td>\n",
              "      <td>-0.853578</td>\n",
              "      <td>-0.178819</td>\n",
              "      <td>-0.433291</td>\n",
              "      <td>-0.525952</td>\n",
              "      <td>-0.16221</td>\n",
              "      <td>-0.063393</td>\n",
              "      <td>-0.087456</td>\n",
              "      <td>-0.254312</td>\n",
              "      <td>-0.788140</td>\n",
              "      <td>-1.432539</td>\n",
              "    </tr>\n",
              "    <tr>\n",
              "      <th>...</th>\n",
              "      <td>...</td>\n",
              "      <td>...</td>\n",
              "      <td>...</td>\n",
              "      <td>...</td>\n",
              "      <td>...</td>\n",
              "      <td>...</td>\n",
              "      <td>...</td>\n",
              "      <td>...</td>\n",
              "      <td>...</td>\n",
              "      <td>...</td>\n",
              "      <td>...</td>\n",
              "      <td>...</td>\n",
              "    </tr>\n",
              "    <tr>\n",
              "      <th>36270</th>\n",
              "      <td>2.045347e+00</td>\n",
              "      <td>1.365993</td>\n",
              "      <td>2.690296</td>\n",
              "      <td>-0.178819</td>\n",
              "      <td>-0.002706</td>\n",
              "      <td>-1.441250</td>\n",
              "      <td>-0.16221</td>\n",
              "      <td>-0.063393</td>\n",
              "      <td>-0.087456</td>\n",
              "      <td>1.834665</td>\n",
              "      <td>0.483760</td>\n",
              "      <td>0.698062</td>\n",
              "    </tr>\n",
              "    <tr>\n",
              "      <th>36271</th>\n",
              "      <td>-4.164570e-16</td>\n",
              "      <td>0.217401</td>\n",
              "      <td>0.563972</td>\n",
              "      <td>-0.178819</td>\n",
              "      <td>1.661446</td>\n",
              "      <td>0.160521</td>\n",
              "      <td>-0.16221</td>\n",
              "      <td>-0.063393</td>\n",
              "      <td>-0.087456</td>\n",
              "      <td>-0.355483</td>\n",
              "      <td>1.755661</td>\n",
              "      <td>-1.432539</td>\n",
              "    </tr>\n",
              "    <tr>\n",
              "      <th>36272</th>\n",
              "      <td>1.697920e-01</td>\n",
              "      <td>1.365993</td>\n",
              "      <td>2.690296</td>\n",
              "      <td>-0.178819</td>\n",
              "      <td>0.730452</td>\n",
              "      <td>-1.670074</td>\n",
              "      <td>-0.16221</td>\n",
              "      <td>-0.063393</td>\n",
              "      <td>-0.087456</td>\n",
              "      <td>-0.143451</td>\n",
              "      <td>1.755661</td>\n",
              "      <td>0.698062</td>\n",
              "    </tr>\n",
              "    <tr>\n",
              "      <th>36273</th>\n",
              "      <td>-4.164570e-16</td>\n",
              "      <td>-0.931190</td>\n",
              "      <td>0.563972</td>\n",
              "      <td>-0.178819</td>\n",
              "      <td>-0.258730</td>\n",
              "      <td>0.618170</td>\n",
              "      <td>-0.16221</td>\n",
              "      <td>-0.063393</td>\n",
              "      <td>-0.087456</td>\n",
              "      <td>-0.254312</td>\n",
              "      <td>-0.788140</td>\n",
              "      <td>-1.432539</td>\n",
              "    </tr>\n",
              "    <tr>\n",
              "      <th>36274</th>\n",
              "      <td>1.697920e-01</td>\n",
              "      <td>0.217401</td>\n",
              "      <td>-0.144803</td>\n",
              "      <td>-0.178819</td>\n",
              "      <td>1.417060</td>\n",
              "      <td>1.647879</td>\n",
              "      <td>-0.16221</td>\n",
              "      <td>-0.063393</td>\n",
              "      <td>-0.087456</td>\n",
              "      <td>1.659966</td>\n",
              "      <td>-0.788140</td>\n",
              "      <td>0.698062</td>\n",
              "    </tr>\n",
              "  </tbody>\n",
              "</table>\n",
              "<p>36275 rows × 12 columns</p>\n",
              "</div>\n",
              "    <div class=\"colab-df-buttons\">\n",
              "\n",
              "  <div class=\"colab-df-container\">\n",
              "    <button class=\"colab-df-convert\" onclick=\"convertToInteractive('df-e2ab298b-5685-48a4-bd89-24df67d21da2')\"\n",
              "            title=\"Convert this dataframe to an interactive table.\"\n",
              "            style=\"display:none;\">\n",
              "\n",
              "  <svg xmlns=\"http://www.w3.org/2000/svg\" height=\"24px\" viewBox=\"0 -960 960 960\">\n",
              "    <path d=\"M120-120v-720h720v720H120Zm60-500h600v-160H180v160Zm220 220h160v-160H400v160Zm0 220h160v-160H400v160ZM180-400h160v-160H180v160Zm440 0h160v-160H620v160ZM180-180h160v-160H180v160Zm440 0h160v-160H620v160Z\"/>\n",
              "  </svg>\n",
              "    </button>\n",
              "\n",
              "  <style>\n",
              "    .colab-df-container {\n",
              "      display:flex;\n",
              "      gap: 12px;\n",
              "    }\n",
              "\n",
              "    .colab-df-convert {\n",
              "      background-color: #E8F0FE;\n",
              "      border: none;\n",
              "      border-radius: 50%;\n",
              "      cursor: pointer;\n",
              "      display: none;\n",
              "      fill: #1967D2;\n",
              "      height: 32px;\n",
              "      padding: 0 0 0 0;\n",
              "      width: 32px;\n",
              "    }\n",
              "\n",
              "    .colab-df-convert:hover {\n",
              "      background-color: #E2EBFA;\n",
              "      box-shadow: 0px 1px 2px rgba(60, 64, 67, 0.3), 0px 1px 3px 1px rgba(60, 64, 67, 0.15);\n",
              "      fill: #174EA6;\n",
              "    }\n",
              "\n",
              "    .colab-df-buttons div {\n",
              "      margin-bottom: 4px;\n",
              "    }\n",
              "\n",
              "    [theme=dark] .colab-df-convert {\n",
              "      background-color: #3B4455;\n",
              "      fill: #D2E3FC;\n",
              "    }\n",
              "\n",
              "    [theme=dark] .colab-df-convert:hover {\n",
              "      background-color: #434B5C;\n",
              "      box-shadow: 0px 1px 3px 1px rgba(0, 0, 0, 0.15);\n",
              "      filter: drop-shadow(0px 1px 2px rgba(0, 0, 0, 0.3));\n",
              "      fill: #FFFFFF;\n",
              "    }\n",
              "  </style>\n",
              "\n",
              "    <script>\n",
              "      const buttonEl =\n",
              "        document.querySelector('#df-e2ab298b-5685-48a4-bd89-24df67d21da2 button.colab-df-convert');\n",
              "      buttonEl.style.display =\n",
              "        google.colab.kernel.accessAllowed ? 'block' : 'none';\n",
              "\n",
              "      async function convertToInteractive(key) {\n",
              "        const element = document.querySelector('#df-e2ab298b-5685-48a4-bd89-24df67d21da2');\n",
              "        const dataTable =\n",
              "          await google.colab.kernel.invokeFunction('convertToInteractive',\n",
              "                                                    [key], {});\n",
              "        if (!dataTable) return;\n",
              "\n",
              "        const docLinkHtml = 'Like what you see? Visit the ' +\n",
              "          '<a target=\"_blank\" href=https://colab.research.google.com/notebooks/data_table.ipynb>data table notebook</a>'\n",
              "          + ' to learn more about interactive tables.';\n",
              "        element.innerHTML = '';\n",
              "        dataTable['output_type'] = 'display_data';\n",
              "        await google.colab.output.renderOutput(dataTable, element);\n",
              "        const docLink = document.createElement('div');\n",
              "        docLink.innerHTML = docLinkHtml;\n",
              "        element.appendChild(docLink);\n",
              "      }\n",
              "    </script>\n",
              "  </div>\n",
              "\n",
              "\n",
              "<div id=\"df-cef8fa62-d0c3-4304-a6d3-d8762df41386\">\n",
              "  <button class=\"colab-df-quickchart\" onclick=\"quickchart('df-cef8fa62-d0c3-4304-a6d3-d8762df41386')\"\n",
              "            title=\"Suggest charts\"\n",
              "            style=\"display:none;\">\n",
              "\n",
              "<svg xmlns=\"http://www.w3.org/2000/svg\" height=\"24px\"viewBox=\"0 0 24 24\"\n",
              "     width=\"24px\">\n",
              "    <g>\n",
              "        <path d=\"M19 3H5c-1.1 0-2 .9-2 2v14c0 1.1.9 2 2 2h14c1.1 0 2-.9 2-2V5c0-1.1-.9-2-2-2zM9 17H7v-7h2v7zm4 0h-2V7h2v10zm4 0h-2v-4h2v4z\"/>\n",
              "    </g>\n",
              "</svg>\n",
              "  </button>\n",
              "\n",
              "<style>\n",
              "  .colab-df-quickchart {\n",
              "      --bg-color: #E8F0FE;\n",
              "      --fill-color: #1967D2;\n",
              "      --hover-bg-color: #E2EBFA;\n",
              "      --hover-fill-color: #174EA6;\n",
              "      --disabled-fill-color: #AAA;\n",
              "      --disabled-bg-color: #DDD;\n",
              "  }\n",
              "\n",
              "  [theme=dark] .colab-df-quickchart {\n",
              "      --bg-color: #3B4455;\n",
              "      --fill-color: #D2E3FC;\n",
              "      --hover-bg-color: #434B5C;\n",
              "      --hover-fill-color: #FFFFFF;\n",
              "      --disabled-bg-color: #3B4455;\n",
              "      --disabled-fill-color: #666;\n",
              "  }\n",
              "\n",
              "  .colab-df-quickchart {\n",
              "    background-color: var(--bg-color);\n",
              "    border: none;\n",
              "    border-radius: 50%;\n",
              "    cursor: pointer;\n",
              "    display: none;\n",
              "    fill: var(--fill-color);\n",
              "    height: 32px;\n",
              "    padding: 0;\n",
              "    width: 32px;\n",
              "  }\n",
              "\n",
              "  .colab-df-quickchart:hover {\n",
              "    background-color: var(--hover-bg-color);\n",
              "    box-shadow: 0 1px 2px rgba(60, 64, 67, 0.3), 0 1px 3px 1px rgba(60, 64, 67, 0.15);\n",
              "    fill: var(--button-hover-fill-color);\n",
              "  }\n",
              "\n",
              "  .colab-df-quickchart-complete:disabled,\n",
              "  .colab-df-quickchart-complete:disabled:hover {\n",
              "    background-color: var(--disabled-bg-color);\n",
              "    fill: var(--disabled-fill-color);\n",
              "    box-shadow: none;\n",
              "  }\n",
              "\n",
              "  .colab-df-spinner {\n",
              "    border: 2px solid var(--fill-color);\n",
              "    border-color: transparent;\n",
              "    border-bottom-color: var(--fill-color);\n",
              "    animation:\n",
              "      spin 1s steps(1) infinite;\n",
              "  }\n",
              "\n",
              "  @keyframes spin {\n",
              "    0% {\n",
              "      border-color: transparent;\n",
              "      border-bottom-color: var(--fill-color);\n",
              "      border-left-color: var(--fill-color);\n",
              "    }\n",
              "    20% {\n",
              "      border-color: transparent;\n",
              "      border-left-color: var(--fill-color);\n",
              "      border-top-color: var(--fill-color);\n",
              "    }\n",
              "    30% {\n",
              "      border-color: transparent;\n",
              "      border-left-color: var(--fill-color);\n",
              "      border-top-color: var(--fill-color);\n",
              "      border-right-color: var(--fill-color);\n",
              "    }\n",
              "    40% {\n",
              "      border-color: transparent;\n",
              "      border-right-color: var(--fill-color);\n",
              "      border-top-color: var(--fill-color);\n",
              "    }\n",
              "    60% {\n",
              "      border-color: transparent;\n",
              "      border-right-color: var(--fill-color);\n",
              "    }\n",
              "    80% {\n",
              "      border-color: transparent;\n",
              "      border-right-color: var(--fill-color);\n",
              "      border-bottom-color: var(--fill-color);\n",
              "    }\n",
              "    90% {\n",
              "      border-color: transparent;\n",
              "      border-bottom-color: var(--fill-color);\n",
              "    }\n",
              "  }\n",
              "</style>\n",
              "\n",
              "  <script>\n",
              "    async function quickchart(key) {\n",
              "      const quickchartButtonEl =\n",
              "        document.querySelector('#' + key + ' button');\n",
              "      quickchartButtonEl.disabled = true;  // To prevent multiple clicks.\n",
              "      quickchartButtonEl.classList.add('colab-df-spinner');\n",
              "      try {\n",
              "        const charts = await google.colab.kernel.invokeFunction(\n",
              "            'suggestCharts', [key], {});\n",
              "      } catch (error) {\n",
              "        console.error('Error during call to suggestCharts:', error);\n",
              "      }\n",
              "      quickchartButtonEl.classList.remove('colab-df-spinner');\n",
              "      quickchartButtonEl.classList.add('colab-df-quickchart-complete');\n",
              "    }\n",
              "    (() => {\n",
              "      let quickchartButtonEl =\n",
              "        document.querySelector('#df-cef8fa62-d0c3-4304-a6d3-d8762df41386 button');\n",
              "      quickchartButtonEl.style.display =\n",
              "        google.colab.kernel.accessAllowed ? 'block' : 'none';\n",
              "    })();\n",
              "  </script>\n",
              "</div>\n",
              "\n",
              "  <div id=\"id_0f95f5d7-0980-4036-aa34-d4a7eeded3c6\">\n",
              "    <style>\n",
              "      .colab-df-generate {\n",
              "        background-color: #E8F0FE;\n",
              "        border: none;\n",
              "        border-radius: 50%;\n",
              "        cursor: pointer;\n",
              "        display: none;\n",
              "        fill: #1967D2;\n",
              "        height: 32px;\n",
              "        padding: 0 0 0 0;\n",
              "        width: 32px;\n",
              "      }\n",
              "\n",
              "      .colab-df-generate:hover {\n",
              "        background-color: #E2EBFA;\n",
              "        box-shadow: 0px 1px 2px rgba(60, 64, 67, 0.3), 0px 1px 3px 1px rgba(60, 64, 67, 0.15);\n",
              "        fill: #174EA6;\n",
              "      }\n",
              "\n",
              "      [theme=dark] .colab-df-generate {\n",
              "        background-color: #3B4455;\n",
              "        fill: #D2E3FC;\n",
              "      }\n",
              "\n",
              "      [theme=dark] .colab-df-generate:hover {\n",
              "        background-color: #434B5C;\n",
              "        box-shadow: 0px 1px 3px 1px rgba(0, 0, 0, 0.15);\n",
              "        filter: drop-shadow(0px 1px 2px rgba(0, 0, 0, 0.3));\n",
              "        fill: #FFFFFF;\n",
              "      }\n",
              "    </style>\n",
              "    <button class=\"colab-df-generate\" onclick=\"generateWithVariable('z_scores')\"\n",
              "            title=\"Generate code using this dataframe.\"\n",
              "            style=\"display:none;\">\n",
              "\n",
              "  <svg xmlns=\"http://www.w3.org/2000/svg\" height=\"24px\"viewBox=\"0 0 24 24\"\n",
              "       width=\"24px\">\n",
              "    <path d=\"M7,19H8.4L18.45,9,17,7.55,7,17.6ZM5,21V16.75L18.45,3.32a2,2,0,0,1,2.83,0l1.4,1.43a1.91,1.91,0,0,1,.58,1.4,1.91,1.91,0,0,1-.58,1.4L9.25,21ZM18.45,9,17,7.55Zm-12,3A5.31,5.31,0,0,0,4.9,8.1,5.31,5.31,0,0,0,1,6.5,5.31,5.31,0,0,0,4.9,4.9,5.31,5.31,0,0,0,6.5,1,5.31,5.31,0,0,0,8.1,4.9,5.31,5.31,0,0,0,12,6.5,5.46,5.46,0,0,0,6.5,12Z\"/>\n",
              "  </svg>\n",
              "    </button>\n",
              "    <script>\n",
              "      (() => {\n",
              "      const buttonEl =\n",
              "        document.querySelector('#id_0f95f5d7-0980-4036-aa34-d4a7eeded3c6 button.colab-df-generate');\n",
              "      buttonEl.style.display =\n",
              "        google.colab.kernel.accessAllowed ? 'block' : 'none';\n",
              "\n",
              "      buttonEl.onclick = () => {\n",
              "        google.colab.notebook.generateWithVariable('z_scores');\n",
              "      }\n",
              "      })();\n",
              "    </script>\n",
              "  </div>\n",
              "\n",
              "    </div>\n",
              "  </div>\n"
            ],
            "application/vnd.google.colaboratory.intrinsic+json": {
              "type": "dataframe",
              "variable_name": "z_scores",
              "summary": "{\n  \"name\": \"z_scores\",\n  \"rows\": 36275,\n  \"fields\": [\n    {\n      \"column\": \"huespedes\",\n      \"properties\": {\n        \"dtype\": \"number\",\n        \"std\": 1.000013783882507,\n        \"min\": -1.7057634203532805,\n        \"max\": 18.92534594970269,\n        \"num_unique_values\": 8,\n        \"samples\": [\n          -4.164569572035627e-16,\n          5.796458168757981,\n          0.16979197692453513\n        ],\n        \"semantic_type\": \"\",\n        \"description\": \"\"\n      }\n    },\n    {\n      \"column\": \"no_of_weekend_nights\",\n      \"properties\": {\n        \"dtype\": \"number\",\n        \"std\": 1.0000137838825067,\n        \"min\": -0.9311902138197087,\n        \"max\": 7.108949710834974,\n        \"num_unique_values\": 8,\n        \"samples\": [\n          1.3659926217959149,\n          5.960358293027162,\n          0.21740120398810303\n        ],\n        \"semantic_type\": \"\",\n        \"description\": \"\"\n      }\n    },\n    {\n      \"column\": \"no_of_week_nights\",\n      \"properties\": {\n        \"dtype\": \"number\",\n        \"std\": 1.0000137838825067,\n        \"min\": -1.562352598552594,\n        \"max\": 10.486818731376005,\n        \"num_unique_values\": 18,\n        \"samples\": [\n          -0.14480303032569983,\n          0.5639717537877472,\n          6.234170026695322\n        ],\n        \"semantic_type\": \"\",\n        \"description\": \"\"\n      }\n    },\n    {\n      \"column\": \"required_car_parking_space\",\n      \"properties\": {\n        \"dtype\": \"number\",\n        \"std\": 1.0000137838825067,\n        \"min\": -0.17881926822242872,\n        \"max\": 5.592238520717609,\n        \"num_unique_values\": 2,\n        \"samples\": [\n          5.592238520717609,\n          -0.17881926822242872\n        ],\n        \"semantic_type\": \"\",\n        \"description\": \"\"\n      }\n    },\n    {\n      \"column\": \"lead_time\",\n      \"properties\": {\n        \"dtype\": \"number\",\n        \"std\": 1.000013783882507,\n        \"min\": -0.9918878345031538,\n        \"max\": 4.163493241537601,\n        \"num_unique_values\": 352,\n        \"samples\": [\n          1.0562996810344827,\n          -0.04925608019321879\n        ],\n        \"semantic_type\": \"\",\n        \"description\": \"\"\n      }\n    },\n    {\n      \"column\": \"arrival_date\",\n      \"properties\": {\n        \"dtype\": \"number\",\n        \"std\": 1.0000137838825067,\n        \"min\": -1.670074283770956,\n        \"max\": 1.7622916182466655,\n        \"num_unique_values\": 31,\n        \"samples\": [\n          1.7622916182466655,\n          0.6181696509074585\n        ],\n        \"semantic_type\": \"\",\n        \"description\": \"\"\n      }\n    },\n    {\n      \"column\": \"repeated_guest\",\n      \"properties\": {\n        \"dtype\": \"number\",\n        \"std\": 1.0000137838825067,\n        \"min\": -0.1622099465828344,\n        \"max\": 6.164850066634712,\n        \"num_unique_values\": 2,\n        \"samples\": [\n          6.164850066634712,\n          -0.1622099465828344\n        ],\n        \"semantic_type\": \"\",\n        \"description\": \"\"\n      }\n    },\n    {\n      \"column\": \"no_of_previous_cancellations\",\n      \"properties\": {\n        \"dtype\": \"number\",\n        \"std\": 1.000013783882507,\n        \"min\": -0.0633932730277548,\n        \"max\": 35.23139152988071,\n        \"num_unique_values\": 9,\n        \"samples\": [\n          35.23139152988071,\n          8.081557066104967\n        ],\n        \"semantic_type\": \"\",\n        \"description\": \"\"\n      }\n    },\n    {\n      \"column\": \"no_of_previous_bookings_not_canceled\",\n      \"properties\": {\n        \"dtype\": \"number\",\n        \"std\": 1.000013783882507,\n        \"min\": -0.08745645676927427,\n        \"max\": 32.97705607148133,\n        \"num_unique_values\": 59,\n        \"samples\": [\n          -0.08745645676927427,\n          6.753477169765333\n        ],\n        \"semantic_type\": \"\",\n        \"description\": \"\"\n      }\n    },\n    {\n      \"column\": \"avg_price_per_room\",\n      \"properties\": {\n        \"dtype\": \"number\",\n        \"std\": 1.000013783882507,\n        \"min\": -2.9474682897960816,\n        \"max\": 12.441996146463499,\n        \"num_unique_values\": 3930,\n        \"samples\": [\n          2.714714662418833,\n          1.9153174819797931\n        ],\n        \"semantic_type\": \"\",\n        \"description\": \"\"\n      }\n    },\n    {\n      \"column\": \"no_of_special_requests\",\n      \"properties\": {\n        \"dtype\": \"number\",\n        \"std\": 1.000013783882507,\n        \"min\": -0.7881399877363525,\n        \"max\": 5.57136220443737,\n        \"num_unique_values\": 6,\n        \"samples\": [\n          -0.7881399877363525,\n          0.483760450698392\n        ],\n        \"semantic_type\": \"\",\n        \"description\": \"\"\n      }\n    },\n    {\n      \"column\": \"booking_status_numerico\",\n      \"properties\": {\n        \"dtype\": \"number\",\n        \"std\": 1.000013783882507,\n        \"min\": -1.4325385148575496,\n        \"max\": 0.6980615108274694,\n        \"num_unique_values\": 2,\n        \"samples\": [\n          -1.4325385148575496,\n          0.6980615108274694\n        ],\n        \"semantic_type\": \"\",\n        \"description\": \"\"\n      }\n    }\n  ]\n}"
            }
          },
          "metadata": {},
          "execution_count": 280
        }
      ]
    },
    {
      "cell_type": "markdown",
      "source": [
        "### **Luego de ver la curva de aprendizaje, se pude ver que en el modelo de regresión logística hay underfitting. Se utiliza la función Zscore para ver si hay valores atípicos. Los datos están distribuidos de manera relativamente simétrica alrededor de la media y no hay valores extremos que distorsionen la distribución.**"
      ],
      "metadata": {
        "id": "XHeg4bVaxoWM"
      }
    },
    {
      "cell_type": "markdown",
      "source": [
        "### **PRUEBA CON MODELO RANDOM FOREST**"
      ],
      "metadata": {
        "id": "MHZHoUpN0e7O"
      }
    },
    {
      "cell_type": "code",
      "source": [
        "# @title\n",
        "#Importo un Random forest de scikit learn\n",
        "from sklearn.ensemble import RandomForestClassifier"
      ],
      "metadata": {
        "cellView": "form",
        "id": "FOq7kdU_0mcw"
      },
      "execution_count": 281,
      "outputs": []
    },
    {
      "cell_type": "code",
      "source": [
        "# @title\n",
        "# Creo el clasificador de Random Forest\n",
        "rfc = RandomForestClassifier()"
      ],
      "metadata": {
        "cellView": "form",
        "id": "1bDlqZGX1GEa"
      },
      "execution_count": 282,
      "outputs": []
    },
    {
      "cell_type": "code",
      "source": [
        "# @title\n",
        "# Ajusto el clasificador a los datos\n",
        "rfc.fit(X_train, y_train)\n",
        "\"\"\" Entrena el modelo de aprendizaje automático utilizando los datos de entrenamiento.\n",
        "        Parámetros:\n",
        "\n",
        "    X_train : array-like\n",
        "        Las características del conjunto de entrenamiento.\n",
        "    y_train : array-like\n",
        "        Las etiquetas del conjunto de entrenamiento. \"\"\""
      ],
      "metadata": {
        "colab": {
          "base_uri": "https://localhost:8080/",
          "height": 53
        },
        "cellView": "form",
        "id": "Ux7-xDnw1K6Q",
        "outputId": "9c9e4332-52d6-4ae0-ae02-42b80a898d08"
      },
      "execution_count": 283,
      "outputs": [
        {
          "output_type": "execute_result",
          "data": {
            "text/plain": [
              "' Entrena el modelo de aprendizaje automático utilizando los datos de entrenamiento.\\n        Parámetros:\\n\\n    X_train : array-like\\n        Las características del conjunto de entrenamiento.\\n    y_train : array-like\\n        Las etiquetas del conjunto de entrenamiento. '"
            ],
            "application/vnd.google.colaboratory.intrinsic+json": {
              "type": "string"
            }
          },
          "metadata": {},
          "execution_count": 283
        }
      ]
    },
    {
      "cell_type": "code",
      "source": [
        "# @title\n",
        "pred_rfc = rfc.predict(X_test)\n",
        "\"\"\" Realiza predicciones utilizando un modelo de aprendizaje automático previamente entrenado.\n",
        "       Parámetros:\n",
        "\n",
        "    predicciones : variable que contiene las predicciones del modelo.\n",
        "    X_test : array-like\n",
        "        Las características del conjunto de prueba para el que se realizarán las predicciones.\n",
        "\n",
        "       Returns:\n",
        "    array-like\n",
        "        Las predicciones realizadas por el modelo para las características de prueba.\"\"\"\n",
        "\n",
        "print(f'pred_rfc: {predicciones}') # Imprimo las predicciones realizadas por un modelo de aprendizaje automático."
      ],
      "metadata": {
        "colab": {
          "base_uri": "https://localhost:8080/"
        },
        "cellView": "form",
        "id": "5mrpO6tz1eLE",
        "outputId": "0c58de45-042d-402f-986c-7d831d02bb9e"
      },
      "execution_count": 284,
      "outputs": [
        {
          "output_type": "stream",
          "name": "stdout",
          "text": [
            "pred_rfc: ['Not_Canceled' 'Not_Canceled' 'Not_Canceled' ... 'Not_Canceled'\n",
            " 'Not_Canceled' 'Not_Canceled']\n"
          ]
        }
      ]
    },
    {
      "cell_type": "markdown",
      "source": [
        "### ***Cálculo de las métricas Random forest**"
      ],
      "metadata": {
        "id": "lBM6xlzW2iNW"
      }
    },
    {
      "cell_type": "code",
      "source": [
        "# @title\n",
        "a_s = accuracy_score(y_test, pred_rfc)\n",
        "a_s"
      ],
      "metadata": {
        "colab": {
          "base_uri": "https://localhost:8080/"
        },
        "id": "B02ZqU842bg0",
        "outputId": "62a84bd1-177d-49ac-da28-0dfc95835820",
        "cellView": "form"
      },
      "execution_count": 285,
      "outputs": [
        {
          "output_type": "execute_result",
          "data": {
            "text/plain": [
              "1.0"
            ]
          },
          "metadata": {},
          "execution_count": 285
        }
      ]
    },
    {
      "cell_type": "markdown",
      "source": [
        "El valor 1.0 indica que todas las predicciones realizadas por el modelo son correctas."
      ],
      "metadata": {
        "id": "bCmoJHKl6RuN"
      }
    },
    {
      "cell_type": "code",
      "source": [
        "# @title\n",
        "#Importo recall_score de Scikit learn para calcular la proporción de positivos reales que fueron correctamente clasificados.\n",
        "from sklearn.metrics import recall_score\n",
        "recall = recall_score(y_test, pred_rfc, pos_label='Not_Canceled')\n",
        "recall"
      ],
      "metadata": {
        "colab": {
          "base_uri": "https://localhost:8080/"
        },
        "id": "Hcu7Za3N5I4V",
        "outputId": "9c65f174-78ed-40be-ce40-99a733893342",
        "cellView": "form"
      },
      "execution_count": 286,
      "outputs": [
        {
          "output_type": "execute_result",
          "data": {
            "text/plain": [
              "1.0"
            ]
          },
          "metadata": {},
          "execution_count": 286
        }
      ]
    },
    {
      "cell_type": "markdown",
      "source": [
        "El valor 1.0 indica que el modelo es capaz de identificar todas las muestras positivas correctamente."
      ],
      "metadata": {
        "id": "rno2UBmD6ePL"
      }
    },
    {
      "cell_type": "code",
      "source": [
        "# @title\n",
        "print(metrics.classification_report(y_test, pred_rfc))\n",
        "\"\"\"Construye un informe de clasificación para evaluar el rendimiento de un modelo de clasificación.\n",
        "        Parámetros:\n",
        "\n",
        "    print() : Imprimo el informe.\n",
        "    y_test : array-like\n",
        "        Las etiquetas del conjunto de prueba.\n",
        "    predicciones : variable que contiene las predicciones del modelo.\n",
        "\n",
        "       Returns:\n",
        "\n",
        "    str\n",
        "        Un informe de clasificación que contiene métricas como precisión, recall, puntuación F1 y soporte para cada clase.\"\"\""
      ],
      "metadata": {
        "colab": {
          "base_uri": "https://localhost:8080/",
          "height": 226
        },
        "cellView": "form",
        "id": "UUyez2cG7PeJ",
        "outputId": "68a70868-8980-4a06-e663-beee90626a07"
      },
      "execution_count": 287,
      "outputs": [
        {
          "output_type": "stream",
          "name": "stdout",
          "text": [
            "              precision    recall  f1-score   support\n",
            "\n",
            "    Canceled       1.00      1.00      1.00      2428\n",
            "Not_Canceled       1.00      1.00      1.00      4827\n",
            "\n",
            "    accuracy                           1.00      7255\n",
            "   macro avg       1.00      1.00      1.00      7255\n",
            "weighted avg       1.00      1.00      1.00      7255\n",
            "\n"
          ]
        },
        {
          "output_type": "execute_result",
          "data": {
            "text/plain": [
              "'Construye un informe de clasificación para evaluar el rendimiento de un modelo de clasificación.\\n        Parámetros:\\n\\n    print() : Imprimo el informe.\\n    y_test : array-like\\n        Las etiquetas del conjunto de prueba.\\n    predicciones : variable que contiene las predicciones del modelo.\\n\\n       Returns:\\n\\n    str\\n        Un informe de clasificación que contiene métricas como precisión, recall, puntuación F1 y soporte para cada clase.'"
            ],
            "application/vnd.google.colaboratory.intrinsic+json": {
              "type": "string"
            }
          },
          "metadata": {},
          "execution_count": 287
        }
      ]
    },
    {
      "cell_type": "markdown",
      "source": [
        "***Se grafica los resultados para visualizar si el modelo tiene underfitting o overfitting.**"
      ],
      "metadata": {
        "id": "j17xb6JL7wdY"
      }
    },
    {
      "cell_type": "code",
      "source": [
        "# @title\n",
        "#Importo una matriz de confusion de scikit learn.\n",
        "from sklearn.metrics import confusion_matrix\n",
        "cm = confusion_matrix(y_test, pred_rfc)\n",
        "#Utilizo un heatmap para gráficar los resultados.\n",
        "sns.heatmap(cm, annot=True, cmap='Blues', fmt='g')\n",
        "plt.xlabel('Predicted')\n",
        "plt.ylabel('Actual')\n",
        "plt.title('Confusion Matrix')\n",
        "plt.show()"
      ],
      "metadata": {
        "colab": {
          "base_uri": "https://localhost:8080/",
          "height": 480
        },
        "cellView": "form",
        "id": "_gfnfG0Z8lrr",
        "outputId": "3c056e2a-231b-44dd-f580-f0c276fdc186"
      },
      "execution_count": 288,
      "outputs": [
        {
          "output_type": "display_data",
          "data": {
            "text/plain": [
              "<Figure size 640x480 with 2 Axes>"
            ],
            "image/png": "[encoded data removed]"
          },
          "metadata": {}
        }
      ]
    },
    {
      "cell_type": "markdown",
      "source": [
        "**La matriz de confusión indica que el modelo está clasificando correctamente todas las muestras tanto positivas como negativas. Por lo tanto puede significar que el modelo esté overfittiado.**"
      ],
      "metadata": {
        "id": "ZBxcBKkl945T"
      }
    },
    {
      "cell_type": "markdown",
      "source": [
        "### **Transformo los datos para reducir su dimensionalidad con PCA**"
      ],
      "metadata": {
        "id": "PT6wWlzYyTxD"
      }
    },
    {
      "cell_type": "code",
      "source": [
        "# @title\n",
        "#Normalizo los datos.\n",
        "from sklearn.preprocessing import StandardScaler\n",
        "\n",
        "sc = StandardScaler()\n",
        "X_train = sc.fit_transform(X_train)\n",
        "X_test = sc.transform(X_test)"
      ],
      "metadata": {
        "cellView": "form",
        "id": "rAO_IpU8ZhCB"
      },
      "execution_count": 289,
      "outputs": []
    },
    {
      "cell_type": "code",
      "source": [
        "# @title\n",
        "#Transformo en un DataFrame el X_train para ver mejor su transformación.\n",
        "xx = pd.DataFrame(X_train)\n",
        "xx.describe()"
      ],
      "metadata": {
        "colab": {
          "base_uri": "https://localhost:8080/",
          "height": 300
        },
        "cellView": "form",
        "id": "JhgMh2gkZ6rB",
        "outputId": "a87c16c0-1732-4a8f-a532-0a031d01e7a6"
      },
      "execution_count": 290,
      "outputs": [
        {
          "output_type": "execute_result",
          "data": {
            "text/plain": [
              "                  0\n",
              "count  2.902000e+04\n",
              "mean  -3.839183e-16\n",
              "std    1.000017e+00\n",
              "min   -1.700671e+00\n",
              "25%    1.805051e-03\n",
              "50%    1.712698e-01\n",
              "75%    1.712698e-01\n",
              "max    1.889068e+01"
            ],
            "text/html": [
              "\n",
              "  <div id=\"df-f918cbb2-432e-4aa3-8fed-9013a5e9e62e\" class=\"colab-df-container\">\n",
              "    <div>\n",
              "<style scoped>\n",
              "    .dataframe tbody tr th:only-of-type {\n",
              "        vertical-align: middle;\n",
              "    }\n",
              "\n",
              "    .dataframe tbody tr th {\n",
              "        vertical-align: top;\n",
              "    }\n",
              "\n",
              "    .dataframe thead th {\n",
              "        text-align: right;\n",
              "    }\n",
              "</style>\n",
              "<table border=\"1\" class=\"dataframe\">\n",
              "  <thead>\n",
              "    <tr style=\"text-align: right;\">\n",
              "      <th></th>\n",
              "      <th>0</th>\n",
              "    </tr>\n",
              "  </thead>\n",
              "  <tbody>\n",
              "    <tr>\n",
              "      <th>count</th>\n",
              "      <td>2.902000e+04</td>\n",
              "    </tr>\n",
              "    <tr>\n",
              "      <th>mean</th>\n",
              "      <td>-3.839183e-16</td>\n",
              "    </tr>\n",
              "    <tr>\n",
              "      <th>std</th>\n",
              "      <td>1.000017e+00</td>\n",
              "    </tr>\n",
              "    <tr>\n",
              "      <th>min</th>\n",
              "      <td>-1.700671e+00</td>\n",
              "    </tr>\n",
              "    <tr>\n",
              "      <th>25%</th>\n",
              "      <td>1.805051e-03</td>\n",
              "    </tr>\n",
              "    <tr>\n",
              "      <th>50%</th>\n",
              "      <td>1.712698e-01</td>\n",
              "    </tr>\n",
              "    <tr>\n",
              "      <th>75%</th>\n",
              "      <td>1.712698e-01</td>\n",
              "    </tr>\n",
              "    <tr>\n",
              "      <th>max</th>\n",
              "      <td>1.889068e+01</td>\n",
              "    </tr>\n",
              "  </tbody>\n",
              "</table>\n",
              "</div>\n",
              "    <div class=\"colab-df-buttons\">\n",
              "\n",
              "  <div class=\"colab-df-container\">\n",
              "    <button class=\"colab-df-convert\" onclick=\"convertToInteractive('df-f918cbb2-432e-4aa3-8fed-9013a5e9e62e')\"\n",
              "            title=\"Convert this dataframe to an interactive table.\"\n",
              "            style=\"display:none;\">\n",
              "\n",
              "  <svg xmlns=\"http://www.w3.org/2000/svg\" height=\"24px\" viewBox=\"0 -960 960 960\">\n",
              "    <path d=\"M120-120v-720h720v720H120Zm60-500h600v-160H180v160Zm220 220h160v-160H400v160Zm0 220h160v-160H400v160ZM180-400h160v-160H180v160Zm440 0h160v-160H620v160ZM180-180h160v-160H180v160Zm440 0h160v-160H620v160Z\"/>\n",
              "  </svg>\n",
              "    </button>\n",
              "\n",
              "  <style>\n",
              "    .colab-df-container {\n",
              "      display:flex;\n",
              "      gap: 12px;\n",
              "    }\n",
              "\n",
              "    .colab-df-convert {\n",
              "      background-color: #E8F0FE;\n",
              "      border: none;\n",
              "      border-radius: 50%;\n",
              "      cursor: pointer;\n",
              "      display: none;\n",
              "      fill: #1967D2;\n",
              "      height: 32px;\n",
              "      padding: 0 0 0 0;\n",
              "      width: 32px;\n",
              "    }\n",
              "\n",
              "    .colab-df-convert:hover {\n",
              "      background-color: #E2EBFA;\n",
              "      box-shadow: 0px 1px 2px rgba(60, 64, 67, 0.3), 0px 1px 3px 1px rgba(60, 64, 67, 0.15);\n",
              "      fill: #174EA6;\n",
              "    }\n",
              "\n",
              "    .colab-df-buttons div {\n",
              "      margin-bottom: 4px;\n",
              "    }\n",
              "\n",
              "    [theme=dark] .colab-df-convert {\n",
              "      background-color: #3B4455;\n",
              "      fill: #D2E3FC;\n",
              "    }\n",
              "\n",
              "    [theme=dark] .colab-df-convert:hover {\n",
              "      background-color: #434B5C;\n",
              "      box-shadow: 0px 1px 3px 1px rgba(0, 0, 0, 0.15);\n",
              "      filter: drop-shadow(0px 1px 2px rgba(0, 0, 0, 0.3));\n",
              "      fill: #FFFFFF;\n",
              "    }\n",
              "  </style>\n",
              "\n",
              "    <script>\n",
              "      const buttonEl =\n",
              "        document.querySelector('#df-f918cbb2-432e-4aa3-8fed-9013a5e9e62e button.colab-df-convert');\n",
              "      buttonEl.style.display =\n",
              "        google.colab.kernel.accessAllowed ? 'block' : 'none';\n",
              "\n",
              "      async function convertToInteractive(key) {\n",
              "        const element = document.querySelector('#df-f918cbb2-432e-4aa3-8fed-9013a5e9e62e');\n",
              "        const dataTable =\n",
              "          await google.colab.kernel.invokeFunction('convertToInteractive',\n",
              "                                                    [key], {});\n",
              "        if (!dataTable) return;\n",
              "\n",
              "        const docLinkHtml = 'Like what you see? Visit the ' +\n",
              "          '<a target=\"_blank\" href=https://colab.research.google.com/notebooks/data_table.ipynb>data table notebook</a>'\n",
              "          + ' to learn more about interactive tables.';\n",
              "        element.innerHTML = '';\n",
              "        dataTable['output_type'] = 'display_data';\n",
              "        await google.colab.output.renderOutput(dataTable, element);\n",
              "        const docLink = document.createElement('div');\n",
              "        docLink.innerHTML = docLinkHtml;\n",
              "        element.appendChild(docLink);\n",
              "      }\n",
              "    </script>\n",
              "  </div>\n",
              "\n",
              "\n",
              "<div id=\"df-5ea818e5-ed71-483b-ab85-6b6a9d4a8d88\">\n",
              "  <button class=\"colab-df-quickchart\" onclick=\"quickchart('df-5ea818e5-ed71-483b-ab85-6b6a9d4a8d88')\"\n",
              "            title=\"Suggest charts\"\n",
              "            style=\"display:none;\">\n",
              "\n",
              "<svg xmlns=\"http://www.w3.org/2000/svg\" height=\"24px\"viewBox=\"0 0 24 24\"\n",
              "     width=\"24px\">\n",
              "    <g>\n",
              "        <path d=\"M19 3H5c-1.1 0-2 .9-2 2v14c0 1.1.9 2 2 2h14c1.1 0 2-.9 2-2V5c0-1.1-.9-2-2-2zM9 17H7v-7h2v7zm4 0h-2V7h2v10zm4 0h-2v-4h2v4z\"/>\n",
              "    </g>\n",
              "</svg>\n",
              "  </button>\n",
              "\n",
              "<style>\n",
              "  .colab-df-quickchart {\n",
              "      --bg-color: #E8F0FE;\n",
              "      --fill-color: #1967D2;\n",
              "      --hover-bg-color: #E2EBFA;\n",
              "      --hover-fill-color: #174EA6;\n",
              "      --disabled-fill-color: #AAA;\n",
              "      --disabled-bg-color: #DDD;\n",
              "  }\n",
              "\n",
              "  [theme=dark] .colab-df-quickchart {\n",
              "      --bg-color: #3B4455;\n",
              "      --fill-color: #D2E3FC;\n",
              "      --hover-bg-color: #434B5C;\n",
              "      --hover-fill-color: #FFFFFF;\n",
              "      --disabled-bg-color: #3B4455;\n",
              "      --disabled-fill-color: #666;\n",
              "  }\n",
              "\n",
              "  .colab-df-quickchart {\n",
              "    background-color: var(--bg-color);\n",
              "    border: none;\n",
              "    border-radius: 50%;\n",
              "    cursor: pointer;\n",
              "    display: none;\n",
              "    fill: var(--fill-color);\n",
              "    height: 32px;\n",
              "    padding: 0;\n",
              "    width: 32px;\n",
              "  }\n",
              "\n",
              "  .colab-df-quickchart:hover {\n",
              "    background-color: var(--hover-bg-color);\n",
              "    box-shadow: 0 1px 2px rgba(60, 64, 67, 0.3), 0 1px 3px 1px rgba(60, 64, 67, 0.15);\n",
              "    fill: var(--button-hover-fill-color);\n",
              "  }\n",
              "\n",
              "  .colab-df-quickchart-complete:disabled,\n",
              "  .colab-df-quickchart-complete:disabled:hover {\n",
              "    background-color: var(--disabled-bg-color);\n",
              "    fill: var(--disabled-fill-color);\n",
              "    box-shadow: none;\n",
              "  }\n",
              "\n",
              "  .colab-df-spinner {\n",
              "    border: 2px solid var(--fill-color);\n",
              "    border-color: transparent;\n",
              "    border-bottom-color: var(--fill-color);\n",
              "    animation:\n",
              "      spin 1s steps(1) infinite;\n",
              "  }\n",
              "\n",
              "  @keyframes spin {\n",
              "    0% {\n",
              "      border-color: transparent;\n",
              "      border-bottom-color: var(--fill-color);\n",
              "      border-left-color: var(--fill-color);\n",
              "    }\n",
              "    20% {\n",
              "      border-color: transparent;\n",
              "      border-left-color: var(--fill-color);\n",
              "      border-top-color: var(--fill-color);\n",
              "    }\n",
              "    30% {\n",
              "      border-color: transparent;\n",
              "      border-left-color: var(--fill-color);\n",
              "      border-top-color: var(--fill-color);\n",
              "      border-right-color: var(--fill-color);\n",
              "    }\n",
              "    40% {\n",
              "      border-color: transparent;\n",
              "      border-right-color: var(--fill-color);\n",
              "      border-top-color: var(--fill-color);\n",
              "    }\n",
              "    60% {\n",
              "      border-color: transparent;\n",
              "      border-right-color: var(--fill-color);\n",
              "    }\n",
              "    80% {\n",
              "      border-color: transparent;\n",
              "      border-right-color: var(--fill-color);\n",
              "      border-bottom-color: var(--fill-color);\n",
              "    }\n",
              "    90% {\n",
              "      border-color: transparent;\n",
              "      border-bottom-color: var(--fill-color);\n",
              "    }\n",
              "  }\n",
              "</style>\n",
              "\n",
              "  <script>\n",
              "    async function quickchart(key) {\n",
              "      const quickchartButtonEl =\n",
              "        document.querySelector('#' + key + ' button');\n",
              "      quickchartButtonEl.disabled = true;  // To prevent multiple clicks.\n",
              "      quickchartButtonEl.classList.add('colab-df-spinner');\n",
              "      try {\n",
              "        const charts = await google.colab.kernel.invokeFunction(\n",
              "            'suggestCharts', [key], {});\n",
              "      } catch (error) {\n",
              "        console.error('Error during call to suggestCharts:', error);\n",
              "      }\n",
              "      quickchartButtonEl.classList.remove('colab-df-spinner');\n",
              "      quickchartButtonEl.classList.add('colab-df-quickchart-complete');\n",
              "    }\n",
              "    (() => {\n",
              "      let quickchartButtonEl =\n",
              "        document.querySelector('#df-5ea818e5-ed71-483b-ab85-6b6a9d4a8d88 button');\n",
              "      quickchartButtonEl.style.display =\n",
              "        google.colab.kernel.accessAllowed ? 'block' : 'none';\n",
              "    })();\n",
              "  </script>\n",
              "</div>\n",
              "\n",
              "    </div>\n",
              "  </div>\n"
            ],
            "application/vnd.google.colaboratory.intrinsic+json": {
              "type": "dataframe",
              "summary": "{\n  \"name\": \"xx\",\n  \"rows\": 8,\n  \"fields\": [\n    {\n      \"column\": 0,\n      \"properties\": {\n        \"dtype\": \"number\",\n        \"std\": 10259.185438370143,\n        \"min\": -1.700671151812815,\n        \"max\": 29020.0,\n        \"num_unique_values\": 7,\n        \"samples\": [\n          29020.0,\n          -3.8391833551751794e-16,\n          0.1712698174541912\n        ],\n        \"semantic_type\": \"\",\n        \"description\": \"\"\n      }\n    }\n  ]\n}"
            }
          },
          "metadata": {},
          "execution_count": 290
        }
      ]
    },
    {
      "cell_type": "code",
      "source": [
        "# @title\n",
        "#Aplico el PCA\n",
        "from sklearn.decomposition import PCA\n",
        "\n",
        "pca = PCA()\n",
        "X_train = pca.fit_transform(X_train)\n",
        "X_test = pca.transform(X_test)"
      ],
      "metadata": {
        "cellView": "form",
        "id": "wHsNzos5Z-lV"
      },
      "execution_count": 291,
      "outputs": []
    },
    {
      "cell_type": "code",
      "source": [
        "# @title\n",
        "#Transformo en un DataFrame el X_train luego de aplicarle el PCA para verlo mejor.\n",
        "xpca = pd.DataFrame(X_train)\n",
        "xpca.head()"
      ],
      "metadata": {
        "colab": {
          "base_uri": "https://localhost:8080/",
          "height": 206
        },
        "cellView": "form",
        "id": "yD07UovBaEwX",
        "outputId": "773fb785-55ad-445d-d854-02b47f9292fd"
      },
      "execution_count": 292,
      "outputs": [
        {
          "output_type": "execute_result",
          "data": {
            "text/plain": [
              "          0\n",
              "0  0.001805\n",
              "1  0.171270\n",
              "2  0.001805\n",
              "3 -1.700671\n",
              "4  0.171270"
            ],
            "text/html": [
              "\n",
              "  <div id=\"df-c65cf900-05ec-4331-85c9-87decd114f93\" class=\"colab-df-container\">\n",
              "    <div>\n",
              "<style scoped>\n",
              "    .dataframe tbody tr th:only-of-type {\n",
              "        vertical-align: middle;\n",
              "    }\n",
              "\n",
              "    .dataframe tbody tr th {\n",
              "        vertical-align: top;\n",
              "    }\n",
              "\n",
              "    .dataframe thead th {\n",
              "        text-align: right;\n",
              "    }\n",
              "</style>\n",
              "<table border=\"1\" class=\"dataframe\">\n",
              "  <thead>\n",
              "    <tr style=\"text-align: right;\">\n",
              "      <th></th>\n",
              "      <th>0</th>\n",
              "    </tr>\n",
              "  </thead>\n",
              "  <tbody>\n",
              "    <tr>\n",
              "      <th>0</th>\n",
              "      <td>0.001805</td>\n",
              "    </tr>\n",
              "    <tr>\n",
              "      <th>1</th>\n",
              "      <td>0.171270</td>\n",
              "    </tr>\n",
              "    <tr>\n",
              "      <th>2</th>\n",
              "      <td>0.001805</td>\n",
              "    </tr>\n",
              "    <tr>\n",
              "      <th>3</th>\n",
              "      <td>-1.700671</td>\n",
              "    </tr>\n",
              "    <tr>\n",
              "      <th>4</th>\n",
              "      <td>0.171270</td>\n",
              "    </tr>\n",
              "  </tbody>\n",
              "</table>\n",
              "</div>\n",
              "    <div class=\"colab-df-buttons\">\n",
              "\n",
              "  <div class=\"colab-df-container\">\n",
              "    <button class=\"colab-df-convert\" onclick=\"convertToInteractive('df-c65cf900-05ec-4331-85c9-87decd114f93')\"\n",
              "            title=\"Convert this dataframe to an interactive table.\"\n",
              "            style=\"display:none;\">\n",
              "\n",
              "  <svg xmlns=\"http://www.w3.org/2000/svg\" height=\"24px\" viewBox=\"0 -960 960 960\">\n",
              "    <path d=\"M120-120v-720h720v720H120Zm60-500h600v-160H180v160Zm220 220h160v-160H400v160Zm0 220h160v-160H400v160ZM180-400h160v-160H180v160Zm440 0h160v-160H620v160ZM180-180h160v-160H180v160Zm440 0h160v-160H620v160Z\"/>\n",
              "  </svg>\n",
              "    </button>\n",
              "\n",
              "  <style>\n",
              "    .colab-df-container {\n",
              "      display:flex;\n",
              "      gap: 12px;\n",
              "    }\n",
              "\n",
              "    .colab-df-convert {\n",
              "      background-color: #E8F0FE;\n",
              "      border: none;\n",
              "      border-radius: 50%;\n",
              "      cursor: pointer;\n",
              "      display: none;\n",
              "      fill: #1967D2;\n",
              "      height: 32px;\n",
              "      padding: 0 0 0 0;\n",
              "      width: 32px;\n",
              "    }\n",
              "\n",
              "    .colab-df-convert:hover {\n",
              "      background-color: #E2EBFA;\n",
              "      box-shadow: 0px 1px 2px rgba(60, 64, 67, 0.3), 0px 1px 3px 1px rgba(60, 64, 67, 0.15);\n",
              "      fill: #174EA6;\n",
              "    }\n",
              "\n",
              "    .colab-df-buttons div {\n",
              "      margin-bottom: 4px;\n",
              "    }\n",
              "\n",
              "    [theme=dark] .colab-df-convert {\n",
              "      background-color: #3B4455;\n",
              "      fill: #D2E3FC;\n",
              "    }\n",
              "\n",
              "    [theme=dark] .colab-df-convert:hover {\n",
              "      background-color: #434B5C;\n",
              "      box-shadow: 0px 1px 3px 1px rgba(0, 0, 0, 0.15);\n",
              "      filter: drop-shadow(0px 1px 2px rgba(0, 0, 0, 0.3));\n",
              "      fill: #FFFFFF;\n",
              "    }\n",
              "  </style>\n",
              "\n",
              "    <script>\n",
              "      const buttonEl =\n",
              "        document.querySelector('#df-c65cf900-05ec-4331-85c9-87decd114f93 button.colab-df-convert');\n",
              "      buttonEl.style.display =\n",
              "        google.colab.kernel.accessAllowed ? 'block' : 'none';\n",
              "\n",
              "      async function convertToInteractive(key) {\n",
              "        const element = document.querySelector('#df-c65cf900-05ec-4331-85c9-87decd114f93');\n",
              "        const dataTable =\n",
              "          await google.colab.kernel.invokeFunction('convertToInteractive',\n",
              "                                                    [key], {});\n",
              "        if (!dataTable) return;\n",
              "\n",
              "        const docLinkHtml = 'Like what you see? Visit the ' +\n",
              "          '<a target=\"_blank\" href=https://colab.research.google.com/notebooks/data_table.ipynb>data table notebook</a>'\n",
              "          + ' to learn more about interactive tables.';\n",
              "        element.innerHTML = '';\n",
              "        dataTable['output_type'] = 'display_data';\n",
              "        await google.colab.output.renderOutput(dataTable, element);\n",
              "        const docLink = document.createElement('div');\n",
              "        docLink.innerHTML = docLinkHtml;\n",
              "        element.appendChild(docLink);\n",
              "      }\n",
              "    </script>\n",
              "  </div>\n",
              "\n",
              "\n",
              "<div id=\"df-f10066ef-5a17-4563-833a-0dc9939eebcd\">\n",
              "  <button class=\"colab-df-quickchart\" onclick=\"quickchart('df-f10066ef-5a17-4563-833a-0dc9939eebcd')\"\n",
              "            title=\"Suggest charts\"\n",
              "            style=\"display:none;\">\n",
              "\n",
              "<svg xmlns=\"http://www.w3.org/2000/svg\" height=\"24px\"viewBox=\"0 0 24 24\"\n",
              "     width=\"24px\">\n",
              "    <g>\n",
              "        <path d=\"M19 3H5c-1.1 0-2 .9-2 2v14c0 1.1.9 2 2 2h14c1.1 0 2-.9 2-2V5c0-1.1-.9-2-2-2zM9 17H7v-7h2v7zm4 0h-2V7h2v10zm4 0h-2v-4h2v4z\"/>\n",
              "    </g>\n",
              "</svg>\n",
              "  </button>\n",
              "\n",
              "<style>\n",
              "  .colab-df-quickchart {\n",
              "      --bg-color: #E8F0FE;\n",
              "      --fill-color: #1967D2;\n",
              "      --hover-bg-color: #E2EBFA;\n",
              "      --hover-fill-color: #174EA6;\n",
              "      --disabled-fill-color: #AAA;\n",
              "      --disabled-bg-color: #DDD;\n",
              "  }\n",
              "\n",
              "  [theme=dark] .colab-df-quickchart {\n",
              "      --bg-color: #3B4455;\n",
              "      --fill-color: #D2E3FC;\n",
              "      --hover-bg-color: #434B5C;\n",
              "      --hover-fill-color: #FFFFFF;\n",
              "      --disabled-bg-color: #3B4455;\n",
              "      --disabled-fill-color: #666;\n",
              "  }\n",
              "\n",
              "  .colab-df-quickchart {\n",
              "    background-color: var(--bg-color);\n",
              "    border: none;\n",
              "    border-radius: 50%;\n",
              "    cursor: pointer;\n",
              "    display: none;\n",
              "    fill: var(--fill-color);\n",
              "    height: 32px;\n",
              "    padding: 0;\n",
              "    width: 32px;\n",
              "  }\n",
              "\n",
              "  .colab-df-quickchart:hover {\n",
              "    background-color: var(--hover-bg-color);\n",
              "    box-shadow: 0 1px 2px rgba(60, 64, 67, 0.3), 0 1px 3px 1px rgba(60, 64, 67, 0.15);\n",
              "    fill: var(--button-hover-fill-color);\n",
              "  }\n",
              "\n",
              "  .colab-df-quickchart-complete:disabled,\n",
              "  .colab-df-quickchart-complete:disabled:hover {\n",
              "    background-color: var(--disabled-bg-color);\n",
              "    fill: var(--disabled-fill-color);\n",
              "    box-shadow: none;\n",
              "  }\n",
              "\n",
              "  .colab-df-spinner {\n",
              "    border: 2px solid var(--fill-color);\n",
              "    border-color: transparent;\n",
              "    border-bottom-color: var(--fill-color);\n",
              "    animation:\n",
              "      spin 1s steps(1) infinite;\n",
              "  }\n",
              "\n",
              "  @keyframes spin {\n",
              "    0% {\n",
              "      border-color: transparent;\n",
              "      border-bottom-color: var(--fill-color);\n",
              "      border-left-color: var(--fill-color);\n",
              "    }\n",
              "    20% {\n",
              "      border-color: transparent;\n",
              "      border-left-color: var(--fill-color);\n",
              "      border-top-color: var(--fill-color);\n",
              "    }\n",
              "    30% {\n",
              "      border-color: transparent;\n",
              "      border-left-color: var(--fill-color);\n",
              "      border-top-color: var(--fill-color);\n",
              "      border-right-color: var(--fill-color);\n",
              "    }\n",
              "    40% {\n",
              "      border-color: transparent;\n",
              "      border-right-color: var(--fill-color);\n",
              "      border-top-color: var(--fill-color);\n",
              "    }\n",
              "    60% {\n",
              "      border-color: transparent;\n",
              "      border-right-color: var(--fill-color);\n",
              "    }\n",
              "    80% {\n",
              "      border-color: transparent;\n",
              "      border-right-color: var(--fill-color);\n",
              "      border-bottom-color: var(--fill-color);\n",
              "    }\n",
              "    90% {\n",
              "      border-color: transparent;\n",
              "      border-bottom-color: var(--fill-color);\n",
              "    }\n",
              "  }\n",
              "</style>\n",
              "\n",
              "  <script>\n",
              "    async function quickchart(key) {\n",
              "      const quickchartButtonEl =\n",
              "        document.querySelector('#' + key + ' button');\n",
              "      quickchartButtonEl.disabled = true;  // To prevent multiple clicks.\n",
              "      quickchartButtonEl.classList.add('colab-df-spinner');\n",
              "      try {\n",
              "        const charts = await google.colab.kernel.invokeFunction(\n",
              "            'suggestCharts', [key], {});\n",
              "      } catch (error) {\n",
              "        console.error('Error during call to suggestCharts:', error);\n",
              "      }\n",
              "      quickchartButtonEl.classList.remove('colab-df-spinner');\n",
              "      quickchartButtonEl.classList.add('colab-df-quickchart-complete');\n",
              "    }\n",
              "    (() => {\n",
              "      let quickchartButtonEl =\n",
              "        document.querySelector('#df-f10066ef-5a17-4563-833a-0dc9939eebcd button');\n",
              "      quickchartButtonEl.style.display =\n",
              "        google.colab.kernel.accessAllowed ? 'block' : 'none';\n",
              "    })();\n",
              "  </script>\n",
              "</div>\n",
              "\n",
              "    </div>\n",
              "  </div>\n"
            ],
            "application/vnd.google.colaboratory.intrinsic+json": {
              "type": "dataframe",
              "variable_name": "xpca",
              "summary": "{\n  \"name\": \"xpca\",\n  \"rows\": 29020,\n  \"fields\": [\n    {\n      \"column\": 0,\n      \"properties\": {\n        \"dtype\": \"number\",\n        \"std\": 1.0000172299421948,\n        \"min\": -1.7006711518128146,\n        \"max\": 18.890679510124258,\n        \"num_unique_values\": 9,\n        \"samples\": [\n          5.787092725255209,\n          0.1712698174541916,\n          3.915151755988204\n        ],\n        \"semantic_type\": \"\",\n        \"description\": \"\"\n      }\n    }\n  ]\n}"
            }
          },
          "metadata": {},
          "execution_count": 292
        }
      ]
    },
    {
      "cell_type": "code",
      "source": [
        "# @title\n",
        "#Realizo el análisis de la varianza explicada para cada componente\n",
        "explained_variance = pca.explained_variance_ratio_\n",
        "explained_variance"
      ],
      "metadata": {
        "colab": {
          "base_uri": "https://localhost:8080/"
        },
        "cellView": "form",
        "id": "xq8laY6vaHwE",
        "outputId": "cdccd1cd-9be8-4c79-ec35-e43249bc5c43"
      },
      "execution_count": 293,
      "outputs": [
        {
          "output_type": "execute_result",
          "data": {
            "text/plain": [
              "array([1.])"
            ]
          },
          "metadata": {},
          "execution_count": 293
        }
      ]
    },
    {
      "cell_type": "code",
      "source": [
        "# @title\n",
        "# Creo el modelo Random Forest Classifier\n",
        "model_rf = RandomForestClassifier(max_depth=2, random_state=0)\n",
        "model_rf.fit(X_train, y_train)\n",
        "\n",
        "# Realizo las predicciones.\n",
        "y_pred = model_rf.predict(X_test)"
      ],
      "metadata": {
        "cellView": "form",
        "id": "GQfS0tC7apqi"
      },
      "execution_count": 294,
      "outputs": []
    },
    {
      "cell_type": "code",
      "source": [
        "# @title\n",
        "#Calculo e imprimo el Accuracy.\n",
        "accuracy = accuracy_score(y_test, y_pred)\n",
        "print('El accuracy del modelo es:', accuracy)"
      ],
      "metadata": {
        "colab": {
          "base_uri": "https://localhost:8080/"
        },
        "cellView": "form",
        "id": "l35Lu0KcasuJ",
        "outputId": "4f433c74-baa7-4486-a275-ee0cf8086a59"
      },
      "execution_count": 295,
      "outputs": [
        {
          "output_type": "stream",
          "name": "stdout",
          "text": [
            "El accuracy del modelo es: 1.0\n"
          ]
        }
      ]
    },
    {
      "cell_type": "markdown",
      "source": [
        "La reducción de dimensionalidad con PCA no afectó el rendimiento del modelo y lo simplificó sin perder precisión."
      ],
      "metadata": {
        "id": "B3CUBGEJeYc6"
      }
    },
    {
      "cell_type": "markdown",
      "source": [
        "### **Luego de realizar una matriz de confusión, vemos que el modelo está clasificando correctamente todas las muestras tanto positivas como negativas. Por lo tanto puede significar que el modelo esté overfittiado.**"
      ],
      "metadata": {
        "id": "Bs3YhWth7PEM"
      }
    },
    {
      "cell_type": "markdown",
      "source": [
        "### ***Entreno el modelo Regresión Logística con una nueva variable**"
      ],
      "metadata": {
        "id": "scfhwJo_i9_E"
      }
    },
    {
      "cell_type": "code",
      "source": [
        "# @title\n",
        "# Creo una nueva variable con las características de las reservas.\n",
        "car = [Inn[\"huespedes\"], Inn[\"no_of_weekend_nights\"], Inn[\"no_of_week_nights\"], Inn[\"required_car_parking_space\"], Inn[\"lead_time\"], Inn[\"arrival_date\"], Inn[\"repeated_guest\"], Inn[\"no_of_previous_cancellations\"], Inn[\"no_of_previous_bookings_not_canceled\"], Inn[\"avg_price_per_room\"], Inn[\"no_of_special_requests\"]]"
      ],
      "metadata": {
        "id": "J3l0e84qgEdh",
        "cellView": "form"
      },
      "execution_count": 296,
      "outputs": []
    },
    {
      "cell_type": "code",
      "source": [
        "# @title\n",
        "# La transformo en un DataFrame y traspongo los datos.\n",
        "caract = pd.DataFrame(car).T"
      ],
      "metadata": {
        "id": "4LCfFZO1gkVq",
        "cellView": "form"
      },
      "execution_count": 297,
      "outputs": []
    },
    {
      "cell_type": "code",
      "source": [
        "# @title\n",
        "# Creo las variables \"X\" e \"y\" que contienen las variables a modelar.\n",
        "X2 = caract\n",
        "Y2 = Inn['booking_status']\n",
        "X2"
      ],
      "metadata": {
        "colab": {
          "base_uri": "https://localhost:8080/",
          "height": 444
        },
        "id": "hAd1_TRHgQfu",
        "outputId": "b0c61d8b-c159-44a4-eefc-1365abddd7bf",
        "cellView": "form"
      },
      "execution_count": 298,
      "outputs": [
        {
          "output_type": "execute_result",
          "data": {
            "text/plain": [
              "       huespedes  no_of_weekend_nights  no_of_week_nights  \\\n",
              "0       2.000000                   1.0                2.0   \n",
              "1       2.000000                   2.0                3.0   \n",
              "2       1.909471                   2.0                1.0   \n",
              "3       1.909471                   0.0                2.0   \n",
              "4       1.909471                   1.0                1.0   \n",
              "...          ...                   ...                ...   \n",
              "36270   3.000000                   2.0                6.0   \n",
              "36271   1.909471                   1.0                3.0   \n",
              "36272   2.000000                   2.0                6.0   \n",
              "36273   1.909471                   0.0                3.0   \n",
              "36274   2.000000                   1.0                2.0   \n",
              "\n",
              "       required_car_parking_space  lead_time  arrival_date  repeated_guest  \\\n",
              "0                             0.0      224.0           2.0             0.0   \n",
              "1                             0.0        5.0           6.0             0.0   \n",
              "2                             0.0        1.0          28.0             0.0   \n",
              "3                             0.0      211.0          20.0             0.0   \n",
              "4                             0.0       48.0          11.0             0.0   \n",
              "...                           ...        ...           ...             ...   \n",
              "36270                         0.0       85.0           3.0             0.0   \n",
              "36271                         0.0      228.0          17.0             0.0   \n",
              "36272                         0.0      148.0           1.0             0.0   \n",
              "36273                         0.0       63.0          21.0             0.0   \n",
              "36274                         0.0      207.0          30.0             0.0   \n",
              "\n",
              "       no_of_previous_cancellations  no_of_previous_bookings_not_canceled  \\\n",
              "0                               0.0                                   0.0   \n",
              "1                               0.0                                   0.0   \n",
              "2                               0.0                                   0.0   \n",
              "3                               0.0                                   0.0   \n",
              "4                               0.0                                   0.0   \n",
              "...                             ...                                   ...   \n",
              "36270                           0.0                                   0.0   \n",
              "36271                           0.0                                   0.0   \n",
              "36272                           0.0                                   0.0   \n",
              "36273                           0.0                                   0.0   \n",
              "36274                           0.0                                   0.0   \n",
              "\n",
              "       avg_price_per_room  no_of_special_requests  \n",
              "0                   65.00                     0.0  \n",
              "1                  106.68                     1.0  \n",
              "2                   60.00                     0.0  \n",
              "3                  100.00                     0.0  \n",
              "4                   94.50                     0.0  \n",
              "...                   ...                     ...  \n",
              "36270              167.80                     1.0  \n",
              "36271               90.95                     2.0  \n",
              "36272               98.39                     2.0  \n",
              "36273               94.50                     0.0  \n",
              "36274              161.67                     0.0  \n",
              "\n",
              "[36275 rows x 11 columns]"
            ],
            "text/html": [
              "\n",
              "  <div id=\"df-fd4fab58-aa10-48cd-944d-e328d3ec327c\" class=\"colab-df-container\">\n",
              "    <div>\n",
              "<style scoped>\n",
              "    .dataframe tbody tr th:only-of-type {\n",
              "        vertical-align: middle;\n",
              "    }\n",
              "\n",
              "    .dataframe tbody tr th {\n",
              "        vertical-align: top;\n",
              "    }\n",
              "\n",
              "    .dataframe thead th {\n",
              "        text-align: right;\n",
              "    }\n",
              "</style>\n",
              "<table border=\"1\" class=\"dataframe\">\n",
              "  <thead>\n",
              "    <tr style=\"text-align: right;\">\n",
              "      <th></th>\n",
              "      <th>huespedes</th>\n",
              "      <th>no_of_weekend_nights</th>\n",
              "      <th>no_of_week_nights</th>\n",
              "      <th>required_car_parking_space</th>\n",
              "      <th>lead_time</th>\n",
              "      <th>arrival_date</th>\n",
              "      <th>repeated_guest</th>\n",
              "      <th>no_of_previous_cancellations</th>\n",
              "      <th>no_of_previous_bookings_not_canceled</th>\n",
              "      <th>avg_price_per_room</th>\n",
              "      <th>no_of_special_requests</th>\n",
              "    </tr>\n",
              "  </thead>\n",
              "  <tbody>\n",
              "    <tr>\n",
              "      <th>0</th>\n",
              "      <td>2.000000</td>\n",
              "      <td>1.0</td>\n",
              "      <td>2.0</td>\n",
              "      <td>0.0</td>\n",
              "      <td>224.0</td>\n",
              "      <td>2.0</td>\n",
              "      <td>0.0</td>\n",
              "      <td>0.0</td>\n",
              "      <td>0.0</td>\n",
              "      <td>65.00</td>\n",
              "      <td>0.0</td>\n",
              "    </tr>\n",
              "    <tr>\n",
              "      <th>1</th>\n",
              "      <td>2.000000</td>\n",
              "      <td>2.0</td>\n",
              "      <td>3.0</td>\n",
              "      <td>0.0</td>\n",
              "      <td>5.0</td>\n",
              "      <td>6.0</td>\n",
              "      <td>0.0</td>\n",
              "      <td>0.0</td>\n",
              "      <td>0.0</td>\n",
              "      <td>106.68</td>\n",
              "      <td>1.0</td>\n",
              "    </tr>\n",
              "    <tr>\n",
              "      <th>2</th>\n",
              "      <td>1.909471</td>\n",
              "      <td>2.0</td>\n",
              "      <td>1.0</td>\n",
              "      <td>0.0</td>\n",
              "      <td>1.0</td>\n",
              "      <td>28.0</td>\n",
              "      <td>0.0</td>\n",
              "      <td>0.0</td>\n",
              "      <td>0.0</td>\n",
              "      <td>60.00</td>\n",
              "      <td>0.0</td>\n",
              "    </tr>\n",
              "    <tr>\n",
              "      <th>3</th>\n",
              "      <td>1.909471</td>\n",
              "      <td>0.0</td>\n",
              "      <td>2.0</td>\n",
              "      <td>0.0</td>\n",
              "      <td>211.0</td>\n",
              "      <td>20.0</td>\n",
              "      <td>0.0</td>\n",
              "      <td>0.0</td>\n",
              "      <td>0.0</td>\n",
              "      <td>100.00</td>\n",
              "      <td>0.0</td>\n",
              "    </tr>\n",
              "    <tr>\n",
              "      <th>4</th>\n",
              "      <td>1.909471</td>\n",
              "      <td>1.0</td>\n",
              "      <td>1.0</td>\n",
              "      <td>0.0</td>\n",
              "      <td>48.0</td>\n",
              "      <td>11.0</td>\n",
              "      <td>0.0</td>\n",
              "      <td>0.0</td>\n",
              "      <td>0.0</td>\n",
              "      <td>94.50</td>\n",
              "      <td>0.0</td>\n",
              "    </tr>\n",
              "    <tr>\n",
              "      <th>...</th>\n",
              "      <td>...</td>\n",
              "      <td>...</td>\n",
              "      <td>...</td>\n",
              "      <td>...</td>\n",
              "      <td>...</td>\n",
              "      <td>...</td>\n",
              "      <td>...</td>\n",
              "      <td>...</td>\n",
              "      <td>...</td>\n",
              "      <td>...</td>\n",
              "      <td>...</td>\n",
              "    </tr>\n",
              "    <tr>\n",
              "      <th>36270</th>\n",
              "      <td>3.000000</td>\n",
              "      <td>2.0</td>\n",
              "      <td>6.0</td>\n",
              "      <td>0.0</td>\n",
              "      <td>85.0</td>\n",
              "      <td>3.0</td>\n",
              "      <td>0.0</td>\n",
              "      <td>0.0</td>\n",
              "      <td>0.0</td>\n",
              "      <td>167.80</td>\n",
              "      <td>1.0</td>\n",
              "    </tr>\n",
              "    <tr>\n",
              "      <th>36271</th>\n",
              "      <td>1.909471</td>\n",
              "      <td>1.0</td>\n",
              "      <td>3.0</td>\n",
              "      <td>0.0</td>\n",
              "      <td>228.0</td>\n",
              "      <td>17.0</td>\n",
              "      <td>0.0</td>\n",
              "      <td>0.0</td>\n",
              "      <td>0.0</td>\n",
              "      <td>90.95</td>\n",
              "      <td>2.0</td>\n",
              "    </tr>\n",
              "    <tr>\n",
              "      <th>36272</th>\n",
              "      <td>2.000000</td>\n",
              "      <td>2.0</td>\n",
              "      <td>6.0</td>\n",
              "      <td>0.0</td>\n",
              "      <td>148.0</td>\n",
              "      <td>1.0</td>\n",
              "      <td>0.0</td>\n",
              "      <td>0.0</td>\n",
              "      <td>0.0</td>\n",
              "      <td>98.39</td>\n",
              "      <td>2.0</td>\n",
              "    </tr>\n",
              "    <tr>\n",
              "      <th>36273</th>\n",
              "      <td>1.909471</td>\n",
              "      <td>0.0</td>\n",
              "      <td>3.0</td>\n",
              "      <td>0.0</td>\n",
              "      <td>63.0</td>\n",
              "      <td>21.0</td>\n",
              "      <td>0.0</td>\n",
              "      <td>0.0</td>\n",
              "      <td>0.0</td>\n",
              "      <td>94.50</td>\n",
              "      <td>0.0</td>\n",
              "    </tr>\n",
              "    <tr>\n",
              "      <th>36274</th>\n",
              "      <td>2.000000</td>\n",
              "      <td>1.0</td>\n",
              "      <td>2.0</td>\n",
              "      <td>0.0</td>\n",
              "      <td>207.0</td>\n",
              "      <td>30.0</td>\n",
              "      <td>0.0</td>\n",
              "      <td>0.0</td>\n",
              "      <td>0.0</td>\n",
              "      <td>161.67</td>\n",
              "      <td>0.0</td>\n",
              "    </tr>\n",
              "  </tbody>\n",
              "</table>\n",
              "<p>36275 rows × 11 columns</p>\n",
              "</div>\n",
              "    <div class=\"colab-df-buttons\">\n",
              "\n",
              "  <div class=\"colab-df-container\">\n",
              "    <button class=\"colab-df-convert\" onclick=\"convertToInteractive('df-fd4fab58-aa10-48cd-944d-e328d3ec327c')\"\n",
              "            title=\"Convert this dataframe to an interactive table.\"\n",
              "            style=\"display:none;\">\n",
              "\n",
              "  <svg xmlns=\"http://www.w3.org/2000/svg\" height=\"24px\" viewBox=\"0 -960 960 960\">\n",
              "    <path d=\"M120-120v-720h720v720H120Zm60-500h600v-160H180v160Zm220 220h160v-160H400v160Zm0 220h160v-160H400v160ZM180-400h160v-160H180v160Zm440 0h160v-160H620v160ZM180-180h160v-160H180v160Zm440 0h160v-160H620v160Z\"/>\n",
              "  </svg>\n",
              "    </button>\n",
              "\n",
              "  <style>\n",
              "    .colab-df-container {\n",
              "      display:flex;\n",
              "      gap: 12px;\n",
              "    }\n",
              "\n",
              "    .colab-df-convert {\n",
              "      background-color: #E8F0FE;\n",
              "      border: none;\n",
              "      border-radius: 50%;\n",
              "      cursor: pointer;\n",
              "      display: none;\n",
              "      fill: #1967D2;\n",
              "      height: 32px;\n",
              "      padding: 0 0 0 0;\n",
              "      width: 32px;\n",
              "    }\n",
              "\n",
              "    .colab-df-convert:hover {\n",
              "      background-color: #E2EBFA;\n",
              "      box-shadow: 0px 1px 2px rgba(60, 64, 67, 0.3), 0px 1px 3px 1px rgba(60, 64, 67, 0.15);\n",
              "      fill: #174EA6;\n",
              "    }\n",
              "\n",
              "    .colab-df-buttons div {\n",
              "      margin-bottom: 4px;\n",
              "    }\n",
              "\n",
              "    [theme=dark] .colab-df-convert {\n",
              "      background-color: #3B4455;\n",
              "      fill: #D2E3FC;\n",
              "    }\n",
              "\n",
              "    [theme=dark] .colab-df-convert:hover {\n",
              "      background-color: #434B5C;\n",
              "      box-shadow: 0px 1px 3px 1px rgba(0, 0, 0, 0.15);\n",
              "      filter: drop-shadow(0px 1px 2px rgba(0, 0, 0, 0.3));\n",
              "      fill: #FFFFFF;\n",
              "    }\n",
              "  </style>\n",
              "\n",
              "    <script>\n",
              "      const buttonEl =\n",
              "        document.querySelector('#df-fd4fab58-aa10-48cd-944d-e328d3ec327c button.colab-df-convert');\n",
              "      buttonEl.style.display =\n",
              "        google.colab.kernel.accessAllowed ? 'block' : 'none';\n",
              "\n",
              "      async function convertToInteractive(key) {\n",
              "        const element = document.querySelector('#df-fd4fab58-aa10-48cd-944d-e328d3ec327c');\n",
              "        const dataTable =\n",
              "          await google.colab.kernel.invokeFunction('convertToInteractive',\n",
              "                                                    [key], {});\n",
              "        if (!dataTable) return;\n",
              "\n",
              "        const docLinkHtml = 'Like what you see? Visit the ' +\n",
              "          '<a target=\"_blank\" href=https://colab.research.google.com/notebooks/data_table.ipynb>data table notebook</a>'\n",
              "          + ' to learn more about interactive tables.';\n",
              "        element.innerHTML = '';\n",
              "        dataTable['output_type'] = 'display_data';\n",
              "        await google.colab.output.renderOutput(dataTable, element);\n",
              "        const docLink = document.createElement('div');\n",
              "        docLink.innerHTML = docLinkHtml;\n",
              "        element.appendChild(docLink);\n",
              "      }\n",
              "    </script>\n",
              "  </div>\n",
              "\n",
              "\n",
              "<div id=\"df-901100c8-650b-4376-9c48-d539fd11b484\">\n",
              "  <button class=\"colab-df-quickchart\" onclick=\"quickchart('df-901100c8-650b-4376-9c48-d539fd11b484')\"\n",
              "            title=\"Suggest charts\"\n",
              "            style=\"display:none;\">\n",
              "\n",
              "<svg xmlns=\"http://www.w3.org/2000/svg\" height=\"24px\"viewBox=\"0 0 24 24\"\n",
              "     width=\"24px\">\n",
              "    <g>\n",
              "        <path d=\"M19 3H5c-1.1 0-2 .9-2 2v14c0 1.1.9 2 2 2h14c1.1 0 2-.9 2-2V5c0-1.1-.9-2-2-2zM9 17H7v-7h2v7zm4 0h-2V7h2v10zm4 0h-2v-4h2v4z\"/>\n",
              "    </g>\n",
              "</svg>\n",
              "  </button>\n",
              "\n",
              "<style>\n",
              "  .colab-df-quickchart {\n",
              "      --bg-color: #E8F0FE;\n",
              "      --fill-color: #1967D2;\n",
              "      --hover-bg-color: #E2EBFA;\n",
              "      --hover-fill-color: #174EA6;\n",
              "      --disabled-fill-color: #AAA;\n",
              "      --disabled-bg-color: #DDD;\n",
              "  }\n",
              "\n",
              "  [theme=dark] .colab-df-quickchart {\n",
              "      --bg-color: #3B4455;\n",
              "      --fill-color: #D2E3FC;\n",
              "      --hover-bg-color: #434B5C;\n",
              "      --hover-fill-color: #FFFFFF;\n",
              "      --disabled-bg-color: #3B4455;\n",
              "      --disabled-fill-color: #666;\n",
              "  }\n",
              "\n",
              "  .colab-df-quickchart {\n",
              "    background-color: var(--bg-color);\n",
              "    border: none;\n",
              "    border-radius: 50%;\n",
              "    cursor: pointer;\n",
              "    display: none;\n",
              "    fill: var(--fill-color);\n",
              "    height: 32px;\n",
              "    padding: 0;\n",
              "    width: 32px;\n",
              "  }\n",
              "\n",
              "  .colab-df-quickchart:hover {\n",
              "    background-color: var(--hover-bg-color);\n",
              "    box-shadow: 0 1px 2px rgba(60, 64, 67, 0.3), 0 1px 3px 1px rgba(60, 64, 67, 0.15);\n",
              "    fill: var(--button-hover-fill-color);\n",
              "  }\n",
              "\n",
              "  .colab-df-quickchart-complete:disabled,\n",
              "  .colab-df-quickchart-complete:disabled:hover {\n",
              "    background-color: var(--disabled-bg-color);\n",
              "    fill: var(--disabled-fill-color);\n",
              "    box-shadow: none;\n",
              "  }\n",
              "\n",
              "  .colab-df-spinner {\n",
              "    border: 2px solid var(--fill-color);\n",
              "    border-color: transparent;\n",
              "    border-bottom-color: var(--fill-color);\n",
              "    animation:\n",
              "      spin 1s steps(1) infinite;\n",
              "  }\n",
              "\n",
              "  @keyframes spin {\n",
              "    0% {\n",
              "      border-color: transparent;\n",
              "      border-bottom-color: var(--fill-color);\n",
              "      border-left-color: var(--fill-color);\n",
              "    }\n",
              "    20% {\n",
              "      border-color: transparent;\n",
              "      border-left-color: var(--fill-color);\n",
              "      border-top-color: var(--fill-color);\n",
              "    }\n",
              "    30% {\n",
              "      border-color: transparent;\n",
              "      border-left-color: var(--fill-color);\n",
              "      border-top-color: var(--fill-color);\n",
              "      border-right-color: var(--fill-color);\n",
              "    }\n",
              "    40% {\n",
              "      border-color: transparent;\n",
              "      border-right-color: var(--fill-color);\n",
              "      border-top-color: var(--fill-color);\n",
              "    }\n",
              "    60% {\n",
              "      border-color: transparent;\n",
              "      border-right-color: var(--fill-color);\n",
              "    }\n",
              "    80% {\n",
              "      border-color: transparent;\n",
              "      border-right-color: var(--fill-color);\n",
              "      border-bottom-color: var(--fill-color);\n",
              "    }\n",
              "    90% {\n",
              "      border-color: transparent;\n",
              "      border-bottom-color: var(--fill-color);\n",
              "    }\n",
              "  }\n",
              "</style>\n",
              "\n",
              "  <script>\n",
              "    async function quickchart(key) {\n",
              "      const quickchartButtonEl =\n",
              "        document.querySelector('#' + key + ' button');\n",
              "      quickchartButtonEl.disabled = true;  // To prevent multiple clicks.\n",
              "      quickchartButtonEl.classList.add('colab-df-spinner');\n",
              "      try {\n",
              "        const charts = await google.colab.kernel.invokeFunction(\n",
              "            'suggestCharts', [key], {});\n",
              "      } catch (error) {\n",
              "        console.error('Error during call to suggestCharts:', error);\n",
              "      }\n",
              "      quickchartButtonEl.classList.remove('colab-df-spinner');\n",
              "      quickchartButtonEl.classList.add('colab-df-quickchart-complete');\n",
              "    }\n",
              "    (() => {\n",
              "      let quickchartButtonEl =\n",
              "        document.querySelector('#df-901100c8-650b-4376-9c48-d539fd11b484 button');\n",
              "      quickchartButtonEl.style.display =\n",
              "        google.colab.kernel.accessAllowed ? 'block' : 'none';\n",
              "    })();\n",
              "  </script>\n",
              "</div>\n",
              "\n",
              "  <div id=\"id_ab87a960-f1fb-4e6e-ae78-15bd9fca1219\">\n",
              "    <style>\n",
              "      .colab-df-generate {\n",
              "        background-color: #E8F0FE;\n",
              "        border: none;\n",
              "        border-radius: 50%;\n",
              "        cursor: pointer;\n",
              "        display: none;\n",
              "        fill: #1967D2;\n",
              "        height: 32px;\n",
              "        padding: 0 0 0 0;\n",
              "        width: 32px;\n",
              "      }\n",
              "\n",
              "      .colab-df-generate:hover {\n",
              "        background-color: #E2EBFA;\n",
              "        box-shadow: 0px 1px 2px rgba(60, 64, 67, 0.3), 0px 1px 3px 1px rgba(60, 64, 67, 0.15);\n",
              "        fill: #174EA6;\n",
              "      }\n",
              "\n",
              "      [theme=dark] .colab-df-generate {\n",
              "        background-color: #3B4455;\n",
              "        fill: #D2E3FC;\n",
              "      }\n",
              "\n",
              "      [theme=dark] .colab-df-generate:hover {\n",
              "        background-color: #434B5C;\n",
              "        box-shadow: 0px 1px 3px 1px rgba(0, 0, 0, 0.15);\n",
              "        filter: drop-shadow(0px 1px 2px rgba(0, 0, 0, 0.3));\n",
              "        fill: #FFFFFF;\n",
              "      }\n",
              "    </style>\n",
              "    <button class=\"colab-df-generate\" onclick=\"generateWithVariable('caract')\"\n",
              "            title=\"Generate code using this dataframe.\"\n",
              "            style=\"display:none;\">\n",
              "\n",
              "  <svg xmlns=\"http://www.w3.org/2000/svg\" height=\"24px\"viewBox=\"0 0 24 24\"\n",
              "       width=\"24px\">\n",
              "    <path d=\"M7,19H8.4L18.45,9,17,7.55,7,17.6ZM5,21V16.75L18.45,3.32a2,2,0,0,1,2.83,0l1.4,1.43a1.91,1.91,0,0,1,.58,1.4,1.91,1.91,0,0,1-.58,1.4L9.25,21ZM18.45,9,17,7.55Zm-12,3A5.31,5.31,0,0,0,4.9,8.1,5.31,5.31,0,0,0,1,6.5,5.31,5.31,0,0,0,4.9,4.9,5.31,5.31,0,0,0,6.5,1,5.31,5.31,0,0,0,8.1,4.9,5.31,5.31,0,0,0,12,6.5,5.46,5.46,0,0,0,6.5,12Z\"/>\n",
              "  </svg>\n",
              "    </button>\n",
              "    <script>\n",
              "      (() => {\n",
              "      const buttonEl =\n",
              "        document.querySelector('#id_ab87a960-f1fb-4e6e-ae78-15bd9fca1219 button.colab-df-generate');\n",
              "      buttonEl.style.display =\n",
              "        google.colab.kernel.accessAllowed ? 'block' : 'none';\n",
              "\n",
              "      buttonEl.onclick = () => {\n",
              "        google.colab.notebook.generateWithVariable('caract');\n",
              "      }\n",
              "      })();\n",
              "    </script>\n",
              "  </div>\n",
              "\n",
              "    </div>\n",
              "  </div>\n"
            ],
            "application/vnd.google.colaboratory.intrinsic+json": {
              "type": "dataframe",
              "variable_name": "caract",
              "summary": "{\n  \"name\": \"caract\",\n  \"rows\": 36275,\n  \"fields\": [\n    {\n      \"column\": \"huespedes\",\n      \"properties\": {\n        \"dtype\": \"number\",\n        \"std\": 0.5331827496718725,\n        \"min\": 1.0,\n        \"max\": 12.0,\n        \"num_unique_values\": 8,\n        \"samples\": [\n          1.909471094710947,\n          5.0,\n          2.0\n        ],\n        \"semantic_type\": \"\",\n        \"description\": \"\"\n      }\n    },\n    {\n      \"column\": \"no_of_weekend_nights\",\n      \"properties\": {\n        \"dtype\": \"number\",\n        \"std\": 0.8706436147600001,\n        \"min\": 0.0,\n        \"max\": 7.0,\n        \"num_unique_values\": 8,\n        \"samples\": [\n          2.0,\n          6.0,\n          1.0\n        ],\n        \"semantic_type\": \"\",\n        \"description\": \"\"\n      }\n    },\n    {\n      \"column\": \"no_of_week_nights\",\n      \"properties\": {\n        \"dtype\": \"number\",\n        \"std\": 1.4109048548240168,\n        \"min\": 0.0,\n        \"max\": 17.0,\n        \"num_unique_values\": 18,\n        \"samples\": [\n          2.0,\n          3.0,\n          11.0\n        ],\n        \"semantic_type\": \"\",\n        \"description\": \"\"\n      }\n    },\n    {\n      \"column\": \"required_car_parking_space\",\n      \"properties\": {\n        \"dtype\": \"number\",\n        \"std\": 0.17328084736891503,\n        \"min\": 0.0,\n        \"max\": 1.0,\n        \"num_unique_values\": 2,\n        \"samples\": [\n          1.0,\n          0.0\n        ],\n        \"semantic_type\": \"\",\n        \"description\": \"\"\n      }\n    },\n    {\n      \"column\": \"lead_time\",\n      \"properties\": {\n        \"dtype\": \"number\",\n        \"std\": 85.93081669923257,\n        \"min\": 0.0,\n        \"max\": 443.0,\n        \"num_unique_values\": 352,\n        \"samples\": [\n          176.0,\n          81.0\n        ],\n        \"semantic_type\": \"\",\n        \"description\": \"\"\n      }\n    },\n    {\n      \"column\": \"arrival_date\",\n      \"properties\": {\n        \"dtype\": \"number\",\n        \"std\": 8.740447368632898,\n        \"min\": 1.0,\n        \"max\": 31.0,\n        \"num_unique_values\": 31,\n        \"samples\": [\n          31.0,\n          21.0\n        ],\n        \"semantic_type\": \"\",\n        \"description\": \"\"\n      }\n    },\n    {\n      \"column\": \"repeated_guest\",\n      \"properties\": {\n        \"dtype\": \"number\",\n        \"std\": 0.15805346903513287,\n        \"min\": 0.0,\n        \"max\": 1.0,\n        \"num_unique_values\": 2,\n        \"samples\": [\n          1.0,\n          0.0\n        ],\n        \"semantic_type\": \"\",\n        \"description\": \"\"\n      }\n    },\n    {\n      \"column\": \"no_of_previous_cancellations\",\n      \"properties\": {\n        \"dtype\": \"number\",\n        \"std\": 0.3683314479197876,\n        \"min\": 0.0,\n        \"max\": 13.0,\n        \"num_unique_values\": 9,\n        \"samples\": [\n          13.0,\n          3.0\n        ],\n        \"semantic_type\": \"\",\n        \"description\": \"\"\n      }\n    },\n    {\n      \"column\": \"no_of_previous_bookings_not_canceled\",\n      \"properties\": {\n        \"dtype\": \"number\",\n        \"std\": 1.7541707114426388,\n        \"min\": 0.0,\n        \"max\": 58.0,\n        \"num_unique_values\": 59,\n        \"samples\": [\n          0.0,\n          12.0\n        ],\n        \"semantic_type\": \"\",\n        \"description\": \"\"\n      }\n    },\n    {\n      \"column\": \"avg_price_per_room\",\n      \"properties\": {\n        \"dtype\": \"number\",\n        \"std\": 35.08942403637036,\n        \"min\": 0.0,\n        \"max\": 540.0,\n        \"num_unique_values\": 3930,\n        \"samples\": [\n          198.68,\n          170.63\n        ],\n        \"semantic_type\": \"\",\n        \"description\": \"\"\n      }\n    },\n    {\n      \"column\": \"no_of_special_requests\",\n      \"properties\": {\n        \"dtype\": \"number\",\n        \"std\": 0.7862358983956064,\n        \"min\": 0.0,\n        \"max\": 5.0,\n        \"num_unique_values\": 6,\n        \"samples\": [\n          0.0,\n          1.0\n        ],\n        \"semantic_type\": \"\",\n        \"description\": \"\"\n      }\n    }\n  ]\n}"
            }
          },
          "metadata": {},
          "execution_count": 298
        }
      ]
    },
    {
      "cell_type": "code",
      "source": [
        "# @title\n",
        "# Entreno el modelo.\n",
        "X2_train, X2_test, y2_train, y2_test = train_test_split(X2,Y2,test_size=0.2, random_state=2)"
      ],
      "metadata": {
        "id": "q1eDbhpghfAq",
        "cellView": "form"
      },
      "execution_count": 299,
      "outputs": []
    },
    {
      "cell_type": "code",
      "source": [
        "# @title\n",
        "# El modelo ya contiene la optimización de hiperparámetros necesaria.\n",
        "rl = LogisticRegression(C=0.1, penalty='l2', solver='liblinear')"
      ],
      "metadata": {
        "cellView": "form",
        "id": "fzd3zwm5mdru"
      },
      "execution_count": 300,
      "outputs": []
    },
    {
      "cell_type": "markdown",
      "source": [
        "**OPTIMIZACIÓN DE HIPERPARÁMETROS**"
      ],
      "metadata": {
        "id": "IhPgBDygnUAq"
      }
    },
    {
      "cell_type": "code",
      "source": [
        "# @title\n",
        "#Importo GridSearchCV\n",
        "from sklearn.model_selection import GridSearchCV"
      ],
      "metadata": {
        "cellView": "form",
        "id": "hsXZaUHhkzR2"
      },
      "execution_count": 301,
      "outputs": []
    },
    {
      "cell_type": "code",
      "source": [
        "# @title\n",
        "# Defino el espacio de búsqueda de hiperparámetros\n",
        "param_grid = {\n",
        "    'C': [0.001, 0.01, 0.1, 1, 10, 100],  # Parámetro de regularización\n",
        "    'penalty': ['l1', 'l2'],  # Tipo de regularización\n",
        "    'solver': ['liblinear', 'saga']  # Algoritmo de optimización\n",
        "}"
      ],
      "metadata": {
        "cellView": "form",
        "id": "cm8tW3YHk0M4"
      },
      "execution_count": 302,
      "outputs": []
    },
    {
      "cell_type": "code",
      "source": [
        "# @title\n",
        "# Configuro el GridSearchCV\n",
        "grid_search = GridSearchCV(estimator=rl, param_grid=param_grid, cv=5, scoring='accuracy')"
      ],
      "metadata": {
        "cellView": "form",
        "id": "JlKT74F2k3z9"
      },
      "execution_count": 303,
      "outputs": []
    },
    {
      "cell_type": "code",
      "source": [
        "# @title\n",
        "# Ajusto GridSearchCV a los datos de entrenamiento\n",
        "grid_search.fit(X2_train, y2_train)"
      ],
      "metadata": {
        "colab": {
          "base_uri": "https://localhost:8080/",
          "height": 1000
        },
        "cellView": "form",
        "id": "83iQ3WlFlAN2",
        "outputId": "351e304b-8758-492c-ce99-8f07c9543e9a"
      },
      "execution_count": 304,
      "outputs": [
        {
          "output_type": "stream",
          "name": "stderr",
          "text": [
            "/usr/local/lib/python3.10/dist-packages/sklearn/linear_model/_sag.py:350: ConvergenceWarning: The max_iter was reached which means the coef_ did not converge\n",
            "  warnings.warn(\n",
            "/usr/local/lib/python3.10/dist-packages/sklearn/linear_model/_sag.py:350: ConvergenceWarning: The max_iter was reached which means the coef_ did not converge\n",
            "  warnings.warn(\n",
            "/usr/local/lib/python3.10/dist-packages/sklearn/linear_model/_sag.py:350: ConvergenceWarning: The max_iter was reached which means the coef_ did not converge\n",
            "  warnings.warn(\n",
            "/usr/local/lib/python3.10/dist-packages/sklearn/linear_model/_sag.py:350: ConvergenceWarning: The max_iter was reached which means the coef_ did not converge\n",
            "  warnings.warn(\n",
            "/usr/local/lib/python3.10/dist-packages/sklearn/linear_model/_sag.py:350: ConvergenceWarning: The max_iter was reached which means the coef_ did not converge\n",
            "  warnings.warn(\n",
            "/usr/local/lib/python3.10/dist-packages/sklearn/linear_model/_sag.py:350: ConvergenceWarning: The max_iter was reached which means the coef_ did not converge\n",
            "  warnings.warn(\n",
            "/usr/local/lib/python3.10/dist-packages/sklearn/linear_model/_sag.py:350: ConvergenceWarning: The max_iter was reached which means the coef_ did not converge\n",
            "  warnings.warn(\n",
            "/usr/local/lib/python3.10/dist-packages/sklearn/linear_model/_sag.py:350: ConvergenceWarning: The max_iter was reached which means the coef_ did not converge\n",
            "  warnings.warn(\n",
            "/usr/local/lib/python3.10/dist-packages/sklearn/linear_model/_sag.py:350: ConvergenceWarning: The max_iter was reached which means the coef_ did not converge\n",
            "  warnings.warn(\n",
            "/usr/local/lib/python3.10/dist-packages/sklearn/linear_model/_sag.py:350: ConvergenceWarning: The max_iter was reached which means the coef_ did not converge\n",
            "  warnings.warn(\n",
            "/usr/local/lib/python3.10/dist-packages/sklearn/linear_model/_sag.py:350: ConvergenceWarning: The max_iter was reached which means the coef_ did not converge\n",
            "  warnings.warn(\n",
            "/usr/local/lib/python3.10/dist-packages/sklearn/linear_model/_sag.py:350: ConvergenceWarning: The max_iter was reached which means the coef_ did not converge\n",
            "  warnings.warn(\n",
            "/usr/local/lib/python3.10/dist-packages/sklearn/linear_model/_sag.py:350: ConvergenceWarning: The max_iter was reached which means the coef_ did not converge\n",
            "  warnings.warn(\n",
            "/usr/local/lib/python3.10/dist-packages/sklearn/linear_model/_sag.py:350: ConvergenceWarning: The max_iter was reached which means the coef_ did not converge\n",
            "  warnings.warn(\n",
            "/usr/local/lib/python3.10/dist-packages/sklearn/linear_model/_sag.py:350: ConvergenceWarning: The max_iter was reached which means the coef_ did not converge\n",
            "  warnings.warn(\n",
            "/usr/local/lib/python3.10/dist-packages/sklearn/linear_model/_sag.py:350: ConvergenceWarning: The max_iter was reached which means the coef_ did not converge\n",
            "  warnings.warn(\n",
            "/usr/local/lib/python3.10/dist-packages/sklearn/linear_model/_sag.py:350: ConvergenceWarning: The max_iter was reached which means the coef_ did not converge\n",
            "  warnings.warn(\n",
            "/usr/local/lib/python3.10/dist-packages/sklearn/linear_model/_sag.py:350: ConvergenceWarning: The max_iter was reached which means the coef_ did not converge\n",
            "  warnings.warn(\n",
            "/usr/local/lib/python3.10/dist-packages/sklearn/linear_model/_sag.py:350: ConvergenceWarning: The max_iter was reached which means the coef_ did not converge\n",
            "  warnings.warn(\n",
            "/usr/local/lib/python3.10/dist-packages/sklearn/linear_model/_sag.py:350: ConvergenceWarning: The max_iter was reached which means the coef_ did not converge\n",
            "  warnings.warn(\n",
            "/usr/local/lib/python3.10/dist-packages/sklearn/linear_model/_sag.py:350: ConvergenceWarning: The max_iter was reached which means the coef_ did not converge\n",
            "  warnings.warn(\n",
            "/usr/local/lib/python3.10/dist-packages/sklearn/linear_model/_sag.py:350: ConvergenceWarning: The max_iter was reached which means the coef_ did not converge\n",
            "  warnings.warn(\n",
            "/usr/local/lib/python3.10/dist-packages/sklearn/linear_model/_sag.py:350: ConvergenceWarning: The max_iter was reached which means the coef_ did not converge\n",
            "  warnings.warn(\n",
            "/usr/local/lib/python3.10/dist-packages/sklearn/linear_model/_sag.py:350: ConvergenceWarning: The max_iter was reached which means the coef_ did not converge\n",
            "  warnings.warn(\n",
            "/usr/local/lib/python3.10/dist-packages/sklearn/linear_model/_sag.py:350: ConvergenceWarning: The max_iter was reached which means the coef_ did not converge\n",
            "  warnings.warn(\n",
            "/usr/local/lib/python3.10/dist-packages/sklearn/linear_model/_sag.py:350: ConvergenceWarning: The max_iter was reached which means the coef_ did not converge\n",
            "  warnings.warn(\n",
            "/usr/local/lib/python3.10/dist-packages/sklearn/linear_model/_sag.py:350: ConvergenceWarning: The max_iter was reached which means the coef_ did not converge\n",
            "  warnings.warn(\n",
            "/usr/local/lib/python3.10/dist-packages/sklearn/linear_model/_sag.py:350: ConvergenceWarning: The max_iter was reached which means the coef_ did not converge\n",
            "  warnings.warn(\n",
            "/usr/local/lib/python3.10/dist-packages/sklearn/linear_model/_sag.py:350: ConvergenceWarning: The max_iter was reached which means the coef_ did not converge\n",
            "  warnings.warn(\n",
            "/usr/local/lib/python3.10/dist-packages/sklearn/linear_model/_sag.py:350: ConvergenceWarning: The max_iter was reached which means the coef_ did not converge\n",
            "  warnings.warn(\n",
            "/usr/local/lib/python3.10/dist-packages/sklearn/linear_model/_sag.py:350: ConvergenceWarning: The max_iter was reached which means the coef_ did not converge\n",
            "  warnings.warn(\n",
            "/usr/local/lib/python3.10/dist-packages/sklearn/linear_model/_sag.py:350: ConvergenceWarning: The max_iter was reached which means the coef_ did not converge\n",
            "  warnings.warn(\n",
            "/usr/local/lib/python3.10/dist-packages/sklearn/linear_model/_sag.py:350: ConvergenceWarning: The max_iter was reached which means the coef_ did not converge\n",
            "  warnings.warn(\n",
            "/usr/local/lib/python3.10/dist-packages/sklearn/linear_model/_sag.py:350: ConvergenceWarning: The max_iter was reached which means the coef_ did not converge\n",
            "  warnings.warn(\n",
            "/usr/local/lib/python3.10/dist-packages/sklearn/linear_model/_sag.py:350: ConvergenceWarning: The max_iter was reached which means the coef_ did not converge\n",
            "  warnings.warn(\n",
            "/usr/local/lib/python3.10/dist-packages/sklearn/linear_model/_sag.py:350: ConvergenceWarning: The max_iter was reached which means the coef_ did not converge\n",
            "  warnings.warn(\n",
            "/usr/local/lib/python3.10/dist-packages/sklearn/linear_model/_sag.py:350: ConvergenceWarning: The max_iter was reached which means the coef_ did not converge\n",
            "  warnings.warn(\n",
            "/usr/local/lib/python3.10/dist-packages/sklearn/linear_model/_sag.py:350: ConvergenceWarning: The max_iter was reached which means the coef_ did not converge\n",
            "  warnings.warn(\n",
            "/usr/local/lib/python3.10/dist-packages/sklearn/linear_model/_sag.py:350: ConvergenceWarning: The max_iter was reached which means the coef_ did not converge\n",
            "  warnings.warn(\n",
            "/usr/local/lib/python3.10/dist-packages/sklearn/linear_model/_sag.py:350: ConvergenceWarning: The max_iter was reached which means the coef_ did not converge\n",
            "  warnings.warn(\n",
            "/usr/local/lib/python3.10/dist-packages/sklearn/linear_model/_sag.py:350: ConvergenceWarning: The max_iter was reached which means the coef_ did not converge\n",
            "  warnings.warn(\n",
            "/usr/local/lib/python3.10/dist-packages/sklearn/linear_model/_sag.py:350: ConvergenceWarning: The max_iter was reached which means the coef_ did not converge\n",
            "  warnings.warn(\n",
            "/usr/local/lib/python3.10/dist-packages/sklearn/linear_model/_sag.py:350: ConvergenceWarning: The max_iter was reached which means the coef_ did not converge\n",
            "  warnings.warn(\n",
            "/usr/local/lib/python3.10/dist-packages/sklearn/linear_model/_sag.py:350: ConvergenceWarning: The max_iter was reached which means the coef_ did not converge\n",
            "  warnings.warn(\n",
            "/usr/local/lib/python3.10/dist-packages/sklearn/linear_model/_sag.py:350: ConvergenceWarning: The max_iter was reached which means the coef_ did not converge\n",
            "  warnings.warn(\n",
            "/usr/local/lib/python3.10/dist-packages/sklearn/linear_model/_sag.py:350: ConvergenceWarning: The max_iter was reached which means the coef_ did not converge\n",
            "  warnings.warn(\n",
            "/usr/local/lib/python3.10/dist-packages/sklearn/linear_model/_sag.py:350: ConvergenceWarning: The max_iter was reached which means the coef_ did not converge\n",
            "  warnings.warn(\n",
            "/usr/local/lib/python3.10/dist-packages/sklearn/linear_model/_sag.py:350: ConvergenceWarning: The max_iter was reached which means the coef_ did not converge\n",
            "  warnings.warn(\n",
            "/usr/local/lib/python3.10/dist-packages/sklearn/linear_model/_sag.py:350: ConvergenceWarning: The max_iter was reached which means the coef_ did not converge\n",
            "  warnings.warn(\n",
            "/usr/local/lib/python3.10/dist-packages/sklearn/linear_model/_sag.py:350: ConvergenceWarning: The max_iter was reached which means the coef_ did not converge\n",
            "  warnings.warn(\n",
            "/usr/local/lib/python3.10/dist-packages/sklearn/linear_model/_sag.py:350: ConvergenceWarning: The max_iter was reached which means the coef_ did not converge\n",
            "  warnings.warn(\n",
            "/usr/local/lib/python3.10/dist-packages/sklearn/linear_model/_sag.py:350: ConvergenceWarning: The max_iter was reached which means the coef_ did not converge\n",
            "  warnings.warn(\n",
            "/usr/local/lib/python3.10/dist-packages/sklearn/linear_model/_sag.py:350: ConvergenceWarning: The max_iter was reached which means the coef_ did not converge\n",
            "  warnings.warn(\n",
            "/usr/local/lib/python3.10/dist-packages/sklearn/linear_model/_sag.py:350: ConvergenceWarning: The max_iter was reached which means the coef_ did not converge\n",
            "  warnings.warn(\n",
            "/usr/local/lib/python3.10/dist-packages/sklearn/linear_model/_sag.py:350: ConvergenceWarning: The max_iter was reached which means the coef_ did not converge\n",
            "  warnings.warn(\n",
            "/usr/local/lib/python3.10/dist-packages/sklearn/linear_model/_sag.py:350: ConvergenceWarning: The max_iter was reached which means the coef_ did not converge\n",
            "  warnings.warn(\n",
            "/usr/local/lib/python3.10/dist-packages/sklearn/linear_model/_sag.py:350: ConvergenceWarning: The max_iter was reached which means the coef_ did not converge\n",
            "  warnings.warn(\n",
            "/usr/local/lib/python3.10/dist-packages/sklearn/linear_model/_sag.py:350: ConvergenceWarning: The max_iter was reached which means the coef_ did not converge\n",
            "  warnings.warn(\n",
            "/usr/local/lib/python3.10/dist-packages/sklearn/linear_model/_sag.py:350: ConvergenceWarning: The max_iter was reached which means the coef_ did not converge\n",
            "  warnings.warn(\n",
            "/usr/local/lib/python3.10/dist-packages/sklearn/linear_model/_sag.py:350: ConvergenceWarning: The max_iter was reached which means the coef_ did not converge\n",
            "  warnings.warn(\n"
          ]
        },
        {
          "output_type": "execute_result",
          "data": {
            "text/plain": [
              "GridSearchCV(cv=5, estimator=LogisticRegression(C=0.1, solver='liblinear'),\n",
              "             param_grid={'C': [0.001, 0.01, 0.1, 1, 10, 100],\n",
              "                         'penalty': ['l1', 'l2'],\n",
              "                         'solver': ['liblinear', 'saga']},\n",
              "             scoring='accuracy')"
            ],
            "text/html": [
              "<style>#sk-container-id-9 {color: black;background-color: white;}#sk-container-id-9 pre{padding: 0;}#sk-container-id-9 div.sk-toggleable {background-color: white;}#sk-container-id-9 label.sk-toggleable__label {cursor: pointer;display: block;width: 100%;margin-bottom: 0;padding: 0.3em;box-sizing: border-box;text-align: center;}#sk-container-id-9 label.sk-toggleable__label-arrow:before {content: \"▸\";float: left;margin-right: 0.25em;color: #696969;}#sk-container-id-9 label.sk-toggleable__label-arrow:hover:before {color: black;}#sk-container-id-9 div.sk-estimator:hover label.sk-toggleable__label-arrow:before {color: black;}#sk-container-id-9 div.sk-toggleable__content {max-height: 0;max-width: 0;overflow: hidden;text-align: left;background-color: #f0f8ff;}#sk-container-id-9 div.sk-toggleable__content pre {margin: 0.2em;color: black;border-radius: 0.25em;background-color: #f0f8ff;}#sk-container-id-9 input.sk-toggleable__control:checked~div.sk-toggleable__content {max-height: 200px;max-width: 100%;overflow: auto;}#sk-container-id-9 input.sk-toggleable__control:checked~label.sk-toggleable__label-arrow:before {content: \"▾\";}#sk-container-id-9 div.sk-estimator input.sk-toggleable__control:checked~label.sk-toggleable__label {background-color: #d4ebff;}#sk-container-id-9 div.sk-label input.sk-toggleable__control:checked~label.sk-toggleable__label {background-color: #d4ebff;}#sk-container-id-9 input.sk-hidden--visually {border: 0;clip: rect(1px 1px 1px 1px);clip: rect(1px, 1px, 1px, 1px);height: 1px;margin: -1px;overflow: hidden;padding: 0;position: absolute;width: 1px;}#sk-container-id-9 div.sk-estimator {font-family: monospace;background-color: #f0f8ff;border: 1px dotted black;border-radius: 0.25em;box-sizing: border-box;margin-bottom: 0.5em;}#sk-container-id-9 div.sk-estimator:hover {background-color: #d4ebff;}#sk-container-id-9 div.sk-parallel-item::after {content: \"\";width: 100%;border-bottom: 1px solid gray;flex-grow: 1;}#sk-container-id-9 div.sk-label:hover label.sk-toggleable__label {background-color: #d4ebff;}#sk-container-id-9 div.sk-serial::before {content: \"\";position: absolute;border-left: 1px solid gray;box-sizing: border-box;top: 0;bottom: 0;left: 50%;z-index: 0;}#sk-container-id-9 div.sk-serial {display: flex;flex-direction: column;align-items: center;background-color: white;padding-right: 0.2em;padding-left: 0.2em;position: relative;}#sk-container-id-9 div.sk-item {position: relative;z-index: 1;}#sk-container-id-9 div.sk-parallel {display: flex;align-items: stretch;justify-content: center;background-color: white;position: relative;}#sk-container-id-9 div.sk-item::before, #sk-container-id-9 div.sk-parallel-item::before {content: \"\";position: absolute;border-left: 1px solid gray;box-sizing: border-box;top: 0;bottom: 0;left: 50%;z-index: -1;}#sk-container-id-9 div.sk-parallel-item {display: flex;flex-direction: column;z-index: 1;position: relative;background-color: white;}#sk-container-id-9 div.sk-parallel-item:first-child::after {align-self: flex-end;width: 50%;}#sk-container-id-9 div.sk-parallel-item:last-child::after {align-self: flex-start;width: 50%;}#sk-container-id-9 div.sk-parallel-item:only-child::after {width: 0;}#sk-container-id-9 div.sk-dashed-wrapped {border: 1px dashed gray;margin: 0 0.4em 0.5em 0.4em;box-sizing: border-box;padding-bottom: 0.4em;background-color: white;}#sk-container-id-9 div.sk-label label {font-family: monospace;font-weight: bold;display: inline-block;line-height: 1.2em;}#sk-container-id-9 div.sk-label-container {text-align: center;}#sk-container-id-9 div.sk-container {/* jupyter's `normalize.less` sets `[hidden] { display: none; }` but bootstrap.min.css set `[hidden] { display: none !important; }` so we also need the `!important` here to be able to override the default hidden behavior on the sphinx rendered scikit-learn.org. See: https://github.com/scikit-learn/scikit-learn/issues/21755 */display: inline-block !important;position: relative;}#sk-container-id-9 div.sk-text-repr-fallback {display: none;}</style><div id=\"sk-container-id-9\" class=\"sk-top-container\"><div class=\"sk-text-repr-fallback\"><pre>GridSearchCV(cv=5, estimator=LogisticRegression(C=0.1, solver=&#x27;liblinear&#x27;),\n",
              "             param_grid={&#x27;C&#x27;: [0.001, 0.01, 0.1, 1, 10, 100],\n",
              "                         &#x27;penalty&#x27;: [&#x27;l1&#x27;, &#x27;l2&#x27;],\n",
              "                         &#x27;solver&#x27;: [&#x27;liblinear&#x27;, &#x27;saga&#x27;]},\n",
              "             scoring=&#x27;accuracy&#x27;)</pre><b>In a Jupyter environment, please rerun this cell to show the HTML representation or trust the notebook. <br />On GitHub, the HTML representation is unable to render, please try loading this page with nbviewer.org.</b></div><div class=\"sk-container\" hidden><div class=\"sk-item sk-dashed-wrapped\"><div class=\"sk-label-container\"><div class=\"sk-label sk-toggleable\"><input class=\"sk-toggleable__control sk-hidden--visually\" id=\"sk-estimator-id-15\" type=\"checkbox\" ><label for=\"sk-estimator-id-15\" class=\"sk-toggleable__label sk-toggleable__label-arrow\">GridSearchCV</label><div class=\"sk-toggleable__content\"><pre>GridSearchCV(cv=5, estimator=LogisticRegression(C=0.1, solver=&#x27;liblinear&#x27;),\n",
              "             param_grid={&#x27;C&#x27;: [0.001, 0.01, 0.1, 1, 10, 100],\n",
              "                         &#x27;penalty&#x27;: [&#x27;l1&#x27;, &#x27;l2&#x27;],\n",
              "                         &#x27;solver&#x27;: [&#x27;liblinear&#x27;, &#x27;saga&#x27;]},\n",
              "             scoring=&#x27;accuracy&#x27;)</pre></div></div></div><div class=\"sk-parallel\"><div class=\"sk-parallel-item\"><div class=\"sk-item\"><div class=\"sk-label-container\"><div class=\"sk-label sk-toggleable\"><input class=\"sk-toggleable__control sk-hidden--visually\" id=\"sk-estimator-id-16\" type=\"checkbox\" ><label for=\"sk-estimator-id-16\" class=\"sk-toggleable__label sk-toggleable__label-arrow\">estimator: LogisticRegression</label><div class=\"sk-toggleable__content\"><pre>LogisticRegression(C=0.1, solver=&#x27;liblinear&#x27;)</pre></div></div></div><div class=\"sk-serial\"><div class=\"sk-item\"><div class=\"sk-estimator sk-toggleable\"><input class=\"sk-toggleable__control sk-hidden--visually\" id=\"sk-estimator-id-17\" type=\"checkbox\" ><label for=\"sk-estimator-id-17\" class=\"sk-toggleable__label sk-toggleable__label-arrow\">LogisticRegression</label><div class=\"sk-toggleable__content\"><pre>LogisticRegression(C=0.1, solver=&#x27;liblinear&#x27;)</pre></div></div></div></div></div></div></div></div></div></div>"
            ]
          },
          "metadata": {},
          "execution_count": 304
        }
      ]
    },
    {
      "cell_type": "code",
      "source": [
        "# @title\n",
        "# Obtener los mejores hiperparámetros y el mejor score\n",
        "best_params = grid_search.best_params_\n",
        "best_score = grid_search.best_score_\n",
        "\n",
        "print(\"Mejores hiperparámetros:\", best_params)\n",
        "print(\"Mejor score de validación cruzada:\", best_score)"
      ],
      "metadata": {
        "colab": {
          "base_uri": "https://localhost:8080/"
        },
        "cellView": "form",
        "id": "cR25wfiulFEP",
        "outputId": "67255cb1-6e3b-49d6-e6a4-58a27bd998b8"
      },
      "execution_count": 305,
      "outputs": [
        {
          "output_type": "stream",
          "name": "stdout",
          "text": [
            "Mejores hiperparámetros: {'C': 0.1, 'penalty': 'l2', 'solver': 'liblinear'}\n",
            "Mejor score de validación cruzada: 0.7839076498966231\n"
          ]
        }
      ]
    },
    {
      "cell_type": "code",
      "source": [
        "# @title\n",
        "# Evaluar el mejor modelo en los datos de prueba\n",
        "best_model = grid_search.best_estimator_\n",
        "test_score = best_model.score(X2_test, y2_test)\n",
        "print(\"Score en los datos de prueba:\", test_score)"
      ],
      "metadata": {
        "colab": {
          "base_uri": "https://localhost:8080/"
        },
        "cellView": "form",
        "id": "lmo2CxBzlXug",
        "outputId": "08cae1af-f883-44d0-f0ca-7877dc317efc"
      },
      "execution_count": 306,
      "outputs": [
        {
          "output_type": "stream",
          "name": "stdout",
          "text": [
            "Score en los datos de prueba: 0.780565127498277\n"
          ]
        }
      ]
    },
    {
      "cell_type": "markdown",
      "source": [
        "**Continúo con el modelado.**"
      ],
      "metadata": {
        "id": "Ny-s07CGoKWZ"
      }
    },
    {
      "cell_type": "code",
      "source": [
        "# @title\n",
        "#Utilizo el modelo regresion logística, que está guardado en la variable \"rl\"\n",
        "rl.fit(X2_train, y2_train)"
      ],
      "metadata": {
        "colab": {
          "base_uri": "https://localhost:8080/",
          "height": 75
        },
        "id": "9Ypuz-T7hw3J",
        "outputId": "b5741c54-95fc-41d2-c881-f30bbb445d42",
        "cellView": "form"
      },
      "execution_count": 307,
      "outputs": [
        {
          "output_type": "execute_result",
          "data": {
            "text/plain": [
              "LogisticRegression(C=0.1, solver='liblinear')"
            ],
            "text/html": [
              "<style>#sk-container-id-10 {color: black;background-color: white;}#sk-container-id-10 pre{padding: 0;}#sk-container-id-10 div.sk-toggleable {background-color: white;}#sk-container-id-10 label.sk-toggleable__label {cursor: pointer;display: block;width: 100%;margin-bottom: 0;padding: 0.3em;box-sizing: border-box;text-align: center;}#sk-container-id-10 label.sk-toggleable__label-arrow:before {content: \"▸\";float: left;margin-right: 0.25em;color: #696969;}#sk-container-id-10 label.sk-toggleable__label-arrow:hover:before {color: black;}#sk-container-id-10 div.sk-estimator:hover label.sk-toggleable__label-arrow:before {color: black;}#sk-container-id-10 div.sk-toggleable__content {max-height: 0;max-width: 0;overflow: hidden;text-align: left;background-color: #f0f8ff;}#sk-container-id-10 div.sk-toggleable__content pre {margin: 0.2em;color: black;border-radius: 0.25em;background-color: #f0f8ff;}#sk-container-id-10 input.sk-toggleable__control:checked~div.sk-toggleable__content {max-height: 200px;max-width: 100%;overflow: auto;}#sk-container-id-10 input.sk-toggleable__control:checked~label.sk-toggleable__label-arrow:before {content: \"▾\";}#sk-container-id-10 div.sk-estimator input.sk-toggleable__control:checked~label.sk-toggleable__label {background-color: #d4ebff;}#sk-container-id-10 div.sk-label input.sk-toggleable__control:checked~label.sk-toggleable__label {background-color: #d4ebff;}#sk-container-id-10 input.sk-hidden--visually {border: 0;clip: rect(1px 1px 1px 1px);clip: rect(1px, 1px, 1px, 1px);height: 1px;margin: -1px;overflow: hidden;padding: 0;position: absolute;width: 1px;}#sk-container-id-10 div.sk-estimator {font-family: monospace;background-color: #f0f8ff;border: 1px dotted black;border-radius: 0.25em;box-sizing: border-box;margin-bottom: 0.5em;}#sk-container-id-10 div.sk-estimator:hover {background-color: #d4ebff;}#sk-container-id-10 div.sk-parallel-item::after {content: \"\";width: 100%;border-bottom: 1px solid gray;flex-grow: 1;}#sk-container-id-10 div.sk-label:hover label.sk-toggleable__label {background-color: #d4ebff;}#sk-container-id-10 div.sk-serial::before {content: \"\";position: absolute;border-left: 1px solid gray;box-sizing: border-box;top: 0;bottom: 0;left: 50%;z-index: 0;}#sk-container-id-10 div.sk-serial {display: flex;flex-direction: column;align-items: center;background-color: white;padding-right: 0.2em;padding-left: 0.2em;position: relative;}#sk-container-id-10 div.sk-item {position: relative;z-index: 1;}#sk-container-id-10 div.sk-parallel {display: flex;align-items: stretch;justify-content: center;background-color: white;position: relative;}#sk-container-id-10 div.sk-item::before, #sk-container-id-10 div.sk-parallel-item::before {content: \"\";position: absolute;border-left: 1px solid gray;box-sizing: border-box;top: 0;bottom: 0;left: 50%;z-index: -1;}#sk-container-id-10 div.sk-parallel-item {display: flex;flex-direction: column;z-index: 1;position: relative;background-color: white;}#sk-container-id-10 div.sk-parallel-item:first-child::after {align-self: flex-end;width: 50%;}#sk-container-id-10 div.sk-parallel-item:last-child::after {align-self: flex-start;width: 50%;}#sk-container-id-10 div.sk-parallel-item:only-child::after {width: 0;}#sk-container-id-10 div.sk-dashed-wrapped {border: 1px dashed gray;margin: 0 0.4em 0.5em 0.4em;box-sizing: border-box;padding-bottom: 0.4em;background-color: white;}#sk-container-id-10 div.sk-label label {font-family: monospace;font-weight: bold;display: inline-block;line-height: 1.2em;}#sk-container-id-10 div.sk-label-container {text-align: center;}#sk-container-id-10 div.sk-container {/* jupyter's `normalize.less` sets `[hidden] { display: none; }` but bootstrap.min.css set `[hidden] { display: none !important; }` so we also need the `!important` here to be able to override the default hidden behavior on the sphinx rendered scikit-learn.org. See: https://github.com/scikit-learn/scikit-learn/issues/21755 */display: inline-block !important;position: relative;}#sk-container-id-10 div.sk-text-repr-fallback {display: none;}</style><div id=\"sk-container-id-10\" class=\"sk-top-container\"><div class=\"sk-text-repr-fallback\"><pre>LogisticRegression(C=0.1, solver=&#x27;liblinear&#x27;)</pre><b>In a Jupyter environment, please rerun this cell to show the HTML representation or trust the notebook. <br />On GitHub, the HTML representation is unable to render, please try loading this page with nbviewer.org.</b></div><div class=\"sk-container\" hidden><div class=\"sk-item\"><div class=\"sk-estimator sk-toggleable\"><input class=\"sk-toggleable__control sk-hidden--visually\" id=\"sk-estimator-id-18\" type=\"checkbox\" checked><label for=\"sk-estimator-id-18\" class=\"sk-toggleable__label sk-toggleable__label-arrow\">LogisticRegression</label><div class=\"sk-toggleable__content\"><pre>LogisticRegression(C=0.1, solver=&#x27;liblinear&#x27;)</pre></div></div></div></div></div>"
            ]
          },
          "metadata": {},
          "execution_count": 307
        }
      ]
    },
    {
      "cell_type": "code",
      "source": [
        "# @title\n",
        "# Realizo las predicciones.\n",
        "pred2 = rl.predict(X2_test)\n",
        "print(f'pred2: {predicciones}')"
      ],
      "metadata": {
        "colab": {
          "base_uri": "https://localhost:8080/"
        },
        "id": "zQCgZuHEiPiw",
        "outputId": "afd9b600-3d84-4d38-f985-ab8999b26a92",
        "cellView": "form"
      },
      "execution_count": 308,
      "outputs": [
        {
          "output_type": "stream",
          "name": "stdout",
          "text": [
            "pred2: ['Not_Canceled' 'Not_Canceled' 'Not_Canceled' ... 'Not_Canceled'\n",
            " 'Not_Canceled' 'Not_Canceled']\n"
          ]
        }
      ]
    },
    {
      "cell_type": "code",
      "source": [
        "# @title\n",
        "y2_test # Imprimo las etiquetas del conjunto de prueba."
      ],
      "metadata": {
        "colab": {
          "base_uri": "https://localhost:8080/"
        },
        "id": "9S9bJY8wisR7",
        "outputId": "5fe7b5c8-c57f-442d-ecb2-b57dce3116c2",
        "cellView": "form"
      },
      "execution_count": 309,
      "outputs": [
        {
          "output_type": "execute_result",
          "data": {
            "text/plain": [
              "3281     Not_Canceled\n",
              "27326    Not_Canceled\n",
              "22178    Not_Canceled\n",
              "16974        Canceled\n",
              "6931     Not_Canceled\n",
              "             ...     \n",
              "15639    Not_Canceled\n",
              "29944        Canceled\n",
              "20871    Not_Canceled\n",
              "35794    Not_Canceled\n",
              "21599    Not_Canceled\n",
              "Name: booking_status, Length: 7255, dtype: object"
            ]
          },
          "metadata": {},
          "execution_count": 309
        }
      ]
    },
    {
      "cell_type": "markdown",
      "source": [
        "### ***Cálculo de las métricas**"
      ],
      "metadata": {
        "id": "C7pq1StQizam"
      }
    },
    {
      "cell_type": "code",
      "source": [
        "# @title\n",
        "confusion2 = metrics.confusion_matrix(y2_test, pred2)\n",
        "\n",
        "confusion2 # Imprimo la variable."
      ],
      "metadata": {
        "colab": {
          "base_uri": "https://localhost:8080/"
        },
        "id": "ce6VvvDDja8y",
        "outputId": "c0f53e64-0203-4557-ad94-ee19acfba362",
        "cellView": "form"
      },
      "execution_count": 310,
      "outputs": [
        {
          "output_type": "execute_result",
          "data": {
            "text/plain": [
              "array([[1308, 1120],\n",
              "       [ 472, 4355]])"
            ]
          },
          "metadata": {},
          "execution_count": 310
        }
      ]
    },
    {
      "cell_type": "code",
      "source": [
        "# @title\n",
        "(1269+4365)/(462+4365+1269)*100 # Cálculo la tasa de verdaderos positivos."
      ],
      "metadata": {
        "colab": {
          "base_uri": "https://localhost:8080/"
        },
        "id": "aYlGp6rvjvCq",
        "outputId": "e2bb0cc5-1f6c-4eb4-e6f0-b1e52cf01913",
        "cellView": "form"
      },
      "execution_count": 311,
      "outputs": [
        {
          "output_type": "execute_result",
          "data": {
            "text/plain": [
              "92.42125984251969"
            ]
          },
          "metadata": {},
          "execution_count": 311
        }
      ]
    },
    {
      "cell_type": "code",
      "source": [
        "# @title\n",
        "# Calculo el accuracy\n",
        "accuracy2 = metrics.accuracy_score(y2_test, pred2)\n",
        "\n",
        "accuracy2 # Imprimo la variable."
      ],
      "metadata": {
        "colab": {
          "base_uri": "https://localhost:8080/"
        },
        "id": "EGfHKnEKkDHG",
        "outputId": "6ee1b7ce-8ca1-473e-e2aa-ceff30e4a3f4",
        "cellView": "form"
      },
      "execution_count": 312,
      "outputs": [
        {
          "output_type": "execute_result",
          "data": {
            "text/plain": [
              "0.780565127498277"
            ]
          },
          "metadata": {},
          "execution_count": 312
        }
      ]
    },
    {
      "cell_type": "code",
      "source": [
        "# @title\n",
        "# Imprimo el informe de clasificación para evaluar el rendimiento del modelo.\n",
        "print(metrics.classification_report(y2_test, pred2))"
      ],
      "metadata": {
        "colab": {
          "base_uri": "https://localhost:8080/"
        },
        "id": "v1oSvxBPkOON",
        "outputId": "6149f9d7-13d5-46df-a295-f740f3bac48e",
        "cellView": "form"
      },
      "execution_count": 313,
      "outputs": [
        {
          "output_type": "stream",
          "name": "stdout",
          "text": [
            "              precision    recall  f1-score   support\n",
            "\n",
            "    Canceled       0.73      0.54      0.62      2428\n",
            "Not_Canceled       0.80      0.90      0.85      4827\n",
            "\n",
            "    accuracy                           0.78      7255\n",
            "   macro avg       0.77      0.72      0.73      7255\n",
            "weighted avg       0.78      0.78      0.77      7255\n",
            "\n"
          ]
        }
      ]
    },
    {
      "cell_type": "markdown",
      "source": [
        "### ***Se grafica la curva de aprendizaje para visualizar si el modelo tiene underfitting u overfitting.**"
      ],
      "metadata": {
        "id": "A9VAYUOckYo_"
      }
    },
    {
      "cell_type": "code",
      "source": [
        "# @title\n",
        "train_sizes2, train_scores2, test_scores2 = learning_curve(rl, X2_train, y2_train, cv=5, scoring='accuracy', train_sizes=np.linspace(0.1, 1.0, 10))"
      ],
      "metadata": {
        "id": "bYFHqMdTkkw1",
        "cellView": "form"
      },
      "execution_count": 314,
      "outputs": []
    },
    {
      "cell_type": "code",
      "source": [
        "# @title\n",
        "# Todos los cálculos son guardados en variables.\n",
        "train_scores_mean2 = np.mean(train_scores2, axis=1)\n",
        "train_scores_std2 = np.std(train_scores2, axis=1)\n",
        "test_scores_mean2 = np.mean(test_scores2, axis=1) # Realizo el mismo procedimiento que con \"train_scores\"\n",
        "test_scores_std2 = np.std(test_scores2, axis=1) # Realizo el mismo procedimiento que con \"train_scores\""
      ],
      "metadata": {
        "id": "QqY2r4JalQ2G",
        "cellView": "form"
      },
      "execution_count": 315,
      "outputs": []
    },
    {
      "cell_type": "code",
      "source": [
        "# @title\n",
        "plt.figure(figsize=(8, 4)) # Creo la figura vacia.\n",
        "plt.fill_between(train_sizes2, train_scores_mean2 - train_scores_std2, train_scores_mean2 + train_scores_std2, alpha=0.1, color=\"r\")\n",
        "plt.fill_between(train_sizes2, test_scores_mean2 - test_scores_std2, test_scores_mean2 + test_scores_std2, alpha=0.1, color=\"g\")\n",
        "plt.plot(train_sizes2, train_scores_mean2, 'o-', color=\"r\", label=\"Training score\")\n",
        "plt.plot(train_sizes2, test_scores_mean2, 'o-', color=\"g\", label=\"Cross-validation score\")\n",
        "plt.xlabel(\"Training score\") # Agrego una etiqueta al eje x.\n",
        "plt.ylabel(\"Score\") # Agrego una etiqueta al eje y.\n",
        "plt.legend(loc=\"best\") # Agrego una leyenda al gráfico para mostrar las asociaciones entre etiquetas y series de datos. loc=\"best\" : Ubicación de la leyenda en el gráfico.\n",
        "plt.show() # Muestro el gráfico."
      ],
      "metadata": {
        "colab": {
          "base_uri": "https://localhost:8080/",
          "height": 396
        },
        "cellView": "form",
        "id": "DcdL9taloE9x",
        "outputId": "bbdf3c28-13a2-472f-d4e7-30617a4af271"
      },
      "execution_count": 316,
      "outputs": [
        {
          "output_type": "display_data",
          "data": {
            "text/plain": [
              "<Figure size 800x400 with 1 Axes>"
            ],
            "image/png": "[encoded data removed]"
          },
          "metadata": {}
        }
      ]
    },
    {
      "cell_type": "markdown",
      "source": [
        "### **El modelo de Regresión Logística con la nueva variable \"caract\" y con la optimización de hiperparámetros \"GidSearchCv parece funcionar mejor que los modelos anteriores, ya que las métricas dan mejores resultados y el modelo no memoriza los datos. La curva de aprendizaje nos deja ver que el modelo acierta los datos de manera correcta y sin overfitearse.**"
      ],
      "metadata": {
        "id": "d1d8aSIFmfEh"
      }
    },
    {
      "cell_type": "markdown",
      "source": [
        "##**Cross Validation**"
      ],
      "metadata": {
        "id": "ilDx4iLIyaqX"
      }
    },
    {
      "cell_type": "code",
      "source": [
        "# @title\n",
        "#Importo KFold para hacer la validación cruzada\n",
        "from sklearn.model_selection import KFold"
      ],
      "metadata": {
        "id": "0CCn1KU2pLeU",
        "cellView": "form"
      },
      "execution_count": 317,
      "outputs": []
    },
    {
      "cell_type": "code",
      "source": [
        "# @title\n",
        "# Defino el número de \"folds\" para la validación cruzada\n",
        "num_folds = 5\n",
        "\n",
        "# Creo un objeto de validación cruzada k-fold\n",
        "kf = KFold(n_splits=num_folds, shuffle=True)\n",
        "\n",
        "# Creo una lista para almacenar las métricas de rendimiento de cada iteración\n",
        "accuracy_scoresk2 = []\n"
      ],
      "metadata": {
        "id": "-5V7DsK7pQMR",
        "cellView": "form"
      },
      "execution_count": 318,
      "outputs": []
    },
    {
      "cell_type": "markdown",
      "source": [
        "**Iteración 1**"
      ],
      "metadata": {
        "id": "JfeO9YIh1oTe"
      }
    },
    {
      "cell_type": "code",
      "source": [
        "# @title\n",
        "# Itero sobre los \"folds\" generados por la validación cruzada\n",
        "for fold_idx, (train_index, test_index) in enumerate(kf.split(X2)):\n",
        "\n",
        "    # Divido los datos en conjuntos de entrenamiento y prueba\n",
        "    X2_traink, X2_testk = X2.iloc[train_index], X2.iloc[test_index]\n",
        "    Y2_traink, Y2_testk = Y2.iloc[train_index], Y2.iloc[test_index]"
      ],
      "metadata": {
        "id": "JTcmddnkvd3l",
        "cellView": "form"
      },
      "execution_count": 319,
      "outputs": []
    },
    {
      "cell_type": "code",
      "source": [
        "# @title\n",
        "# Entreno el modelo de regresión logística.\n",
        "rl.fit(X2_traink, Y2_traink)"
      ],
      "metadata": {
        "colab": {
          "base_uri": "https://localhost:8080/",
          "height": 75
        },
        "id": "lcjyVGNbwQz2",
        "outputId": "b3e2de41-d704-429e-adc9-23aca14869f1",
        "cellView": "form"
      },
      "execution_count": 320,
      "outputs": [
        {
          "output_type": "execute_result",
          "data": {
            "text/plain": [
              "LogisticRegression(C=0.1, solver='liblinear')"
            ],
            "text/html": [
              "<style>#sk-container-id-11 {color: black;background-color: white;}#sk-container-id-11 pre{padding: 0;}#sk-container-id-11 div.sk-toggleable {background-color: white;}#sk-container-id-11 label.sk-toggleable__label {cursor: pointer;display: block;width: 100%;margin-bottom: 0;padding: 0.3em;box-sizing: border-box;text-align: center;}#sk-container-id-11 label.sk-toggleable__label-arrow:before {content: \"▸\";float: left;margin-right: 0.25em;color: #696969;}#sk-container-id-11 label.sk-toggleable__label-arrow:hover:before {color: black;}#sk-container-id-11 div.sk-estimator:hover label.sk-toggleable__label-arrow:before {color: black;}#sk-container-id-11 div.sk-toggleable__content {max-height: 0;max-width: 0;overflow: hidden;text-align: left;background-color: #f0f8ff;}#sk-container-id-11 div.sk-toggleable__content pre {margin: 0.2em;color: black;border-radius: 0.25em;background-color: #f0f8ff;}#sk-container-id-11 input.sk-toggleable__control:checked~div.sk-toggleable__content {max-height: 200px;max-width: 100%;overflow: auto;}#sk-container-id-11 input.sk-toggleable__control:checked~label.sk-toggleable__label-arrow:before {content: \"▾\";}#sk-container-id-11 div.sk-estimator input.sk-toggleable__control:checked~label.sk-toggleable__label {background-color: #d4ebff;}#sk-container-id-11 div.sk-label input.sk-toggleable__control:checked~label.sk-toggleable__label {background-color: #d4ebff;}#sk-container-id-11 input.sk-hidden--visually {border: 0;clip: rect(1px 1px 1px 1px);clip: rect(1px, 1px, 1px, 1px);height: 1px;margin: -1px;overflow: hidden;padding: 0;position: absolute;width: 1px;}#sk-container-id-11 div.sk-estimator {font-family: monospace;background-color: #f0f8ff;border: 1px dotted black;border-radius: 0.25em;box-sizing: border-box;margin-bottom: 0.5em;}#sk-container-id-11 div.sk-estimator:hover {background-color: #d4ebff;}#sk-container-id-11 div.sk-parallel-item::after {content: \"\";width: 100%;border-bottom: 1px solid gray;flex-grow: 1;}#sk-container-id-11 div.sk-label:hover label.sk-toggleable__label {background-color: #d4ebff;}#sk-container-id-11 div.sk-serial::before {content: \"\";position: absolute;border-left: 1px solid gray;box-sizing: border-box;top: 0;bottom: 0;left: 50%;z-index: 0;}#sk-container-id-11 div.sk-serial {display: flex;flex-direction: column;align-items: center;background-color: white;padding-right: 0.2em;padding-left: 0.2em;position: relative;}#sk-container-id-11 div.sk-item {position: relative;z-index: 1;}#sk-container-id-11 div.sk-parallel {display: flex;align-items: stretch;justify-content: center;background-color: white;position: relative;}#sk-container-id-11 div.sk-item::before, #sk-container-id-11 div.sk-parallel-item::before {content: \"\";position: absolute;border-left: 1px solid gray;box-sizing: border-box;top: 0;bottom: 0;left: 50%;z-index: -1;}#sk-container-id-11 div.sk-parallel-item {display: flex;flex-direction: column;z-index: 1;position: relative;background-color: white;}#sk-container-id-11 div.sk-parallel-item:first-child::after {align-self: flex-end;width: 50%;}#sk-container-id-11 div.sk-parallel-item:last-child::after {align-self: flex-start;width: 50%;}#sk-container-id-11 div.sk-parallel-item:only-child::after {width: 0;}#sk-container-id-11 div.sk-dashed-wrapped {border: 1px dashed gray;margin: 0 0.4em 0.5em 0.4em;box-sizing: border-box;padding-bottom: 0.4em;background-color: white;}#sk-container-id-11 div.sk-label label {font-family: monospace;font-weight: bold;display: inline-block;line-height: 1.2em;}#sk-container-id-11 div.sk-label-container {text-align: center;}#sk-container-id-11 div.sk-container {/* jupyter's `normalize.less` sets `[hidden] { display: none; }` but bootstrap.min.css set `[hidden] { display: none !important; }` so we also need the `!important` here to be able to override the default hidden behavior on the sphinx rendered scikit-learn.org. See: https://github.com/scikit-learn/scikit-learn/issues/21755 */display: inline-block !important;position: relative;}#sk-container-id-11 div.sk-text-repr-fallback {display: none;}</style><div id=\"sk-container-id-11\" class=\"sk-top-container\"><div class=\"sk-text-repr-fallback\"><pre>LogisticRegression(C=0.1, solver=&#x27;liblinear&#x27;)</pre><b>In a Jupyter environment, please rerun this cell to show the HTML representation or trust the notebook. <br />On GitHub, the HTML representation is unable to render, please try loading this page with nbviewer.org.</b></div><div class=\"sk-container\" hidden><div class=\"sk-item\"><div class=\"sk-estimator sk-toggleable\"><input class=\"sk-toggleable__control sk-hidden--visually\" id=\"sk-estimator-id-19\" type=\"checkbox\" checked><label for=\"sk-estimator-id-19\" class=\"sk-toggleable__label sk-toggleable__label-arrow\">LogisticRegression</label><div class=\"sk-toggleable__content\"><pre>LogisticRegression(C=0.1, solver=&#x27;liblinear&#x27;)</pre></div></div></div></div></div>"
            ]
          },
          "metadata": {},
          "execution_count": 320
        }
      ]
    },
    {
      "cell_type": "code",
      "source": [
        "# @title\n",
        "# Realizo predicciones en el conjunto de prueba\n",
        "y_predict2 = rl.predict(X2_testk)"
      ],
      "metadata": {
        "id": "SmpECAlowoTa",
        "cellView": "form"
      },
      "execution_count": 321,
      "outputs": []
    },
    {
      "cell_type": "code",
      "source": [
        "# @title\n",
        "# Calculo la precisión del modelo y la almaceno en la lista de métricas\n",
        "accuracyk2 = accuracy_score(Y2_testk, y_predict2)\n",
        "accuracy_scoresk2.append(accuracyk2)\n",
        "print(\"Precisión:\", accuracyk2)"
      ],
      "metadata": {
        "colab": {
          "base_uri": "https://localhost:8080/"
        },
        "id": "c_f3uzajq8Dg",
        "outputId": "1aaab75e-487c-477a-f43e-ee55d2cc0b62",
        "cellView": "form"
      },
      "execution_count": 322,
      "outputs": [
        {
          "output_type": "stream",
          "name": "stdout",
          "text": [
            "Precisión: 0.7818056512749828\n"
          ]
        }
      ]
    },
    {
      "cell_type": "markdown",
      "source": [
        "**Iteración 2**"
      ],
      "metadata": {
        "id": "SBnci7Ua12pq"
      }
    },
    {
      "cell_type": "code",
      "source": [
        "# @title\n",
        "# Itero sobre los \"folds\" generados por la validación cruzada\n",
        "for fold_idx, (train_index, test_index) in enumerate(kf.split(X2)):\n",
        "\n",
        "    # Divido los datos en conjuntos de entrenamiento y prueba\n",
        "    X2_traink, X2_testk = X2.iloc[train_index], X2.iloc[test_index]\n",
        "    Y2_traink, Y2_testk = Y2.iloc[train_index], Y2.iloc[test_index]\n",
        "\n",
        "# Entreno el modelo de regresión logística.\n",
        "modelo.fit(X2_traink, Y2_traink)\n",
        "\n",
        "# Realizo predicciones en el conjunto de prueba\n",
        "y_predict2 = modelo.predict(X2_testk)\n",
        "\n",
        "# Calculo la precisión del modelo y la almaceno en la lista de métricas\n",
        "accuracyk2 = accuracy_score(Y2_testk, y_predict2)\n",
        "accuracy_scoresk2.append(accuracyk2)\n",
        "print(\"Precisión:\", accuracyk2)"
      ],
      "metadata": {
        "colab": {
          "base_uri": "https://localhost:8080/"
        },
        "id": "rBRswI261-LL",
        "outputId": "8233a62b-5512-4716-d492-9fb519cb26e1",
        "cellView": "form"
      },
      "execution_count": 323,
      "outputs": [
        {
          "output_type": "stream",
          "name": "stdout",
          "text": [
            "Precisión: 0.7833218470020675\n"
          ]
        },
        {
          "output_type": "stream",
          "name": "stderr",
          "text": [
            "/usr/local/lib/python3.10/dist-packages/sklearn/linear_model/_logistic.py:458: ConvergenceWarning: lbfgs failed to converge (status=1):\n",
            "STOP: TOTAL NO. of ITERATIONS REACHED LIMIT.\n",
            "\n",
            "Increase the number of iterations (max_iter) or scale the data as shown in:\n",
            "    https://scikit-learn.org/stable/modules/preprocessing.html\n",
            "Please also refer to the documentation for alternative solver options:\n",
            "    https://scikit-learn.org/stable/modules/linear_model.html#logistic-regression\n",
            "  n_iter_i = _check_optimize_result(\n"
          ]
        }
      ]
    },
    {
      "cell_type": "markdown",
      "source": [
        "**Iteración 3**"
      ],
      "metadata": {
        "id": "cCjnLPc_2PPU"
      }
    },
    {
      "cell_type": "code",
      "source": [
        "# @title\n",
        "# Itero sobre los \"folds\" generados por la validación cruzada\n",
        "for fold_idx, (train_index, test_index) in enumerate(kf.split(X2)):\n",
        "\n",
        "    # Divido los datos en conjuntos de entrenamiento y prueba\n",
        "    X2_traink, X2_testk = X2.iloc[train_index], X2.iloc[test_index]\n",
        "    Y2_traink, Y2_testk = Y2.iloc[train_index], Y2.iloc[test_index]\n",
        "\n",
        "# Entreno el modelo de regresión logística.\n",
        "modelo.fit(X2_traink, Y2_traink)\n",
        "\n",
        "# Realizo predicciones en el conjunto de prueba\n",
        "y_predict2 = modelo.predict(X2_testk)\n",
        "\n",
        "# Calculo la precisión del modelo y la almaceno en la lista de métricas\n",
        "accuracyk2 = accuracy_score(Y2_testk, y_predict2)\n",
        "accuracy_scoresk2.append(accuracyk2)\n",
        "print(\"Precisión:\", accuracyk2)"
      ],
      "metadata": {
        "colab": {
          "base_uri": "https://localhost:8080/"
        },
        "id": "p7kgZ5y62Ok3",
        "outputId": "fa3b72a4-7e14-436c-806b-e06e7ff0563c",
        "cellView": "form"
      },
      "execution_count": 324,
      "outputs": [
        {
          "output_type": "stream",
          "name": "stdout",
          "text": [
            "Precisión: 0.7881461061337008\n"
          ]
        },
        {
          "output_type": "stream",
          "name": "stderr",
          "text": [
            "/usr/local/lib/python3.10/dist-packages/sklearn/linear_model/_logistic.py:458: ConvergenceWarning: lbfgs failed to converge (status=1):\n",
            "STOP: TOTAL NO. of ITERATIONS REACHED LIMIT.\n",
            "\n",
            "Increase the number of iterations (max_iter) or scale the data as shown in:\n",
            "    https://scikit-learn.org/stable/modules/preprocessing.html\n",
            "Please also refer to the documentation for alternative solver options:\n",
            "    https://scikit-learn.org/stable/modules/linear_model.html#logistic-regression\n",
            "  n_iter_i = _check_optimize_result(\n"
          ]
        }
      ]
    },
    {
      "cell_type": "markdown",
      "source": [
        "**Iteración 4**"
      ],
      "metadata": {
        "id": "W-Gjd0Wv2V9s"
      }
    },
    {
      "cell_type": "code",
      "source": [
        "# @title\n",
        "# Itero sobre los \"folds\" generados por la validación cruzada\n",
        "for fold_idx, (train_index, test_index) in enumerate(kf.split(X2)):\n",
        "\n",
        "    # Divido los datos en conjuntos de entrenamiento y prueba\n",
        "    X2_traink, X2_testk = X2.iloc[train_index], X2.iloc[test_index]\n",
        "    Y2_traink, Y2_testk = Y2.iloc[train_index], Y2.iloc[test_index]\n",
        "\n",
        "# Entreno el modelo de regresión logística.\n",
        "modelo.fit(X2_traink, Y2_traink)\n",
        "\n",
        "# Realizo predicciones en el conjunto de prueba\n",
        "y_predict2 = modelo.predict(X2_testk)\n",
        "\n",
        "# Calculo la precisión del modelo y la almaceno en la lista de métricas\n",
        "accuracyk2 = accuracy_score(Y2_testk, y_predict2)\n",
        "accuracy_scoresk2.append(accuracyk2)\n",
        "print(\"Precisión:\", accuracyk2)"
      ],
      "metadata": {
        "colab": {
          "base_uri": "https://localhost:8080/"
        },
        "id": "hP_xsRyI2VoZ",
        "outputId": "5ac68a2e-ddfc-4271-a682-de471570111b",
        "cellView": "form"
      },
      "execution_count": 325,
      "outputs": [
        {
          "output_type": "stream",
          "name": "stdout",
          "text": [
            "Precisión: 0.788697450034459\n"
          ]
        },
        {
          "output_type": "stream",
          "name": "stderr",
          "text": [
            "/usr/local/lib/python3.10/dist-packages/sklearn/linear_model/_logistic.py:458: ConvergenceWarning: lbfgs failed to converge (status=1):\n",
            "STOP: TOTAL NO. of ITERATIONS REACHED LIMIT.\n",
            "\n",
            "Increase the number of iterations (max_iter) or scale the data as shown in:\n",
            "    https://scikit-learn.org/stable/modules/preprocessing.html\n",
            "Please also refer to the documentation for alternative solver options:\n",
            "    https://scikit-learn.org/stable/modules/linear_model.html#logistic-regression\n",
            "  n_iter_i = _check_optimize_result(\n"
          ]
        }
      ]
    },
    {
      "cell_type": "markdown",
      "source": [
        "**Iteración 5**"
      ],
      "metadata": {
        "id": "eaJ05XxI2brt"
      }
    },
    {
      "cell_type": "code",
      "source": [
        "# @title\n",
        "# Itero sobre los \"folds\" generados por la validación cruzada\n",
        "for fold_idx, (train_index, test_index) in enumerate(kf.split(X2)):\n",
        "\n",
        "    # Divido los datos en conjuntos de entrenamiento y prueba\n",
        "    X2_traink, X2_testk = X2.iloc[train_index], X2.iloc[test_index]\n",
        "    Y2_traink, Y2_testk = Y2.iloc[train_index], Y2.iloc[test_index]\n",
        "\n",
        "# Entreno el modelo de regresión logística.\n",
        "modelo.fit(X2_traink, Y2_traink)\n",
        "\n",
        "# Realizo predicciones en el conjunto de prueba\n",
        "y_predict2 = modelo.predict(X2_testk)\n",
        "\n",
        "# Calculo la precisión del modelo y la almaceno en la lista de métricas\n",
        "accuracyk2 = accuracy_score(Y2_testk, y_predict2)\n",
        "accuracy_scoresk2.append(accuracyk2)\n",
        "print(\"Precisión:\", accuracyk2)"
      ],
      "metadata": {
        "colab": {
          "base_uri": "https://localhost:8080/"
        },
        "id": "AQPQICJ22bGr",
        "outputId": "becc60b2-e8e0-4aed-dd3e-c778c3f41688",
        "cellView": "form"
      },
      "execution_count": 326,
      "outputs": [
        {
          "output_type": "stream",
          "name": "stdout",
          "text": [
            "Precisión: 0.7834596829772571\n"
          ]
        },
        {
          "output_type": "stream",
          "name": "stderr",
          "text": [
            "/usr/local/lib/python3.10/dist-packages/sklearn/linear_model/_logistic.py:458: ConvergenceWarning: lbfgs failed to converge (status=1):\n",
            "STOP: TOTAL NO. of ITERATIONS REACHED LIMIT.\n",
            "\n",
            "Increase the number of iterations (max_iter) or scale the data as shown in:\n",
            "    https://scikit-learn.org/stable/modules/preprocessing.html\n",
            "Please also refer to the documentation for alternative solver options:\n",
            "    https://scikit-learn.org/stable/modules/linear_model.html#logistic-regression\n",
            "  n_iter_i = _check_optimize_result(\n"
          ]
        }
      ]
    },
    {
      "cell_type": "code",
      "source": [
        "# @title\n",
        "# Imprimo los resultados de accuracy de todas las iteraciones\n",
        "accuracy_scoresk2"
      ],
      "metadata": {
        "colab": {
          "base_uri": "https://localhost:8080/"
        },
        "id": "HmdbV-ka2gOA",
        "outputId": "f6960c3f-42f6-4504-e2ee-6734702718b0",
        "cellView": "form"
      },
      "execution_count": 327,
      "outputs": [
        {
          "output_type": "execute_result",
          "data": {
            "text/plain": [
              "[0.7818056512749828,\n",
              " 0.7833218470020675,\n",
              " 0.7881461061337008,\n",
              " 0.788697450034459,\n",
              " 0.7834596829772571]"
            ]
          },
          "metadata": {},
          "execution_count": 327
        }
      ]
    },
    {
      "cell_type": "code",
      "source": [
        "# @title\n",
        "# Calculo la precisión promedio\n",
        "avg_accuracy = np.mean(accuracy_scoresk2)\n",
        "print(\"Precisión promedio:\", avg_accuracy)"
      ],
      "metadata": {
        "colab": {
          "base_uri": "https://localhost:8080/"
        },
        "id": "p_11mfRm2mfQ",
        "outputId": "970e0ab3-d562-4a03-e6bc-82b5a7e73297",
        "cellView": "form"
      },
      "execution_count": 328,
      "outputs": [
        {
          "output_type": "stream",
          "name": "stdout",
          "text": [
            "Precisión promedio: 0.7850861474844935\n"
          ]
        }
      ]
    },
    {
      "cell_type": "markdown",
      "source": [
        "### **El modelo tiene un rendimiento del 78% en promedio en los datos de prueba en diferentes divisiones de la validación cruzada.**"
      ],
      "metadata": {
        "id": "256HhMBgzsNC"
      }
    },
    {
      "cell_type": "markdown",
      "source": [
        "### **INSIGHTS.**\n",
        "\n",
        "*  La cantidad de reservas canceladas son 11885, guardadas en la variable “rescan”.\n",
        "*  La columna “booking_status” que refiere al estado de la reserva, es la variable target.\n",
        "*  Se creó la columna “huéspedes” para agrupar los huéspedes adultos y los niños.\n",
        "*  La columna “arrival month” que refiere al mes de la reserva, nos ayudará a poder filtrar el mes con más demanda de reservas.\n",
        "*  La columna “market_segment_type” nos marca por qué medio, el cliente, realizó la reserva. Esto nos ayuda a ver de dónde provienen las reservas que son canceladas.\n",
        "*  “Online” es la manera en que se realiza la mayor cantidad de reservas y cancelaciones.\n",
        "*  “Complementary”, “Corporate” y “Aviation” son segmentos de mercado en los que menos se realizaron reservas.\n",
        "*  Las reservas son canceladas por personas que no son clientes fijos del Hotel.\n",
        "*  **Modelos elegidos para realizar pruebas:**\n",
        "Regresión logística y Random Forest.\n",
        "\n",
        "**Resultado de métricas:**\n",
        "Regresión logistica:\n",
        "**Matríz de confusión:** array ([[ 0, 2428] [ 0, 4827]])\n",
        "**Cálculo la tasa de verdaderos positivos:** 100.0\n",
        "**Accuracy:** 0.6653342522398346\n",
        "Random Forest:\n",
        "**Recall:** 1.0\n",
        "**Accuracy:** 1.0\n",
        "*  **Modelo elegido:** Regresión Logistica\n",
        "Esta vez se realizó con la variable target y con la variable “caract” (que se creó con las características de las reservas). Además se le realizó una optimización de hiper parámetros “GridSearchCV”.\n",
        "\n",
        "**Resultado de métricas:** **Matríz de confusión:**  array([[1308, 1120][ 472, 4355]]) **Cálculo la tasa de verdaderos positivos:** 92.42125984251969 **Accuracy:** 0.780565127498277\n",
        "*   El modelo final funciona mejor que los modelos anteriores. Tiene un rendimiento del 78% en promedio en los datos de prueba en diferentes divisiones de la validación cruzada y las métricas dan mejores resultados. La curva de aprendizaje nos deja ver que el modelo acierta los datos de manera correcta y sin overfitearse.\n",
        "\n",
        "\n",
        "\n",
        "\n",
        "\n",
        "\n",
        "\n",
        "\n",
        "\n",
        "\n",
        "\n",
        "\n"
      ],
      "metadata": {
        "id": "Axnz7W8PiiLo"
      }
    }
  ]
}